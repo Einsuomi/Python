{
 "cells": [
  {
   "cell_type": "code",
   "execution_count": null,
   "metadata": {
    "id": "m28mssRGJwI3"
   },
   "outputs": [],
   "source": [
    "from bs4 import BeautifulSoup\n",
    "import requests\n",
    "import csv\n",
    "import pandas as pd\n",
    "import numpy as np\n"
   ]
  },
  {
   "cell_type": "markdown",
   "metadata": {
    "id": "Iok3Gr5gNtYq"
   },
   "source": [
    "## **Scrape booking.com data and store in csv file**"
   ]
  },
  {
   "cell_type": "code",
   "execution_count": null,
   "metadata": {
    "id": "tgeOqgUgNjfi"
   },
   "outputs": [],
   "source": [
    "csv_file = open('Hotels_booking.csv', 'w')\n",
    "csv_writer = csv.writer(csv_file)\n",
    "csv_writer.writerow([\"Hotel_Name\",\"Hotel_Rating\",\"Hotel_Address\",\"Disitance_to_CityCenter\",\"AVG_Price\",\"Review_Score\",\"Description\",\"Photo_Links\"])\n",
    "\n",
    "\n",
    "for i in range (2):\n",
    "    \n",
    "    # website page (loop 2 times)\n",
    "    url = f'https://www.booking.com/searchresults.html?ss=Venice%2C+Veneto%2C+Italy&ssne=Milan&ssne_untouched=Milan&label=gen173nr-1FCAEoggI46AdIM1gEaEiIAQGYATG4AQfIAQzYAQHoAQH4AQKIAgGoAgO4AvzgpZkGwAIB0gIkZjZhNzQzMzAtYjczOS00MTMwLTljNjgtZDE5Y2ViNTAxYTBi2AIF4AIB&sid=d335f1a46c97b0ac9153c538693ec2e2&aid=304142&lang=en-us&sb=1&src_elem=sb&src=searchresults&dest_id=-132007&dest_type=city&ac_position=0&ac_click_type=b&ac_langcode=en&ac_suggestion_list_length=5&search_selected=true&search_pageview_id=f3a537017981024d&checkin=2022-12-23&checkout=2022-12-25&group_adults=2&no_rooms=1&group_children=0&sb_travel_purpose=leisure&offset={i*25}'\n",
    "    \n",
    "    # headers\n",
    "    booking_headers = {\n",
    "    \"User-Agent\":\"Mozilla/5.0 (Macintosh; Intel Mac OS X 10_15_7) AppleWebKit/537.36 (KHTML, like Gecko) Chrome/105.0.0.0 Safari/537.36\"}\n",
    "    \n",
    "    # create source, content and soup\n",
    "    source = requests.get(url,headers=booking_headers)\n",
    "    content = source.content.decode(\"utf8\")\n",
    "    soup = BeautifulSoup(content,\"lxml\")\n",
    "    \n",
    "    # get results of one page 25 hotels\n",
    "    results = soup.find_all(\"div\",{\"class\":\"b978843432\"})\n",
    "    \n",
    "    for result in results:\n",
    "        # find hotel name\n",
    "        try:\n",
    "            hotel_name=result.find(\"div\", class_=\"fcab3ed991 a23c043802\").text\n",
    "        except:\n",
    "            hotel_name=\"n\\a\"\n",
    "\n",
    "        # Find rating\n",
    "        try:\n",
    "            hotel_rating=len(result.find_all(\"span\",{\"class\":\"b6dc9a9e69 adc357e4f1 fe621d6382\"}))\n",
    "        except:\n",
    "            hotel_rating=\"n\\a\"\n",
    "\n",
    "\n",
    "        # find Disitance_to_CityCenter\n",
    "        try:\n",
    "            Disitance_to_CityCenter=result.find(\"span\",{\"data-testid\":\"distance\"}).text\n",
    "        except:\n",
    "            Disitance_to_CityCenter=\"n\\a\"\n",
    "\n",
    "        # find hotel price\n",
    "        try:\n",
    "            hotel_price=result.find(\"span\",class_=\"fcab3ed991 bd73d13072\").text\n",
    "        except:\n",
    "            hotel_price=\"n\\a\"\n",
    "\n",
    "\n",
    "        # find review score\n",
    "        try:\n",
    "            hotel_review_score=result.find(\"div\", class_=\"b5cd09854e d10a6220b4\").text\n",
    "        except:\n",
    "            hotel_review_score=\"n\\a\"\n",
    "\n",
    "        # find address & description in the next page(in specific hotel page)\n",
    "\n",
    "        ## find the specific hotel page link and create another soup object.\n",
    "        hotel_url = result.find(\"h3\",class_=\"a4225678b2\").a.get(\"href\")\n",
    "        hotel_headers = {\n",
    "        \"User-Agent\":\"Mozilla/5.0 (Macintosh; Intel Mac OS X 10_15_7) AppleWebKit/537.36 (KHTML, like Gecko) Chrome/105.0.0.0 Safari/537.36\"}\n",
    "\n",
    "        hotel_source = requests.get(hotel_url,headers=hotel_headers)\n",
    "        hotel_content = hotel_source.content.decode(\"utf8\")\n",
    "        hotel_soup = BeautifulSoup(hotel_content,\"lxml\")\n",
    "\n",
    "        # find address\n",
    "        try:\n",
    "            hotel_address = hotel_soup.find(\"span\",class_=\"hp_address_subtitle js-hp_address_subtitle jq_tooltip\").text.strip()\n",
    "        except:\n",
    "             hotel_address =\"n\\a\"\n",
    "\n",
    "        # find description\n",
    "        try:\n",
    "            hotel_description=hotel_soup.find(\"div\",id=\"property_description_content\").text.strip().replace(\"\\n\",\" \")\n",
    "        except:\n",
    "            hotel_description=\"n\\a\"\n",
    "\n",
    "        # photo link\n",
    "        results_2 = hotel_soup.find(\"div\",{\"class\":\"nha_large_photo_main_content nha_large_photo_extra_height hp_gallery_buttons_redesign hp_gallery_buttons_redesign_var2\"}).find_all(\"a\")\n",
    "        photo_link = []\n",
    "        for result in results_2[1:7]:\n",
    "            try:\n",
    "                photo_link.append(result.img.get(\"src\"))\n",
    "            except:\n",
    "                photo_link.append(\"n\\a\")\n",
    "                \n",
    "                \n",
    "        csv_writer.writerow([hotel_name,hotel_rating, hotel_address, Disitance_to_CityCenter, hotel_price,hotel_review_score,hotel_description,photo_link])\n",
    "\n",
    "csv_file.close()\n",
    "\n"
   ]
  },
  {
   "cell_type": "code",
   "execution_count": null,
   "metadata": {
    "colab": {
     "base_uri": "https://localhost:8080/",
     "height": 424
    },
    "id": "N1iPqOSIZjKm",
    "outputId": "9e69f550-7e97-4d14-d6d3-5d66df76512a"
   },
   "outputs": [],
   "source": [
    "booking=pd.read_csv(\"Hotels_booking.csv\")\n",
    "booking.head()"
   ]
  },
  {
   "cell_type": "code",
   "execution_count": null,
   "metadata": {
    "colab": {
     "base_uri": "https://localhost:8080/"
    },
    "id": "h9Av_aN0jqB2",
    "outputId": "cb06e517-966e-4aa7-cb05-9f9076e68fb1"
   },
   "outputs": [],
   "source": [
    "booking.info()"
   ]
  },
  {
   "cell_type": "markdown",
   "metadata": {
    "id": "rMpZQv1IHuSG"
   },
   "source": [
    "## **Scrape expedia.com data and store in csv file**\n",
    "\n"
   ]
  },
  {
   "cell_type": "code",
   "execution_count": null,
   "metadata": {},
   "outputs": [],
   "source": [
    "\n",
    "headers = {\n",
    "    \"authority\": \"www.expedia.fi\",\n",
    "    \"accept\": \"text/html,application/xhtml+xml,application/xml;q=0.9,image/avif,image/webp,image/apng,*/*;q=0.8,application/signed-exchange;v=b3;q=0.9\",\n",
    "    \"accept-language\": \"en,zh-CN;q=0.9,zh;q=0.8,fi;q=0.7,sv;q=0.6,en-US;q=0.5\",\n",
    "    \"referer\": \"https://www.expedia.fi/en/?currency=EUR&langid=2057&siteid=73\",\n",
    "    \"sec-ch-ua\": \"\\\"Google Chrome\\\";v=\\\"107\\\", \\\"Chromium\\\";v=\\\"107\\\", \\\"Not=A?Brand\\\";v=\\\"24\\\"\",\n",
    "    \"sec-ch-ua-mobile\": \"?0\",\n",
    "    \"sec-ch-ua-platform\": \"\\\"macOS\\\"\",\n",
    "    \"sec-fetch-dest\": \"document\",\n",
    "    \"sec-fetch-mode\": \"navigate\",\n",
    "    \"sec-fetch-site\": \"same-origin\",\n",
    "    \"sec-fetch-user\": \"?1\",\n",
    "    \"upgrade-insecure-requests\": \"1\",\n",
    "    \"user-agent\": \"Mozilla/5.0 (Macintosh; Intel Mac OS X 10_15_7) AppleWebKit/537.36 (KHTML, like Gecko) Chrome/107.0.0.0 Safari/537.36\"\n",
    "}\n",
    "cookies = {\n",
    "    \"linfo\": \"v.4,|0|0|255|1|0||||||||2057|0|0||0|0|0|-1|-1\",\n",
    "    \"CRQS\": \"t|73`s|73`l|en_GB`c|EUR\",\n",
    "    \"currency\": \"EUR\",\n",
    "    \"MC1\": \"GUID=31bdeda400ac4319b93868ff0d1cd27f\",\n",
    "    \"DUAID\": \"31bdeda4-00ac-4319-b938-68ff0d1cd27f\",\n",
    "    \"xdid\": \"c7725473-73eb-4083-bfd0-85ea95385042|1663829729|expedia.fi\",\n",
    "    \"OIP\": \"gdpr|0\",\n",
    "    \"osano_consentmanager_uuid\": \"5b7d9289-2bba-4cfe-ad91-917aa1caea9b\",\n",
    "    \"osano_consentmanager\": \"7fXGxliECCx9Ns-WZOXPp6AwH5MONvGqBhzHAqGkh_5DwRHvxIKoWuIM9HRx4JPPv1moSyIgwewQshS8HyHogn4_Z89WDLalVbwwMkpjGSfHtyf78QlLoDyIWCRM0HLsCc76UPEZ7cfDMHKkU_QJ2lnBu1PXWJhHMjaLVeYg39WNHhnHrRRDTty9tcA-3JU3hbL98BRAC0uDRJh6_wuEAOP4ltS-YbzdkNcZTuKufwCheRHirj73vO2J9xArYHsuQMKfkDxkKmVIRZNQJ7sCVVXXo40=\",\n",
    "    \"CRQSS\": \"e|0\",\n",
    "    \"iEAPID\": \"0\",\n",
    "    \"tpid\": \"v.1,73\",\n",
    "    \"HMS\": \"4a3d1f65-69df-441d-9f0a-7c908cc83803\",\n",
    "    \"_abck\": \"7F9F3D2E51544CC641845FCAEAC0780B~0~YAAQmVsDF86+zDuEAQAAp4exYAgxKYBtBqO9VmOHXaBdynm+4Bh5GfTNpddB2A6HCvJRQ/3G1Arp060osAX9IlpGCxEuMUArcKtToAAeKlAvyIAfkO8gfuh8FfnHNqCSjOeH6UxvBSCRhK8NFzOcUJLj2aCDVTC+44JVgBQd2glSaORKeHkVSm250bOyma9v/8VVlLRFyHFjGmPNCAk7nccZgwwVc/inuCBI1ulmOGw0lvei+i42GovKOsz4s4dQfjhupUi9ERJsp4hXUNTGft2CMzAuT7oa7xkpGhpTtVtJjb3+GalW/4eoWwoJmo3oyT916TerEOEpo5le21uc6oVyPsasgiPNSwdolbxpUjyGbRrH6913cKEF38WXG1wEArmVwNhWfQyj51tFdSRovIHXRmJp~-1~-1~-1\",\n",
    "    \"bm_sz\": \"904C3CCE49A16011C9A0D339D475DB0A~YAAQmVsDF9C+zDuEAQAAp4exYBE0uFJCXD3srlN1s0gXZTKPAur7pDu4mUNetKOvRIMakeVQCSIoR82MYONpbof20np5sjiIc254LfTM0Y/4kFS2A9iujajHa9ue/h1Hc24HnGjyir2mu1aW8C7h+FJGmuxVwIsz68n4tlf1GxskE9115rttccoRnViFFopE72qoZxkg2ocjwTjx3wa5g9ikpwKp+MP5yF5wYWYDfcSiliKSKt4Dd6SFFPWu/6g9uYJFnkMZw0xDTdRDW2C9TxlY6av2zJwq0T1B34gUUD6+oXI=~4536630~3420209\",\n",
    "    \"bm_mi\": \"40FCB99E5A09B736DA9F70EC11D4874C~YAAQmVsDF+O+zDuEAQAAaI6xYBGw7ucyOt2eHzWGNnZe/OpKAXgLIiUHROI78cC6DPo4KdHTmWrGa8B89PbxuntsIWbhd7PuVTKoUrGKZc6+k4bpEOvD/ByTplIo2+I9eA2hCEka0CKic1WumVYnDkss3KsNn7b+Ux5omTh0srExwIm3AaP7ENJxt7f45m1MKWbMAfjZ7C+vWAghykJKm3zPXhF+kMApGo9+RW8GWZie4H+29cuCl2wjiSVcWSdsjsFWoDRb5fgYpP+W6+FOwcNFrWj9BQCOIvaBNWU5qrFKHlBebCqM+eT2tnD2~1\",\n",
    "    \"s_ppv\": \"%5B%5BB%5D%5D\",\n",
    "    \"s_ips\": \"1\",\n",
    "    \"AMCVS_C00802BE5330A8350A490D4C%40AdobeOrg\": \"1\",\n",
    "    \"qualtrics_sample\": \"true\",\n",
    "    \"qualtrics_SI_sample\": \"true\",\n",
    "    \"ak_bmsc\": \"133B30B8558C10D04BEBA29B0239C4A1~000000000000000000000000000000~YAAQmVsDF/u+zDuEAQAAsJaxYBGjGr0fKsXciuOTVfSLQRFm1J05lYzRkdxNjOX0subn4eVmUFez8+jNBT71uo9gfgTwMVGVz+iTAJbK+0A7cdKO27sOS4vu0jKkIfKODQRLoE+mXjuKY9oV2jDWFakGn82EpkGp+wk6syqofy4EFh52CQcOS3f94ugkjgJ++OjFjirAVvX4vn2IclKe1qI+ajwkCICcB68rKijVJ1Nxj1VxHeZJhwVAbL72iqEXruJPfdQISUolzfKuQh4vnFOiOehj981fRbVGE0Ie4bGO8/fLiRpJROiTQ1MeNjXtkxTvlpBSuPAD5xeNhVbv+NcwDv/5QN4Crsyw2GY5wP+jlFSV8LCXyC1WpX9ciVlNYswToWMcC2KEKpuzUw/nCu4U737XrE6Fi4E6DEGh\",\n",
    "    \"s_cc\": \"true\",\n",
    "    \"_cls_v\": \"a0b35199-8fa8-48fe-9d32-6493367c254f\",\n",
    "    \"_cls_s\": \"1c35feeb-cf3a-4ccf-aea5-1b084cbebad6:0\",\n",
    "    \"AMCV_C00802BE5330A8350A490D4C%40AdobeOrg\": \"1585540135%7CMCIDTS%7C19307%7CMCMID%7C60926917596303044003327981066515693684%7CMCAAMLH-1668674373%7C6%7CMCAAMB-1668674373%7CRKhpRz8krg2tLO6pguXWp5olkAcUniQYPHaMWWgdJ3xzPWQmdj0y%7CMCOPTOUT-1668076773s%7CNONE%7CMCAID%7CNONE%7CvVersion%7C4.4.0%7CMCCIDH%7C-2034012538\",\n",
    "    \"session_id\": \"4a3d1f65-69df-441d-9f0a-7c908cc83803\",\n",
    "    \"page_name\": \"page.Hotel-Search\",\n",
    "    \"JSESSIONID\": \"695ED7D99D64DE8E8AD4C50A0501A947\",\n",
    "    \"s_ppn\": \"Homepage\",\n",
    "    \"CONSENTMGR\": \"ts:1668069973341%7Cconsent:false\",\n",
    "    \"utag_main\": \"v_id:018460b19623004ec3173560224805075003d06d0093c$_sn:1$_se:3$_ss:0$_st:1668071773362$ses_id:1668069561893%3Bexp-session$_pn:3%3Bexp-session\",\n",
    "    \"s_tp\": \"3045\",\n",
    "    \"cesc\": \"%7B%22marketingClick%22%3A%5B%22false%22%2C1668069976558%5D%2C%22hitNumber%22%3A%5B%229%22%2C1668069976558%5D%2C%22visitNumber%22%3A%5B%225%22%2C1668069559888%5D%2C%22cidVisit%22%3A%5B%22Brand.DTI%22%2C1668069976558%5D%2C%22entryPage%22%3A%5B%22Homepage%22%2C1668069976558%5D%2C%22cid%22%3A%5B%22Brand.DTI%22%2C1668069590261%5D%7D\",\n",
    "    \"bm_sv\": \"67EE88D244B95E12300A1B0B4050666F~YAAQmVsDF6nPzDuEAQAAYUa4YBE+cCpdSTOLBHst7s7Lmj11bHQXaO/pIBk080waiqQpdF+NR6ihjxUQcVXTHl0T6NuNATP7MPMmD1aXeuMBS0cJG2DFfzvCcMwF3iCIc3pr/cDtWlAjbji7SDtYhgjkURU/5gLvCHZEl0cKkDqEdPEznv/A5gpd0AtJUYx0ExamKA5ZAKFWGxygVjFA/qmdoxHNqCpRe7I+f49TMEZiqWBierGbnwisGKBVlm19zw==~1\"\n",
    "}\n",
    "url = \"https://www.expedia.fi/Hotel-Search\"\n",
    "params = {\n",
    "    \"destination\": \"Venice\",\n",
    "    \"startDate\": \"2022-12-23\",\n",
    "    \"endDate\": \"2022-12-25\",\n",
    "    \"d1\": \"2022-12-23\",\n",
    "    \"d2\": \"2022-12-25\",\n",
    "    \"rooms\": \"1\",\n",
    "    \"adults\": \"2\",\n",
    "    \"regionId\": \"179981\",\n",
    "    \"latLong\": \"45.434031,12.338332\"\n",
    "}\n",
    "response = requests.get(url, headers=headers, cookies=cookies, params=params)\n",
    "\n",
    "# print(response.text)\n",
    "# print(response)"
   ]
  },
  {
   "cell_type": "code",
   "execution_count": null,
   "metadata": {},
   "outputs": [],
   "source": [
    "content = response.content.decode(\"utf8\")\n",
    "soup = BeautifulSoup(content,\"lxml\")\n",
    "results = soup.find_all(\"div\",{\"class\":\"uitk-card uitk-card-roundcorner-all uitk-card-has-primary-theme\"})\n",
    "print (len(results))\n"
   ]
  },
  {
   "cell_type": "code",
   "execution_count": null,
   "metadata": {
    "colab": {
     "base_uri": "https://localhost:8080/"
    },
    "id": "jzI9e9HcHwwa",
    "outputId": "11df992f-d3cf-4dbb-9ccd-7c4386818885"
   },
   "outputs": [],
   "source": [
    "\n",
    "csv_file = open('Hotels_expedia.csv', 'w')\n",
    "csv_writer = csv.writer(csv_file)\n",
    "csv_writer.writerow([\"Hotel_Name\",\"Hotel_Rating\",\"Hotel_Address\",\"Disitance_to_CityCenter\",\"AVG_Price\",\"Review_Score\",\"Description\",\"Photo_Links\"])\n",
    "\n",
    "\n",
    "\n",
    "\n",
    "for result in results:\n",
    "    # find hotel name\n",
    "    try:\n",
    "        hotel_name=result.find(\"h2\", class_=\"uitk-heading uitk-heading-5 overflow-wrap\").text\n",
    "    except:\n",
    "        hotel_name=\"n\\a\"\n",
    "        \n",
    "    # find hotel price\n",
    "    try:\n",
    "        hotel_price=result.find(\"div\",class_=\"uitk-text uitk-type-600 uitk-type-bold uitk-text-emphasis-theme\").text\n",
    "    except:\n",
    "        hotel_price=\"n\\a\"\n",
    "        \n",
    "    # find review score\n",
    "    try:\n",
    "        hotel_review_score=result.find(\"span\",{\"class\":\"uitk-text uitk-type-300 uitk-type-bold uitk-text-default-theme\"}).text\n",
    "    except:\n",
    "        hotel_review_score=\"n\\a\"\n",
    "        \n",
    "        \n",
    "    # specific hotel page   \n",
    "    root = \"https://www.expedia.fi/en\"\n",
    "\n",
    "    hotel_url = root+result.find(\"a\",{\"data-stid\":\"open-hotel-information\"})[\"href\"]\n",
    "    hotel_headers = {\n",
    "        \"User-Agent\":\"Mozilla/5.0 (Macintosh; Intel Mac OS X 10_15_7) AppleWebKit/537.36 (KHTML, like Gecko) Chrome/105.0.0.0 Safari/537.36\"}\n",
    "\n",
    "\n",
    "    hotel_source = requests.get(hotel_url,headers=hotel_headers)\n",
    "    hotel_content = hotel_source.content.decode(\"utf8\")\n",
    "    hotel_soup = BeautifulSoup(hotel_content,\"lxml\")\n",
    "\n",
    "\n",
    "        \n",
    "    # Find rating\n",
    "    try:\n",
    "        hotel_rating=hotel_soup.find(\"div\",{\"class\":\"uitk-rating\"}).span.text\n",
    "    except:\n",
    "        hotel_rating=\"n\\a\"\n",
    "        \n",
    "    \n",
    "    # find Disitance_to_CityCenter\n",
    "    try:\n",
    "        Disitance_to_CityCenter=hotel_soup.find(\"span\",{\"class\":\"uitk-layout-flex-item uitk-layout-flex-item-flex-shrink-0\"}).text\n",
    "    except:\n",
    "        Disitance_to_CityCenter=\"n\\a\"\n",
    "    \n",
    "        \n",
    "    \n",
    "    # find address\n",
    "    try:\n",
    "        hotel_address = hotel_soup.find(\"div\",{\"class\":\"uitk-text uitk-type-300 uitk-text-default-theme uitk-layout-flex-item uitk-layout-flex-item-flex-basis-full_width\"}).text\n",
    "    except:\n",
    "        hotel_address =\"n\\a\"\n",
    "        \n",
    "    # find description\n",
    "    try:\n",
    "        hotel_description=\"n\\a\"\n",
    "    except:\n",
    "        hotel_description=\"n\\a\"\n",
    "    \n",
    "    # photo link\n",
    "    photo_result = hotel_soup.find_all(\"div\",{\"class\":\"uitk-image-placeholder uitk-image-placeholder-image\"})\n",
    "    \n",
    "    photo_link=[]\n",
    "    for result in photo_result:\n",
    "        photo_link.append(result.img.get(\"src\"))\n",
    "\n",
    "    \n",
    "    \n",
    "    csv_writer.writerow([hotel_name,hotel_rating, hotel_address, Disitance_to_CityCenter, hotel_price,hotel_review_score,hotel_description,photo_link])\n",
    "\n",
    "csv_file.close()\n",
    "\n",
    "\n"
   ]
  },
  {
   "cell_type": "code",
   "execution_count": null,
   "metadata": {
    "colab": {
     "base_uri": "https://localhost:8080/",
     "height": 337
    },
    "id": "yeY1MVtWIMy-",
    "outputId": "a58fb264-0941-4b37-ebbc-5b69766f0565"
   },
   "outputs": [],
   "source": [
    "expedia = pd.read_csv(\"Hotels_expedia.csv\")\n",
    "expedia.head()"
   ]
  },
  {
   "cell_type": "code",
   "execution_count": null,
   "metadata": {
    "colab": {
     "base_uri": "https://localhost:8080/"
    },
    "id": "7xiXpzRcIZiY",
    "outputId": "f4cbbf5e-d182-4434-b794-3b0e257ccf65"
   },
   "outputs": [],
   "source": [
    "expedia.info()"
   ]
  },
  {
   "cell_type": "markdown",
   "metadata": {
    "id": "NHTWZsmqKbGd"
   },
   "source": [
    "### **Scrape hotels.com data and store in csv file**"
   ]
  },
  {
   "cell_type": "code",
   "execution_count": null,
   "metadata": {
    "id": "itIkQSTSKlO_"
   },
   "outputs": [],
   "source": [
    "url=\"https://fi.hotels.com/Hotel-Search?adults=2&d1=2022-12-23&d2=2022-12-25&destination=Venetsia%2C%20Veneto%2C%20Italia&endDate=2022-12-25&latLong=45.434031%2C12.338332&regionId=3687&selected=&semdtl=&sort=RECOMMENDED&startDate=2022-12-23&theme=&useRewards=false&userIntent=\"\n",
    "headers = {\n",
    "    \"User-Agent\":\"Mozilla/5.0 (Macintosh; Intel Mac OS X 10_15_7) AppleWebKit/537.36 (KHTML, like Gecko) Chrome/105.0.0.0 Safari/537.36\"}\n",
    "\n",
    "source = requests.get(url,headers=headers)\n",
    "content = source.content.decode(\"utf8\")\n",
    "\n",
    "soup = BeautifulSoup(content,\"lxml\")\n",
    "\n",
    "\n",
    "results = soup.find_all(\"li\",{\"class\":\"uitk-spacing uitk-spacing-margin-blockstart-three\"})\n",
    "\n",
    "len (results)\n",
    "\n",
    "\n",
    "\n",
    "csv_file = open('Hotels_hotels.csv', 'w')\n",
    "csv_writer = csv.writer(csv_file)\n",
    "csv_writer.writerow([\"Hotel_Name\",\"Hotel_Rating\",\"Hotel_Address\",\"Disitance_to_CityCenter\",\"AVG_Price\",\"Review_Score\",\"Description\",\"Photo_Links\"])\n",
    "\n",
    "\n",
    "\n",
    "\n",
    "for result in results:\n",
    "    # find hotel name\n",
    "    try:\n",
    "        hotel_name=result.find(\"h3\", class_=\"uitk-heading uitk-heading-6 is-visually-hidden\").text\n",
    "    except:\n",
    "        hotel_name=\"n\\a\"\n",
    "        \n",
    "    # find hotel price\n",
    "    try:\n",
    "        hotel_price=result.find(\"div\",class_=\"uitk-text uitk-type-600 uitk-type-bold uitk-text-emphasis-theme\").text\n",
    "    except:\n",
    "        hotel_price=\"n\\a\"\n",
    "        \n",
    "    # find review score\n",
    "    try:\n",
    "        hotel_review_score=result.find (\"span\",{\"class\":\"uitk-text uitk-type-300 uitk-type-bold uitk-text-default-theme\"}).text\n",
    "    except:\n",
    "        hotel_review_score=\"n\\a\"\n",
    "        \n",
    "        \n",
    "    # specific hotel page   \n",
    "    root = \"https://fi.hotels.com\"\n",
    "\n",
    "    hotel_url = root+result.find(\"a\",{\"data-stid\":\"open-hotel-information\"})[\"href\"]\n",
    "    hotel_headers = {\n",
    "        \"User-Agent\":\"Mozilla/5.0 (Macintosh; Intel Mac OS X 10_15_7) AppleWebKit/537.36 (KHTML, like Gecko) Chrome/105.0.0.0 Safari/537.36\"}\n",
    "\n",
    "\n",
    "    hotel_source = requests.get(hotel_url,headers=hotel_headers)\n",
    "    hotel_content = hotel_source.content.decode(\"utf8\")\n",
    "    hotel_soup = BeautifulSoup(hotel_content,\"lxml\")\n",
    "\n",
    "\n",
    "        \n",
    "    # Find rating\n",
    "    try:\n",
    "        hotel_rating=hotel_soup.find(\"div\",{\"class\":\"uitk-rating\"}).span.text\n",
    "    except:\n",
    "        hotel_rating=\"n\\a\"\n",
    "        \n",
    "    \n",
    "    # find Disitance_to_CityCenter\n",
    "    try:\n",
    "        Disitance_to_CityCenter=\"n\\a\"\n",
    "    except:\n",
    "        Disitance_to_CityCenter=\"n\\a\"\n",
    "    \n",
    "        \n",
    "    \n",
    "    # find address\n",
    "    try:\n",
    "        hotel_address = hotel_soup.find(\"div\",{\"class\":\"uitk-text uitk-type-300 uitk-text-default-theme uitk-layout-flex-item uitk-layout-flex-item-flex-basis-full_width\"}).text\n",
    "    except:\n",
    "        hotel_address =\"n\\a\"\n",
    "        \n",
    "    # find description\n",
    "    try:\n",
    "        hotel_description=\"n\\a\"\n",
    "    except:\n",
    "        hotel_description=\"n\\a\"\n",
    "    \n",
    "    # photo link\n",
    "    photo_result = hotel_soup.find_all(\"div\",{\"class\":\"uitk-image-placeholder uitk-image-placeholder-image\"})    \n",
    "    photo_link=[]\n",
    "    for result in photo_result:\n",
    "        photo_link.append(result.img.get(\"src\"))\n",
    "\n",
    "    \n",
    "    \n",
    "    csv_writer.writerow([hotel_name,hotel_rating, hotel_address, Disitance_to_CityCenter, hotel_price,hotel_review_score,hotel_description,photo_link])\n",
    "\n",
    "csv_file.close()\n",
    "\n",
    "\n",
    "\n",
    "\n",
    "\n"
   ]
  },
  {
   "cell_type": "code",
   "execution_count": null,
   "metadata": {
    "colab": {
     "base_uri": "https://localhost:8080/",
     "height": 337
    },
    "id": "90N4-cgELEsC",
    "outputId": "f48e46a8-0383-4b3a-d95e-ac3e1dec7266"
   },
   "outputs": [],
   "source": [
    "hotels = pd.read_csv(\"Hotels_hotels.csv\")\n",
    "hotels.head()"
   ]
  },
  {
   "cell_type": "code",
   "execution_count": null,
   "metadata": {
    "colab": {
     "base_uri": "https://localhost:8080/"
    },
    "id": "Ns0ie94pLNST",
    "outputId": "1e3b8792-719a-4697-89ba-b51a43b45e5d"
   },
   "outputs": [],
   "source": [
    "hotels.info()"
   ]
  },
  {
   "cell_type": "markdown",
   "metadata": {
    "id": "-OHr2OkGLa3K"
   },
   "source": [
    "## **data processing**\n"
   ]
  },
  {
   "cell_type": "markdown",
   "metadata": {
    "id": "VAR1o7moNa70"
   },
   "source": [
    "### Data cleanning and preparation for booking"
   ]
  },
  {
   "cell_type": "code",
   "execution_count": null,
   "metadata": {},
   "outputs": [],
   "source": [
    "booking.head(1)"
   ]
  },
  {
   "cell_type": "code",
   "execution_count": null,
   "metadata": {},
   "outputs": [],
   "source": [
    "booking.info()"
   ]
  },
  {
   "cell_type": "code",
   "execution_count": null,
   "metadata": {
    "id": "XdYNFnFNLgNj"
   },
   "outputs": [],
   "source": [
    "# AVG_Price\n",
    "\n",
    "# remove \",\"and \"€\" in the AVG_Price\n",
    "booking[\"AVG_Price\"]=booking[\"AVG_Price\"].replace({\",\":\"\",\"€\":\"\"},regex=True)\n",
    "\n",
    "# change type to int\n",
    "# booking[\"AVG_Price\"]=booking[\"AVG_Price\"].astype(int)\n",
    "\n"
   ]
  },
  {
   "cell_type": "code",
   "execution_count": null,
   "metadata": {},
   "outputs": [],
   "source": [
    "booking.head(1)"
   ]
  },
  {
   "cell_type": "code",
   "execution_count": null,
   "metadata": {
    "id": "AqDVq8AZM4qb"
   },
   "outputs": [],
   "source": [
    "# Disitance_to_CityCenter\n",
    "\n",
    "booking[\"Disitance_to_CityCenter\"]=booking[\"Disitance_to_CityCenter\"].replace({\"m from center\":\"\"},regex=True)\n",
    "\n",
    "booking[\"Disitance_to_CityCenter\"]=booking[\"Disitance_to_CityCenter\"].replace({\" \":\"\"},regex=True)\n",
    "\n",
    "# Disitance_to_CityCenter all in meter\n",
    "\n",
    "def value_to_float(x):\n",
    "    \n",
    "    if 'k' in x:\n",
    "        return float(x.replace('k', '')) * 1000\n",
    "    else:\n",
    "        return x\n",
    "    \n",
    "booking[\"Disitance_to_CityCenter\"]=booking[\"Disitance_to_CityCenter\"].apply(value_to_float)\n",
    "\n",
    "booking[\"Disitance_to_CityCenter\"]=booking[\"Disitance_to_CityCenter\"].astype(int)\n",
    "\n",
    "\n",
    "booking"
   ]
  },
  {
   "cell_type": "code",
   "execution_count": null,
   "metadata": {},
   "outputs": [],
   "source": [
    "booking[\"Disitance_to_CityCenter\"]"
   ]
  },
  {
   "cell_type": "code",
   "execution_count": null,
   "metadata": {
    "id": "luUbAKyUNGn8"
   },
   "outputs": [],
   "source": [
    "# Review_Score\n",
    "\n",
    "# replace \"n\" to 0\n",
    "booking[\"Review_Score\"]=booking[\"Review_Score\"].replace({\"n\":\"0\"},regex=True)\n",
    "\n",
    "# change type to float\n",
    "booking[\"Review_Score\"]=booking[\"Review_Score\"].astype(float)\n",
    "\n",
    "# change review score as full score is 1\n",
    "booking[\"Review_Score\"]=booking[\"Review_Score\"]/10\n",
    "\n"
   ]
  },
  {
   "cell_type": "code",
   "execution_count": null,
   "metadata": {
    "id": "EYmfflGwOEWY"
   },
   "outputs": [],
   "source": [
    "# add a column to identify which website the data is come from\n",
    "\n",
    "booking[\"Source\"]=\"Booking.com\""
   ]
  },
  {
   "cell_type": "code",
   "execution_count": null,
   "metadata": {
    "colab": {
     "base_uri": "https://localhost:8080/",
     "height": 511
    },
    "id": "-VskICoHQ0Hd",
    "outputId": "5ab1af3c-1d6e-4c40-ca32-cbdbdff9ee0f"
   },
   "outputs": [],
   "source": [
    "booking.head()"
   ]
  },
  {
   "cell_type": "code",
   "execution_count": null,
   "metadata": {
    "colab": {
     "base_uri": "https://localhost:8080/"
    },
    "id": "2UC022-_Q2xk",
    "outputId": "cd0d4e78-257a-4ab1-a412-9e77eb1e2b4f"
   },
   "outputs": [],
   "source": [
    "booking.info()"
   ]
  },
  {
   "cell_type": "markdown",
   "metadata": {
    "id": "nHjRCDREQoND"
   },
   "source": [
    "### Data cleanning and preparation for expedia"
   ]
  },
  {
   "cell_type": "code",
   "execution_count": null,
   "metadata": {
    "colab": {
     "base_uri": "https://localhost:8080/",
     "height": 337
    },
    "id": "Z5-uhacWQOjo",
    "outputId": "2a03d24b-808a-4457-bc1c-419e3ade1bd8"
   },
   "outputs": [],
   "source": [
    "expedia.head()"
   ]
  },
  {
   "cell_type": "code",
   "execution_count": null,
   "metadata": {
    "id": "eXz0pmKKQfCS"
   },
   "outputs": [],
   "source": [
    "# change hotel rating to float\n",
    "expedia[\"Hotel_Rating\"]=expedia[\"Hotel_Rating\"].replace({\"star property\":\"\"},regex=True) \n",
    "expedia[\"Hotel_Rating\"]=expedia[\"Hotel_Rating\"].replace({\"n\":\"0\"},regex=True) \n",
    "expedia[\"Hotel_Rating\"]=expedia[\"Hotel_Rating\"].replace({\"\\x07\":\"\"},regex=True) \n",
    "expedia[\"Hotel_Rating\"]=expedia[\"Hotel_Rating\"].astype(float)"
   ]
  },
  {
   "cell_type": "code",
   "execution_count": null,
   "metadata": {
    "id": "xp_Q7cpIRdsf"
   },
   "outputs": [],
   "source": [
    "## Disitance_to_CityCenter by minitues for now, try to change it to meters \n",
    "## 1 min = 80m\n",
    "expedia[\"Disitance_to_CityCenter\"]=expedia[\"Disitance_to_CityCenter\"].replace({\" min walk\":\"\"},regex=True) \n",
    "expedia[\"Disitance_to_CityCenter\"]=expedia[\"Disitance_to_CityCenter\"].astype(int)\n",
    "expedia[\"Disitance_to_CityCenter\"]=expedia[\"Disitance_to_CityCenter\"]*80\n",
    "\n",
    "\n"
   ]
  },
  {
   "cell_type": "code",
   "execution_count": null,
   "metadata": {
    "id": "0XcRSqYiR0Op"
   },
   "outputs": [],
   "source": [
    "## AVG_Price to int \n",
    "\n",
    "expedia[\"AVG_Price\"]=expedia[\"AVG_Price\"].replace({\"€\":\"\"},regex=True) \n",
    "expedia[\"AVG_Price\"]=expedia[\"AVG_Price\"].replace({\"\\xa0\":\"\"},regex=True) \n",
    "expedia[\"AVG_Price\"]=expedia[\"AVG_Price\"].astype(int)"
   ]
  },
  {
   "cell_type": "code",
   "execution_count": null,
   "metadata": {
    "id": "GfJ6CpWdR6-K"
   },
   "outputs": [],
   "source": [
    "## Review_Score to float and make the full score as 1\n",
    "\n",
    "expedia[\"Review_Score\"]=expedia[\"Review_Score\"].replace({\"/5\":\"\", \",\":\".\",\"n\\x07\":0},regex=True) \n",
    "expedia[\"Review_Score\"]=expedia[\"Review_Score\"].astype(float)\n",
    "expedia[\"Review_Score\"]=expedia[\"Review_Score\"]/5\n"
   ]
  },
  {
   "cell_type": "code",
   "execution_count": null,
   "metadata": {
    "id": "Bs2d_XKWRaJL"
   },
   "outputs": [],
   "source": [
    "## add a column to identify which website the data is come from\n",
    "\n",
    "expedia[\"Source\"]=\"expedia.com\""
   ]
  },
  {
   "cell_type": "code",
   "execution_count": null,
   "metadata": {
    "colab": {
     "base_uri": "https://localhost:8080/",
     "height": 337
    },
    "id": "5PETUGnqTB5m",
    "outputId": "c8d4ad47-7136-4333-f84f-db402b5065dc"
   },
   "outputs": [],
   "source": [
    "expedia.head()"
   ]
  },
  {
   "cell_type": "code",
   "execution_count": null,
   "metadata": {
    "colab": {
     "base_uri": "https://localhost:8080/"
    },
    "id": "5evAQtB3TDAl",
    "outputId": "ec45687a-3442-4c6e-9ff2-9335c6d5fc61"
   },
   "outputs": [],
   "source": [
    "expedia.info()"
   ]
  },
  {
   "cell_type": "markdown",
   "metadata": {
    "id": "e7ZJjyDyTJd3"
   },
   "source": [
    "### Data cleanning and preparation for hotels"
   ]
  },
  {
   "cell_type": "code",
   "execution_count": null,
   "metadata": {
    "colab": {
     "base_uri": "https://localhost:8080/",
     "height": 337
    },
    "id": "VQUAxG5DTSBF",
    "outputId": "d5815c24-5756-43b9-a82e-75f8e0ae9f41"
   },
   "outputs": [],
   "source": [
    "hotels.head()"
   ]
  },
  {
   "cell_type": "code",
   "execution_count": null,
   "metadata": {
    "id": "7PBEcLVsTVPb"
   },
   "outputs": [],
   "source": [
    "## AVG_Price to int \n",
    "\n",
    "hotels[\"AVG_Price\"]=hotels[\"AVG_Price\"].replace({\"€\":\"\"},regex=True) \n",
    "hotels[\"AVG_Price\"]=hotels[\"AVG_Price\"].replace({\"\\xa0\":\"\"},regex=True) \n",
    "hotels[\"AVG_Price\"]=hotels[\"AVG_Price\"].astype(int)"
   ]
  },
  {
   "cell_type": "code",
   "execution_count": null,
   "metadata": {
    "id": "bwa9pjQNTy76"
   },
   "outputs": [],
   "source": [
    "## Hotel Rating to float \n",
    "\n",
    "hotels[\"Hotel_Rating\"]=hotels[\"Hotel_Rating\"].replace({\"tähden majoituspaikka\":\"\",\"n\\x07\":\"\"},regex=True) \n",
    "hotels[\"Hotel_Rating\"]=hotels[\"Hotel_Rating\"].replace({\"\":np.nan}).fillna(0)\n",
    "hotels[\"Hotel_Rating\"]=hotels[\"Hotel_Rating\"].astype(float)"
   ]
  },
  {
   "cell_type": "code",
   "execution_count": null,
   "metadata": {
    "id": "BvagKIufT6QG"
   },
   "outputs": [],
   "source": [
    "## Review_Score to float and make the full score as 1\n",
    "\n",
    "hotels[\"Review_Score\"]=hotels[\"Review_Score\"].replace({\"/10\":\"\"},regex=True) \n",
    "hotels[\"Review_Score\"]=hotels[\"Review_Score\"].replace({\",\":\".\"},regex=True) \n",
    "hotels[\"Review_Score\"]=hotels[\"Review_Score\"].astype(float)\n",
    "hotels[\"Review_Score\"]=hotels[\"Review_Score\"]/10\n"
   ]
  },
  {
   "cell_type": "code",
   "execution_count": null,
   "metadata": {
    "id": "DCoIaT0AUCd6"
   },
   "outputs": [],
   "source": [
    "## Disitance_to_CityCenter\n",
    "hotels[\"Disitance_to_CityCenter\"]=hotels[\"Disitance_to_CityCenter\"].replace({\"n\u0007\":np.nan})\n"
   ]
  },
  {
   "cell_type": "code",
   "execution_count": null,
   "metadata": {
    "id": "j3VlAVDAUeIS"
   },
   "outputs": [],
   "source": [
    "## add a column to identify which website the data is come from\n",
    "hotels[\"Source\"]=\"Hotels.com\""
   ]
  },
  {
   "cell_type": "code",
   "execution_count": null,
   "metadata": {
    "colab": {
     "base_uri": "https://localhost:8080/",
     "height": 337
    },
    "id": "UEp0oFo_UnhJ",
    "outputId": "25a6961b-2a31-482c-e31f-b9f1bd7ed1e1"
   },
   "outputs": [],
   "source": [
    "hotels.head()"
   ]
  },
  {
   "cell_type": "code",
   "execution_count": null,
   "metadata": {
    "colab": {
     "base_uri": "https://localhost:8080/"
    },
    "id": "3wVceiFWUqNa",
    "outputId": "0a22ea70-4e5d-4df3-a133-779efcc6234d"
   },
   "outputs": [],
   "source": [
    "hotels.info()"
   ]
  },
  {
   "cell_type": "markdown",
   "metadata": {
    "id": "20kO1CnGUvLG"
   },
   "source": [
    "### **Concat 3 csv files**"
   ]
  },
  {
   "cell_type": "code",
   "execution_count": null,
   "metadata": {
    "colab": {
     "base_uri": "https://localhost:8080/",
     "height": 511
    },
    "id": "vpSztVGTUzlq",
    "outputId": "a0c93334-dbae-4c60-edd8-0136d8787fdf"
   },
   "outputs": [],
   "source": [
    "data = pd.concat([booking,expedia,hotels])\n",
    "data.head()"
   ]
  },
  {
   "cell_type": "code",
   "execution_count": null,
   "metadata": {
    "id": "8cBVrWzaU-Ol"
   },
   "outputs": [],
   "source": [
    "# AVG_Price now is actually the price of two nights. So it will be divided by 2.\n",
    "\n",
    "data[\"AVG_Price\"]=data[\"AVG_Price\"]/2"
   ]
  },
  {
   "cell_type": "code",
   "execution_count": null,
   "metadata": {
    "id": "U-i4tuPxVKx4"
   },
   "outputs": [],
   "source": []
  },
  {
   "cell_type": "markdown",
   "metadata": {
    "id": "q6kcaohKVWag"
   },
   "source": [
    "### **Exploratory data analysis**"
   ]
  },
  {
   "cell_type": "code",
   "execution_count": null,
   "metadata": {
    "colab": {
     "base_uri": "https://localhost:8080/",
     "height": 511
    },
    "id": "PYBTDhvUVY3P",
    "outputId": "9f4a7e8e-5aad-481b-e260-0349af078bcd"
   },
   "outputs": [],
   "source": [
    "data.head()"
   ]
  },
  {
   "cell_type": "code",
   "execution_count": null,
   "metadata": {
    "colab": {
     "base_uri": "https://localhost:8080/"
    },
    "id": "VnroPgqmVbSg",
    "outputId": "d60fe242-c0ec-4466-a84f-57054adcddc3"
   },
   "outputs": [],
   "source": [
    "# Checking data type\n",
    "\n",
    "data.info()"
   ]
  },
  {
   "cell_type": "code",
   "execution_count": null,
   "metadata": {
    "colab": {
     "base_uri": "https://localhost:8080/",
     "height": 300
    },
    "id": "RXMXlc2PVgWH",
    "outputId": "e2251d50-020c-41e7-d14c-66b6bb96fb8c"
   },
   "outputs": [],
   "source": [
    "# Checking descriptive statistics\n",
    "\n",
    "data.describe()\n",
    "\n",
    "\n",
    "# 20 Missing values in Disitance_to_CityCenter, large range for AVG_Price and Disitance_to_CityCenter\n"
   ]
  },
  {
   "cell_type": "code",
   "execution_count": null,
   "metadata": {
    "id": "uD2w1wPxVjqU"
   },
   "outputs": [],
   "source": [
    "# fill null values in Disitance_to_CityCenter with the mean value of Disitance_to_CityCenter\n",
    "data[\"Disitance_to_CityCenter\"]=data[\"Disitance_to_CityCenter\"].fillna(data[\"Disitance_to_CityCenter\"].mean())\n"
   ]
  },
  {
   "cell_type": "code",
   "execution_count": null,
   "metadata": {
    "id": "R2Mb9_aGV0gi"
   },
   "outputs": [],
   "source": [
    "###### visualizations and analyze\n",
    "\n",
    "import seaborn as sns\n",
    "import matplotlib.pyplot as plt"
   ]
  },
  {
   "cell_type": "code",
   "execution_count": null,
   "metadata": {
    "colab": {
     "base_uri": "https://localhost:8080/",
     "height": 386
    },
    "id": "0LCVJNLrWFWp",
    "outputId": "f9920a99-c041-42a4-f4f2-9a36d7db408f"
   },
   "outputs": [],
   "source": [
    "# relationship between hotel rating and average price\n",
    "\n",
    "sns.catplot(x=\"Hotel_Rating\", y = \"AVG_Price\",kind =\"box\",data=data)\n",
    "\n",
    "## as we can see, generally speaking, the higher the hotel rating, the higher the price"
   ]
  },
  {
   "cell_type": "code",
   "execution_count": null,
   "metadata": {
    "colab": {
     "base_uri": "https://localhost:8080/",
     "height": 386
    },
    "id": "dPHgBPjGWHsg",
    "outputId": "d34d8f39-dfc3-415f-d234-a4cb16403078"
   },
   "outputs": [],
   "source": [
    "# relationship between hotel rating and review score.\n",
    "\n",
    "sns.catplot(x=\"Hotel_Rating\", y = \"Review_Score\",kind =\"box\",data=data,showfliers = False)\n",
    "\n",
    "# result is not as I expect, not the higher hotel rating, the higher review score is.\n"
   ]
  },
  {
   "cell_type": "code",
   "execution_count": null,
   "metadata": {
    "colab": {
     "base_uri": "https://localhost:8080/",
     "height": 282
    },
    "id": "XUXO3B02WZNJ",
    "outputId": "be6d81bc-957b-4281-b51d-188918b1506c"
   },
   "outputs": [],
   "source": [
    "# the distribution of average price\n",
    "\n",
    "data[\"AVG_Price\"].hist()\n",
    "\n",
    "## most hotels has an average price between 100 and 200 "
   ]
  },
  {
   "cell_type": "code",
   "execution_count": null,
   "metadata": {
    "colab": {
     "base_uri": "https://localhost:8080/",
     "height": 282
    },
    "id": "20Yidc2XWxV5",
    "outputId": "b04cbdae-73cf-44ad-9495-31ff969b0bf6"
   },
   "outputs": [],
   "source": [
    "# the distribution of hotel rating\n",
    "\n",
    "\n",
    "data[\"Hotel_Rating\"].hist()\n",
    "\n",
    "## the most is 4 star hotel"
   ]
  },
  {
   "cell_type": "code",
   "execution_count": null,
   "metadata": {
    "colab": {
     "base_uri": "https://localhost:8080/",
     "height": 282
    },
    "id": "vA70uz77W17R",
    "outputId": "7991faef-6713-404f-aa6b-e82424e2dfcf"
   },
   "outputs": [],
   "source": [
    "# the distribution of REVIEW SCORE\n",
    "\n",
    "\n",
    "data[\"Review_Score\"].hist()\n",
    "\n"
   ]
  },
  {
   "cell_type": "code",
   "execution_count": null,
   "metadata": {
    "colab": {
     "base_uri": "https://localhost:8080/",
     "height": 441
    },
    "id": "7LhePSKPXLet",
    "outputId": "1f751456-600c-4df3-aecd-e9544481c694"
   },
   "outputs": [],
   "source": [
    "# review score and average price\n",
    "\n",
    "# sns.jointplot(data[\"Review_Score\"],data[\"AVG_Price\"],kind='hex')\n",
    "# it works at local jupyter notebook\n",
    "\n",
    "sns.lmplot(\"Review_Score\",\"AVG_Price\",data)\n",
    "\n",
    "\n",
    "## if we ignore the one Review_Score=0\n",
    "## the higher review score, the higher price. \n",
    "## the most expensive hotel does not have the highest review score"
   ]
  },
  {
   "cell_type": "code",
   "execution_count": null,
   "metadata": {
    "colab": {
     "base_uri": "https://localhost:8080/",
     "height": 441
    },
    "id": "DIu7lFuPXUGI",
    "outputId": "d8ed0771-21b5-416c-a62f-197730169cb3"
   },
   "outputs": [],
   "source": [
    "# relationship between distance to citycenter and average price\n",
    "\n",
    "sns.lmplot(\"Disitance_to_CityCenter\",\"AVG_Price\",data)\n",
    "\n",
    "## there is a slightly liner regression, which shows the more distance from the city center, the lower the price is. "
   ]
  },
  {
   "cell_type": "code",
   "execution_count": null,
   "metadata": {
    "colab": {
     "base_uri": "https://localhost:8080/",
     "height": 386
    },
    "id": "54GRZ1D1YEQu",
    "outputId": "eb0dc606-4326-44cd-e993-701752712de4"
   },
   "outputs": [],
   "source": [
    "\n",
    "sns.catplot(x=\"Source\", y = \"Disitance_to_CityCenter\",kind =\"box\",data=data)\n",
    "\n",
    "## booking's recommodation has a higher average distance to city center."
   ]
  },
  {
   "cell_type": "code",
   "execution_count": null,
   "metadata": {
    "colab": {
     "base_uri": "https://localhost:8080/",
     "height": 386
    },
    "id": "e3QdjxYJYmw8",
    "outputId": "abbb636a-0445-4c74-afc8-e56ab84812c9"
   },
   "outputs": [],
   "source": [
    "sns.catplot(x=\"Source\", y = \"AVG_Price\",kind =\"box\",data=data)\n",
    "# price range from booking.com is the biggest"
   ]
  },
  {
   "cell_type": "code",
   "execution_count": null,
   "metadata": {
    "colab": {
     "base_uri": "https://localhost:8080/",
     "height": 438
    },
    "id": "1tHnyJ1kYpxe",
    "outputId": "197db64d-1cf4-42a6-91d8-b739b18727c7"
   },
   "outputs": [],
   "source": [
    "print (data.groupby(\"Source\")[\"AVG_Price\"].mean())\n",
    "\n",
    "data.groupby(\"Source\")[\"AVG_Price\"].mean().plot(kind=\"bar\")\n",
    "# hotels from booking.com has the highest average price."
   ]
  },
  {
   "cell_type": "code",
   "execution_count": null,
   "metadata": {
    "colab": {
     "base_uri": "https://localhost:8080/",
     "height": 386
    },
    "id": "0rBjfoPpYx3J",
    "outputId": "a1f87446-eeda-444f-d042-10951985fcac"
   },
   "outputs": [],
   "source": [
    "sns.catplot(x=\"Source\", y = \"Review_Score\",kind =\"box\",data=data, showfliers = False)\n",
    "# the review score of hotels from expedia has Less variance\n"
   ]
  },
  {
   "cell_type": "code",
   "execution_count": null,
   "metadata": {
    "colab": {
     "base_uri": "https://localhost:8080/",
     "height": 438
    },
    "id": "Mx1TE4KgZHT1",
    "outputId": "738af34a-62ba-4145-8041-56216df6c60c"
   },
   "outputs": [],
   "source": [
    "print (data.groupby(\"Source\")[\"Review_Score\"].mean())\n",
    "\n",
    "data.groupby(\"Source\")[\"Review_Score\"].mean().plot(kind=\"bar\")\n",
    "## almost the same. the review score of hotels from booking.com is slightly less than others. "
   ]
  },
  {
   "cell_type": "code",
   "execution_count": null,
   "metadata": {
    "colab": {
     "base_uri": "https://localhost:8080/",
     "height": 421
    },
    "id": "HXDlt2D2ZjeJ",
    "outputId": "0ce47e8b-19e9-4dde-a639-6a0c64d5b68d"
   },
   "outputs": [],
   "source": [
    "data.groupby(\"Source\")[\"Hotel_Rating\"].mean().plot(kind=\"bar\")\n",
    "\n",
    "print (data.groupby(\"Source\")[\"Hotel_Rating\"].mean())\n",
    "\n",
    "# hotels from hotels.com has the lowest hotel rating."
   ]
  },
  {
   "cell_type": "code",
   "execution_count": null,
   "metadata": {
    "colab": {
     "base_uri": "https://localhost:8080/",
     "height": 351
    },
    "id": "xeIr_L5fZxC4",
    "outputId": "947776b4-b3a5-4a01-820c-79f6ab52df8e"
   },
   "outputs": [],
   "source": [
    "data.groupby(\"Source\")[\"Disitance_to_CityCenter\"].mean().plot(kind=\"bar\")\n",
    "\n",
    "# hotel from expedia has the lowest Disitance_to_CityCenter is because the city center is not clearly defined, and it is the distance to the nearest landmark building\n",
    "# hotel from hotels is the mean  Disitance_to_CityCenter."
   ]
  },
  {
   "cell_type": "markdown",
   "metadata": {
    "id": "w8ySfQH_aeIN"
   },
   "source": [
    "## **interaction with users**"
   ]
  },
  {
   "cell_type": "code",
   "execution_count": null,
   "metadata": {
    "colab": {
     "base_uri": "https://localhost:8080/"
    },
    "id": "H6jFxehZbkMC",
    "outputId": "eeac6daf-9c76-4e03-8455-df5479d36a13"
   },
   "outputs": [],
   "source": [
    "data.index = range (90)\n",
    "data.head()\n",
    "data.info()"
   ]
  },
  {
   "cell_type": "code",
   "execution_count": null,
   "metadata": {
    "id": "0L2hL9jtoz7f"
   },
   "outputs": [],
   "source": [
    "# User inputs certain criteria for the accommodation,  returns the list of all accommodations which meet the criteria. \n",
    "\n",
    "# price ranges, \n",
    "# distance from city center, \n",
    "# number of stars, \n",
    "# review score\n",
    "\n",
    "price_min = float(input (\"the minimum price you prefer: \"))\n",
    "price_max = float(input (\"the maximum price you prefer: \"))\n",
    "distance = float(input (\"the maximum distance from city center in meters you prefer: \"))\n",
    "star = float(input (\"the minimum hotel star you prefer(0-5): \"))\n",
    "review = float(input (\"the minimum hotel review score you prefer(0-1): \"))\n",
    "\n",
    "result=data[(data.AVG_Price>price_min)&(data.AVG_Price<price_max)&(data.Disitance_to_CityCenter<distance)&(data.Hotel_Rating>star)&(data.Review_Score>review)].Hotel_Name\n",
    "result_list = list (result)\n",
    "\n",
    "print (\"there are total \", len(result_list), \" hotels meet the criteria which are \", result_list)\n",
    "\n",
    "\n"
   ]
  },
  {
   "cell_type": "code",
   "execution_count": null,
   "metadata": {},
   "outputs": [],
   "source": [
    "# • User inputs certain preferences for the accommodation, , e.g., price ranges, distance from city center, number of starts, review score, etc.\n",
    "# • User chooses the criteria that based on which the accommodations should be sorted \n",
    "# • The code returns the sorted list of all accommodations in the area\n",
    "\n",
    "preference = input (\"please choose one preference[price ranges, distance from city center, number of starts, review score] to sort hotels: \")\n",
    "criteria = input (\"please choose you want to hotels sorted [ascending or descending]： \")\n",
    "\n",
    "# if preference != \"price ranges\" or preference != \"distance from city center\" or preference != \"number of starts\" or preference != \"review score\" or criteria !=\"ascending\" or criteria !=\"descending\" :\n",
    "#   print (\"please try again\")\n",
    "#   preference = input (\"please choose one preference[price ranges, distance from city center, number of starts, review score] to sort hotels: \")\n",
    "#   criteria = input (\"please choose you want to hotels sorted [ascending or descending]： \")\n",
    "\n",
    "if preference == \"price ranges\" and criteria == \"ascending\":\n",
    "  print (data.sort_values(by=\"AVG_Price\"))\n",
    "elif preference == \"price ranges\" and criteria == \"descending\":\n",
    "  print (data.sort_values(by=\"AVG_Price\",ascending = False))\n",
    "\n",
    "elif preference == \"distance from city center\" and criteria == \"ascending\":\n",
    "  print (data.sort_values(by=\"Disitance_to_CityCenter\"))\n",
    "elif preference == \"distance from city center\" and criteria == \"descending\":\n",
    "  print (data.sort_values(by=\"Disitance_to_CityCenter\",ascending = False))\n",
    "\n",
    "elif preference == \"number of starts\" and criteria == \"ascending\":\n",
    "  print (data.sort_values(by=\"Hotel_Rating\"))\n",
    "elif preference == \"number of starts\" and criteria == \"descending\":\n",
    "  print (data.sort_values(by=\"Hotel_Rating\",ascending = False))\n",
    "\n",
    "elif preference == \"review score\" and criteria == \"ascending\":\n",
    "  print (data.sort_values(by=\"Review_Score\"))\n",
    "elif preference == \"review score\" and criteria == \"descending\":\n",
    "  print (data.sort_values(by=\"Review_Score\",ascending = False))\n",
    "\n"
   ]
  },
  {
   "cell_type": "code",
   "execution_count": null,
   "metadata": {
    "colab": {
     "base_uri": "https://localhost:8080/",
     "height": 1000
    },
    "id": "XrzpTVDnaARD",
    "outputId": "86fbf85a-5448-4d80-f6a7-574717fa0483"
   },
   "outputs": [],
   "source": [
    "# The user should be able to input the name of a hotel from your list and get all the attributes of the hotel.\n",
    "\n",
    "from PIL import Image\n",
    "from io import BytesIO\n",
    "\n",
    "\n",
    "\n",
    "print (list(data.Hotel_Name))\n",
    "print (\"\\n\")\n",
    "hotel_name = input(\"please choose a hotel: \")\n",
    "print (\"\\n\")\n",
    "\n",
    "# print (data[data.Hotel_Name == hotel_name])\n",
    "print (\"hotel name: \", data.Hotel_Name[data[data.Hotel_Name == hotel_name].index[0]])\n",
    "print (\"hotel rating: \", data.Hotel_Rating[data[data.Hotel_Name == hotel_name].index[0]])\n",
    "print (\"hotel address: \", data.Hotel_Address[data[data.Hotel_Name == hotel_name].index[0]])\n",
    "print (\"distance to city center: \", data.Disitance_to_CityCenter[data[data.Hotel_Name == hotel_name].index[0]], \" m\")\n",
    "print (\"average price for 12.23 to 12.25 2 nights: \", data.AVG_Price[data[data.Hotel_Name == hotel_name].index[0]], \" eur/night\")\n",
    "print (\"hotel review score: \", data.Review_Score[data[data.Hotel_Name == hotel_name].index[0]])\n",
    "print (\"hotel Description: \", data.Description[data[data.Hotel_Name == hotel_name].index[0]])\n",
    "print (\"the hotel is from: \", data.Source[data[data.Hotel_Name == hotel_name].index[0]])\n",
    "\n",
    "\n",
    "links = data[data.Hotel_Name == hotel_name].Photo_Links\n",
    "links_1 = links[data[data.Hotel_Name == hotel_name].index[0]][1:-1]\n",
    "\n",
    "links_list = list(links_1.split(\",\"))\n",
    "\n",
    "# print (links_list)\n",
    "\n",
    "for link in links_list :\n",
    "  if link[1]==\"'\":\n",
    "    url = link[2:-1]\n",
    "  else:\n",
    "    url = link[1:-1]\n",
    "  response = requests.get(url, stream=True)\n",
    "  img = Image.open(response.raw)\n",
    "  plt.imshow(img)\n",
    "  plt.show()\n",
    "\n"
   ]
  },
  {
   "cell_type": "code",
   "execution_count": null,
   "metadata": {
    "colab": {
     "base_uri": "https://localhost:8080/"
    },
    "id": "n7i9kJ5qfnF-",
    "outputId": "fb8c0a94-f348-411f-97e4-91a8dc7d87ae"
   },
   "outputs": [],
   "source": []
  },
  {
   "cell_type": "code",
   "execution_count": null,
   "metadata": {
    "id": "GMB4Wj5ilKED"
   },
   "outputs": [],
   "source": []
  }
 ],
 "metadata": {
  "colab": {
   "collapsed_sections": [],
   "provenance": []
  },
  "kernelspec": {
   "display_name": "Python 3",
   "language": "python",
   "name": "python3"
  },
  "language_info": {
   "codemirror_mode": {
    "name": "ipython",
    "version": 3
   },
   "file_extension": ".py",
   "mimetype": "text/x-python",
   "name": "python",
   "nbconvert_exporter": "python",
   "pygments_lexer": "ipython3",
   "version": "3.7.6"
  }
 },
 "nbformat": 4,
 "nbformat_minor": 1
}
