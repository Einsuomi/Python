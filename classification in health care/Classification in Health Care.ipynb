{
 "cells": [
  {
   "cell_type": "code",
   "execution_count": 36,
   "metadata": {},
   "outputs": [],
   "source": [
    "import numpy as np\n",
    "import pandas as pd\n",
    "import matplotlib.pyplot as plt\n",
    "import seaborn as sns"
   ]
  },
  {
   "cell_type": "code",
   "execution_count": 2,
   "metadata": {},
   "outputs": [
    {
     "data": {
      "text/html": [
       "<div>\n",
       "<style scoped>\n",
       "    .dataframe tbody tr th:only-of-type {\n",
       "        vertical-align: middle;\n",
       "    }\n",
       "\n",
       "    .dataframe tbody tr th {\n",
       "        vertical-align: top;\n",
       "    }\n",
       "\n",
       "    .dataframe thead th {\n",
       "        text-align: right;\n",
       "    }\n",
       "</style>\n",
       "<table border=\"1\" class=\"dataframe\">\n",
       "  <thead>\n",
       "    <tr style=\"text-align: right;\">\n",
       "      <th></th>\n",
       "      <th>age</th>\n",
       "      <th>gender</th>\n",
       "      <th>pain</th>\n",
       "      <th>blood_pressure</th>\n",
       "      <th>cholesterol</th>\n",
       "      <th>blood_sugar</th>\n",
       "      <th>heart_rate</th>\n",
       "      <th>exercise</th>\n",
       "      <th>outcome</th>\n",
       "    </tr>\n",
       "  </thead>\n",
       "  <tbody>\n",
       "    <tr>\n",
       "      <th>0</th>\n",
       "      <td>63</td>\n",
       "      <td>1</td>\n",
       "      <td>3</td>\n",
       "      <td>145</td>\n",
       "      <td>233</td>\n",
       "      <td>1</td>\n",
       "      <td>150</td>\n",
       "      <td>0</td>\n",
       "      <td>1</td>\n",
       "    </tr>\n",
       "    <tr>\n",
       "      <th>1</th>\n",
       "      <td>37</td>\n",
       "      <td>1</td>\n",
       "      <td>2</td>\n",
       "      <td>130</td>\n",
       "      <td>250</td>\n",
       "      <td>0</td>\n",
       "      <td>187</td>\n",
       "      <td>0</td>\n",
       "      <td>1</td>\n",
       "    </tr>\n",
       "    <tr>\n",
       "      <th>2</th>\n",
       "      <td>41</td>\n",
       "      <td>0</td>\n",
       "      <td>1</td>\n",
       "      <td>130</td>\n",
       "      <td>204</td>\n",
       "      <td>0</td>\n",
       "      <td>172</td>\n",
       "      <td>0</td>\n",
       "      <td>1</td>\n",
       "    </tr>\n",
       "    <tr>\n",
       "      <th>3</th>\n",
       "      <td>56</td>\n",
       "      <td>1</td>\n",
       "      <td>1</td>\n",
       "      <td>120</td>\n",
       "      <td>236</td>\n",
       "      <td>0</td>\n",
       "      <td>178</td>\n",
       "      <td>0</td>\n",
       "      <td>1</td>\n",
       "    </tr>\n",
       "    <tr>\n",
       "      <th>4</th>\n",
       "      <td>57</td>\n",
       "      <td>0</td>\n",
       "      <td>0</td>\n",
       "      <td>120</td>\n",
       "      <td>354</td>\n",
       "      <td>0</td>\n",
       "      <td>163</td>\n",
       "      <td>1</td>\n",
       "      <td>1</td>\n",
       "    </tr>\n",
       "  </tbody>\n",
       "</table>\n",
       "</div>"
      ],
      "text/plain": [
       "   age  gender  pain  blood_pressure  cholesterol  blood_sugar  heart_rate  \\\n",
       "0   63       1     3             145          233            1         150   \n",
       "1   37       1     2             130          250            0         187   \n",
       "2   41       0     1             130          204            0         172   \n",
       "3   56       1     1             120          236            0         178   \n",
       "4   57       0     0             120          354            0         163   \n",
       "\n",
       "   exercise  outcome  \n",
       "0         0        1  \n",
       "1         0        1  \n",
       "2         0        1  \n",
       "3         0        1  \n",
       "4         1        1  "
      ]
     },
     "execution_count": 2,
     "metadata": {},
     "output_type": "execute_result"
    }
   ],
   "source": [
    "patients = pd.read_csv(\"patients.csv\")\n",
    "patients.head()"
   ]
  },
  {
   "cell_type": "code",
   "execution_count": 4,
   "metadata": {},
   "outputs": [
    {
     "data": {
      "text/plain": [
       "(303, 9)"
      ]
     },
     "execution_count": 4,
     "metadata": {},
     "output_type": "execute_result"
    }
   ],
   "source": [
    "patients.shape"
   ]
  },
  {
   "cell_type": "code",
   "execution_count": 3,
   "metadata": {},
   "outputs": [
    {
     "name": "stdout",
     "output_type": "stream",
     "text": [
      "<class 'pandas.core.frame.DataFrame'>\n",
      "RangeIndex: 303 entries, 0 to 302\n",
      "Data columns (total 9 columns):\n",
      " #   Column          Non-Null Count  Dtype\n",
      "---  ------          --------------  -----\n",
      " 0   age             303 non-null    int64\n",
      " 1   gender          303 non-null    int64\n",
      " 2   pain            303 non-null    int64\n",
      " 3   blood_pressure  303 non-null    int64\n",
      " 4   cholesterol     303 non-null    int64\n",
      " 5   blood_sugar     303 non-null    int64\n",
      " 6   heart_rate      303 non-null    int64\n",
      " 7   exercise        303 non-null    int64\n",
      " 8   outcome         303 non-null    int64\n",
      "dtypes: int64(9)\n",
      "memory usage: 21.4 KB\n"
     ]
    }
   ],
   "source": [
    "## check missing values\n",
    "\n",
    "patients.info()"
   ]
  },
  {
   "cell_type": "code",
   "execution_count": 5,
   "metadata": {},
   "outputs": [
    {
     "data": {
      "text/html": [
       "<div>\n",
       "<style scoped>\n",
       "    .dataframe tbody tr th:only-of-type {\n",
       "        vertical-align: middle;\n",
       "    }\n",
       "\n",
       "    .dataframe tbody tr th {\n",
       "        vertical-align: top;\n",
       "    }\n",
       "\n",
       "    .dataframe thead th {\n",
       "        text-align: right;\n",
       "    }\n",
       "</style>\n",
       "<table border=\"1\" class=\"dataframe\">\n",
       "  <thead>\n",
       "    <tr style=\"text-align: right;\">\n",
       "      <th></th>\n",
       "      <th>age</th>\n",
       "      <th>gender</th>\n",
       "      <th>pain</th>\n",
       "      <th>blood_pressure</th>\n",
       "      <th>cholesterol</th>\n",
       "      <th>blood_sugar</th>\n",
       "      <th>heart_rate</th>\n",
       "      <th>exercise</th>\n",
       "      <th>outcome</th>\n",
       "    </tr>\n",
       "  </thead>\n",
       "  <tbody>\n",
       "    <tr>\n",
       "      <th>count</th>\n",
       "      <td>303.000000</td>\n",
       "      <td>303.000000</td>\n",
       "      <td>303.000000</td>\n",
       "      <td>303.000000</td>\n",
       "      <td>303.000000</td>\n",
       "      <td>303.000000</td>\n",
       "      <td>303.000000</td>\n",
       "      <td>303.000000</td>\n",
       "      <td>303.000000</td>\n",
       "    </tr>\n",
       "    <tr>\n",
       "      <th>mean</th>\n",
       "      <td>54.366337</td>\n",
       "      <td>0.683168</td>\n",
       "      <td>0.966997</td>\n",
       "      <td>131.623762</td>\n",
       "      <td>246.264026</td>\n",
       "      <td>0.148515</td>\n",
       "      <td>149.646865</td>\n",
       "      <td>0.326733</td>\n",
       "      <td>0.544554</td>\n",
       "    </tr>\n",
       "    <tr>\n",
       "      <th>std</th>\n",
       "      <td>9.082101</td>\n",
       "      <td>0.466011</td>\n",
       "      <td>1.032052</td>\n",
       "      <td>17.538143</td>\n",
       "      <td>51.830751</td>\n",
       "      <td>0.356198</td>\n",
       "      <td>22.905161</td>\n",
       "      <td>0.469794</td>\n",
       "      <td>0.498835</td>\n",
       "    </tr>\n",
       "    <tr>\n",
       "      <th>min</th>\n",
       "      <td>29.000000</td>\n",
       "      <td>0.000000</td>\n",
       "      <td>0.000000</td>\n",
       "      <td>94.000000</td>\n",
       "      <td>126.000000</td>\n",
       "      <td>0.000000</td>\n",
       "      <td>71.000000</td>\n",
       "      <td>0.000000</td>\n",
       "      <td>0.000000</td>\n",
       "    </tr>\n",
       "    <tr>\n",
       "      <th>25%</th>\n",
       "      <td>47.500000</td>\n",
       "      <td>0.000000</td>\n",
       "      <td>0.000000</td>\n",
       "      <td>120.000000</td>\n",
       "      <td>211.000000</td>\n",
       "      <td>0.000000</td>\n",
       "      <td>133.500000</td>\n",
       "      <td>0.000000</td>\n",
       "      <td>0.000000</td>\n",
       "    </tr>\n",
       "    <tr>\n",
       "      <th>50%</th>\n",
       "      <td>55.000000</td>\n",
       "      <td>1.000000</td>\n",
       "      <td>1.000000</td>\n",
       "      <td>130.000000</td>\n",
       "      <td>240.000000</td>\n",
       "      <td>0.000000</td>\n",
       "      <td>153.000000</td>\n",
       "      <td>0.000000</td>\n",
       "      <td>1.000000</td>\n",
       "    </tr>\n",
       "    <tr>\n",
       "      <th>75%</th>\n",
       "      <td>61.000000</td>\n",
       "      <td>1.000000</td>\n",
       "      <td>2.000000</td>\n",
       "      <td>140.000000</td>\n",
       "      <td>274.500000</td>\n",
       "      <td>0.000000</td>\n",
       "      <td>166.000000</td>\n",
       "      <td>1.000000</td>\n",
       "      <td>1.000000</td>\n",
       "    </tr>\n",
       "    <tr>\n",
       "      <th>max</th>\n",
       "      <td>77.000000</td>\n",
       "      <td>1.000000</td>\n",
       "      <td>3.000000</td>\n",
       "      <td>200.000000</td>\n",
       "      <td>564.000000</td>\n",
       "      <td>1.000000</td>\n",
       "      <td>202.000000</td>\n",
       "      <td>1.000000</td>\n",
       "      <td>1.000000</td>\n",
       "    </tr>\n",
       "  </tbody>\n",
       "</table>\n",
       "</div>"
      ],
      "text/plain": [
       "              age      gender        pain  blood_pressure  cholesterol  \\\n",
       "count  303.000000  303.000000  303.000000      303.000000   303.000000   \n",
       "mean    54.366337    0.683168    0.966997      131.623762   246.264026   \n",
       "std      9.082101    0.466011    1.032052       17.538143    51.830751   \n",
       "min     29.000000    0.000000    0.000000       94.000000   126.000000   \n",
       "25%     47.500000    0.000000    0.000000      120.000000   211.000000   \n",
       "50%     55.000000    1.000000    1.000000      130.000000   240.000000   \n",
       "75%     61.000000    1.000000    2.000000      140.000000   274.500000   \n",
       "max     77.000000    1.000000    3.000000      200.000000   564.000000   \n",
       "\n",
       "       blood_sugar  heart_rate    exercise     outcome  \n",
       "count   303.000000  303.000000  303.000000  303.000000  \n",
       "mean      0.148515  149.646865    0.326733    0.544554  \n",
       "std       0.356198   22.905161    0.469794    0.498835  \n",
       "min       0.000000   71.000000    0.000000    0.000000  \n",
       "25%       0.000000  133.500000    0.000000    0.000000  \n",
       "50%       0.000000  153.000000    0.000000    1.000000  \n",
       "75%       0.000000  166.000000    1.000000    1.000000  \n",
       "max       1.000000  202.000000    1.000000    1.000000  "
      ]
     },
     "execution_count": 5,
     "metadata": {},
     "output_type": "execute_result"
    }
   ],
   "source": [
    "patients.describe()"
   ]
  },
  {
   "cell_type": "code",
   "execution_count": 9,
   "metadata": {},
   "outputs": [],
   "source": [
    "# Try to understand the different variables using some basic statistical measures and some visualization tools."
   ]
  },
  {
   "cell_type": "code",
   "execution_count": 16,
   "metadata": {},
   "outputs": [
    {
     "name": "stdout",
     "output_type": "stream",
     "text": [
      "1    165\n",
      "0    138\n",
      "Name: outcome, dtype: int64\n",
      "AxesSubplot(0.125,0.125;0.775x0.755)\n"
     ]
    },
    {
     "data": {
      "image/png": "[encoded data removed]",
      "text/plain": [
       "<Figure size 432x288 with 1 Axes>"
      ]
     },
     "metadata": {
      "needs_background": "light"
     },
     "output_type": "display_data"
    }
   ],
   "source": [
    "print (patients.outcome.value_counts())\n",
    "\n",
    "print (patients.outcome.hist())\n",
    "\n",
    "# we got two classes, more people in class 1, which is patients with heart attack."
   ]
  },
  {
   "cell_type": "code",
   "execution_count": 17,
   "metadata": {},
   "outputs": [
    {
     "name": "stdout",
     "output_type": "stream",
     "text": [
      "outcome\n",
      "0    56.601449\n",
      "1    52.496970\n",
      "Name: age, dtype: float64\n",
      "AxesSubplot(0.125,0.125;0.775x0.755)\n"
     ]
    },
    {
     "data": {
      "image/png": "[encoded data removed]",
      "text/plain": [
       "<Figure size 432x288 with 1 Axes>"
      ]
     },
     "metadata": {
      "needs_background": "light"
     },
     "output_type": "display_data"
    }
   ],
   "source": [
    "print (patients.groupby(\"outcome\").age.mean())\n",
    "\n",
    "print (sns.boxplot(x = 'outcome', y = 'age', data = patients, orient = 'v'))\n",
    "\n",
    "# people with heart attack has a lower average age. "
   ]
  },
  {
   "cell_type": "code",
   "execution_count": 30,
   "metadata": {},
   "outputs": [
    {
     "data": {
      "text/plain": [
       "1    207\n",
       "0     96\n",
       "Name: gender, dtype: int64"
      ]
     },
     "execution_count": 30,
     "metadata": {},
     "output_type": "execute_result"
    }
   ],
   "source": [
    "patients.gender.value_counts()\n",
    "# more male in the patients."
   ]
  },
  {
   "cell_type": "code",
   "execution_count": 21,
   "metadata": {},
   "outputs": [
    {
     "name": "stdout",
     "output_type": "stream",
     "text": [
      "outcome  gender\n",
      "0        1         114\n",
      "         0          24\n",
      "1        1          93\n",
      "         0          72\n",
      "Name: gender, dtype: int64\n",
      "AxesSubplot(0.125,0.125;0.775x0.755)\n"
     ]
    },
    {
     "data": {
      "image/png": "[encoded data removed]",
      "text/plain": [
       "<Figure size 432x288 with 1 Axes>"
      ]
     },
     "metadata": {
      "needs_background": "light"
     },
     "output_type": "display_data"
    }
   ],
   "source": [
    "print (patients.groupby(\"outcome\").gender.value_counts())\n",
    "print (sns.countplot(x=\"outcome\", data=patients, hue=\"gender\"))\n",
    "\n",
    "# in the class of people without heart attack, there are much more male."
   ]
  },
  {
   "cell_type": "code",
   "execution_count": 22,
   "metadata": {},
   "outputs": [
    {
     "name": "stdout",
     "output_type": "stream",
     "text": [
      "outcome\n",
      "0    139.101449\n",
      "1    158.466667\n",
      "Name: heart_rate, dtype: float64\n",
      "AxesSubplot(0.125,0.125;0.775x0.755)\n"
     ]
    },
    {
     "data": {
      "image/png": "[encoded data removed]",
      "text/plain": [
       "<Figure size 432x288 with 1 Axes>"
      ]
     },
     "metadata": {
      "needs_background": "light"
     },
     "output_type": "display_data"
    }
   ],
   "source": [
    "print (patients.groupby(\"outcome\").heart_rate.mean())\n",
    "\n",
    "print (sns.boxplot(x = 'outcome', y = 'heart_rate', data = patients, orient = 'v'))\n",
    "\n",
    "# class 1 has a higher heart_rate."
   ]
  },
  {
   "cell_type": "code",
   "execution_count": 32,
   "metadata": {},
   "outputs": [
    {
     "data": {
      "text/plain": [
       "0    258\n",
       "1     45\n",
       "Name: blood_sugar, dtype: int64"
      ]
     },
     "execution_count": 32,
     "metadata": {},
     "output_type": "execute_result"
    }
   ],
   "source": [
    "patients.blood_sugar.value_counts()\n",
    "# in general, much more people with normal blood sugar."
   ]
  },
  {
   "cell_type": "code",
   "execution_count": 24,
   "metadata": {},
   "outputs": [
    {
     "name": "stdout",
     "output_type": "stream",
     "text": [
      "outcome  blood_sugar\n",
      "0        0              116\n",
      "         1               22\n",
      "1        0              142\n",
      "         1               23\n",
      "Name: blood_sugar, dtype: int64\n",
      "AxesSubplot(0.125,0.125;0.775x0.755)\n"
     ]
    },
    {
     "data": {
      "image/png": "[encoded data removed]",
      "text/plain": [
       "<Figure size 432x288 with 1 Axes>"
      ]
     },
     "metadata": {
      "needs_background": "light"
     },
     "output_type": "display_data"
    }
   ],
   "source": [
    "print (patients.groupby(\"outcome\").blood_sugar.value_counts())\n",
    "print (sns.countplot(x=\"outcome\", data=patients, hue=\"blood_sugar\"))\n",
    "\n",
    "# in both classes, more people has a normal blood sugar."
   ]
  },
  {
   "cell_type": "code",
   "execution_count": 34,
   "metadata": {},
   "outputs": [
    {
     "data": {
      "text/plain": [
       "0    143\n",
       "2     87\n",
       "1     50\n",
       "3     23\n",
       "Name: pain, dtype: int64"
      ]
     },
     "execution_count": 34,
     "metadata": {},
     "output_type": "execute_result"
    }
   ],
   "source": [
    "patients.pain.value_counts()\n",
    "\n",
    "# most patients has a pain in level 0."
   ]
  },
  {
   "cell_type": "code",
   "execution_count": 25,
   "metadata": {},
   "outputs": [
    {
     "name": "stdout",
     "output_type": "stream",
     "text": [
      "outcome  pain\n",
      "0        0       104\n",
      "         2        18\n",
      "         1         9\n",
      "         3         7\n",
      "1        2        69\n",
      "         1        41\n",
      "         0        39\n",
      "         3        16\n",
      "Name: pain, dtype: int64\n",
      "AxesSubplot(0.125,0.125;0.775x0.755)\n"
     ]
    },
    {
     "data": {
      "image/png": "[encoded data removed]",
      "text/plain": [
       "<Figure size 432x288 with 1 Axes>"
      ]
     },
     "metadata": {
      "needs_background": "light"
     },
     "output_type": "display_data"
    }
   ],
   "source": [
    "print (patients.groupby(\"outcome\").pain.value_counts())\n",
    "print (sns.countplot(x=\"outcome\", data=patients, hue=\"pain\"))\n",
    "\n",
    "# in class 0, most people has a pain level 0, and in class 1, most people has a pain level 2."
   ]
  },
  {
   "cell_type": "code",
   "execution_count": 26,
   "metadata": {},
   "outputs": [
    {
     "name": "stdout",
     "output_type": "stream",
     "text": [
      "outcome\n",
      "0    134.398551\n",
      "1    129.303030\n",
      "Name: blood_pressure, dtype: float64\n",
      "AxesSubplot(0.125,0.125;0.775x0.755)\n"
     ]
    },
    {
     "data": {
      "image/png": "[encoded data removed]",
      "text/plain": [
       "<Figure size 432x288 with 1 Axes>"
      ]
     },
     "metadata": {
      "needs_background": "light"
     },
     "output_type": "display_data"
    }
   ],
   "source": [
    "print (patients.groupby(\"outcome\").blood_pressure.mean())\n",
    "\n",
    "print (sns.boxplot(x = 'outcome', y = 'blood_pressure', data = patients, orient = 'v'))\n",
    "\n",
    "# there are outliers with high blood_pressure in both classes, and the average blood_pressure in both classes is almost the same"
   ]
  },
  {
   "cell_type": "code",
   "execution_count": 27,
   "metadata": {},
   "outputs": [
    {
     "name": "stdout",
     "output_type": "stream",
     "text": [
      "outcome\n",
      "0    251.086957\n",
      "1    242.230303\n",
      "Name: cholesterol, dtype: float64\n",
      "AxesSubplot(0.125,0.125;0.775x0.755)\n"
     ]
    },
    {
     "data": {
      "image/png": "[encoded data removed]",
      "text/plain": [
       "<Figure size 432x288 with 1 Axes>"
      ]
     },
     "metadata": {
      "needs_background": "light"
     },
     "output_type": "display_data"
    }
   ],
   "source": [
    "print (patients.groupby(\"outcome\").cholesterol.mean())\n",
    "\n",
    "print (sns.boxplot(x = 'outcome', y = 'cholesterol', data = patients, orient = 'v'))\n",
    "\n"
   ]
  },
  {
   "cell_type": "code",
   "execution_count": 35,
   "metadata": {},
   "outputs": [
    {
     "data": {
      "text/plain": [
       "0    204\n",
       "1     99\n",
       "Name: exercise, dtype: int64"
      ]
     },
     "execution_count": 35,
     "metadata": {},
     "output_type": "execute_result"
    }
   ],
   "source": [
    "patients.exercise.value_counts()\n",
    "\n",
    "# most patients' chest pain was not caused by exercise."
   ]
  },
  {
   "cell_type": "code",
   "execution_count": 28,
   "metadata": {},
   "outputs": [
    {
     "name": "stdout",
     "output_type": "stream",
     "text": [
      "outcome  exercise\n",
      "0        1            76\n",
      "         0            62\n",
      "1        0           142\n",
      "         1            23\n",
      "Name: exercise, dtype: int64\n",
      "AxesSubplot(0.125,0.125;0.775x0.755)\n"
     ]
    },
    {
     "data": {
      "image/png": "[encoded data removed]",
      "text/plain": [
       "<Figure size 432x288 with 1 Axes>"
      ]
     },
     "metadata": {
      "needs_background": "light"
     },
     "output_type": "display_data"
    }
   ],
   "source": [
    "print (patients.groupby(\"outcome\").exercise.value_counts())\n",
    "print (sns.countplot(x=\"outcome\", data=patients, hue=\"exercise\"))\n",
    "\n",
    "# most patients' chest pain in class 1 are not caused by exercise.\n",
    "# most patients' chest pain in class 0 are caused by exercise. \n",
    "# that make sense.\n"
   ]
  },
  {
   "cell_type": "code",
   "execution_count": 51,
   "metadata": {},
   "outputs": [
    {
     "data": {
      "text/html": [
       "<div>\n",
       "<style scoped>\n",
       "    .dataframe tbody tr th:only-of-type {\n",
       "        vertical-align: middle;\n",
       "    }\n",
       "\n",
       "    .dataframe tbody tr th {\n",
       "        vertical-align: top;\n",
       "    }\n",
       "\n",
       "    .dataframe thead th {\n",
       "        text-align: right;\n",
       "    }\n",
       "</style>\n",
       "<table border=\"1\" class=\"dataframe\">\n",
       "  <thead>\n",
       "    <tr style=\"text-align: right;\">\n",
       "      <th></th>\n",
       "      <th>age</th>\n",
       "      <th>gender</th>\n",
       "      <th>pain</th>\n",
       "      <th>blood_pressure</th>\n",
       "      <th>cholesterol</th>\n",
       "      <th>blood_sugar</th>\n",
       "      <th>heart_rate</th>\n",
       "      <th>exercise</th>\n",
       "      <th>outcome</th>\n",
       "    </tr>\n",
       "  </thead>\n",
       "  <tbody>\n",
       "    <tr>\n",
       "      <th>age</th>\n",
       "      <td>1.000000</td>\n",
       "      <td>-0.098447</td>\n",
       "      <td>-0.068653</td>\n",
       "      <td>0.279351</td>\n",
       "      <td>0.213678</td>\n",
       "      <td>0.121308</td>\n",
       "      <td>-0.398522</td>\n",
       "      <td>0.096801</td>\n",
       "      <td>-0.225439</td>\n",
       "    </tr>\n",
       "    <tr>\n",
       "      <th>gender</th>\n",
       "      <td>-0.098447</td>\n",
       "      <td>1.000000</td>\n",
       "      <td>-0.049353</td>\n",
       "      <td>-0.056769</td>\n",
       "      <td>-0.197912</td>\n",
       "      <td>0.045032</td>\n",
       "      <td>-0.044020</td>\n",
       "      <td>0.141664</td>\n",
       "      <td>-0.280937</td>\n",
       "    </tr>\n",
       "    <tr>\n",
       "      <th>pain</th>\n",
       "      <td>-0.068653</td>\n",
       "      <td>-0.049353</td>\n",
       "      <td>1.000000</td>\n",
       "      <td>0.047608</td>\n",
       "      <td>-0.076904</td>\n",
       "      <td>0.094444</td>\n",
       "      <td>0.295762</td>\n",
       "      <td>-0.394280</td>\n",
       "      <td>0.433798</td>\n",
       "    </tr>\n",
       "    <tr>\n",
       "      <th>blood_pressure</th>\n",
       "      <td>0.279351</td>\n",
       "      <td>-0.056769</td>\n",
       "      <td>0.047608</td>\n",
       "      <td>1.000000</td>\n",
       "      <td>0.123174</td>\n",
       "      <td>0.177531</td>\n",
       "      <td>-0.046698</td>\n",
       "      <td>0.067616</td>\n",
       "      <td>-0.144931</td>\n",
       "    </tr>\n",
       "    <tr>\n",
       "      <th>cholesterol</th>\n",
       "      <td>0.213678</td>\n",
       "      <td>-0.197912</td>\n",
       "      <td>-0.076904</td>\n",
       "      <td>0.123174</td>\n",
       "      <td>1.000000</td>\n",
       "      <td>0.013294</td>\n",
       "      <td>-0.009940</td>\n",
       "      <td>0.067023</td>\n",
       "      <td>-0.085239</td>\n",
       "    </tr>\n",
       "    <tr>\n",
       "      <th>blood_sugar</th>\n",
       "      <td>0.121308</td>\n",
       "      <td>0.045032</td>\n",
       "      <td>0.094444</td>\n",
       "      <td>0.177531</td>\n",
       "      <td>0.013294</td>\n",
       "      <td>1.000000</td>\n",
       "      <td>-0.008567</td>\n",
       "      <td>0.025665</td>\n",
       "      <td>-0.028046</td>\n",
       "    </tr>\n",
       "    <tr>\n",
       "      <th>heart_rate</th>\n",
       "      <td>-0.398522</td>\n",
       "      <td>-0.044020</td>\n",
       "      <td>0.295762</td>\n",
       "      <td>-0.046698</td>\n",
       "      <td>-0.009940</td>\n",
       "      <td>-0.008567</td>\n",
       "      <td>1.000000</td>\n",
       "      <td>-0.378812</td>\n",
       "      <td>0.421741</td>\n",
       "    </tr>\n",
       "    <tr>\n",
       "      <th>exercise</th>\n",
       "      <td>0.096801</td>\n",
       "      <td>0.141664</td>\n",
       "      <td>-0.394280</td>\n",
       "      <td>0.067616</td>\n",
       "      <td>0.067023</td>\n",
       "      <td>0.025665</td>\n",
       "      <td>-0.378812</td>\n",
       "      <td>1.000000</td>\n",
       "      <td>-0.436757</td>\n",
       "    </tr>\n",
       "    <tr>\n",
       "      <th>outcome</th>\n",
       "      <td>-0.225439</td>\n",
       "      <td>-0.280937</td>\n",
       "      <td>0.433798</td>\n",
       "      <td>-0.144931</td>\n",
       "      <td>-0.085239</td>\n",
       "      <td>-0.028046</td>\n",
       "      <td>0.421741</td>\n",
       "      <td>-0.436757</td>\n",
       "      <td>1.000000</td>\n",
       "    </tr>\n",
       "  </tbody>\n",
       "</table>\n",
       "</div>"
      ],
      "text/plain": [
       "                     age    gender      pain  blood_pressure  cholesterol  \\\n",
       "age             1.000000 -0.098447 -0.068653        0.279351     0.213678   \n",
       "gender         -0.098447  1.000000 -0.049353       -0.056769    -0.197912   \n",
       "pain           -0.068653 -0.049353  1.000000        0.047608    -0.076904   \n",
       "blood_pressure  0.279351 -0.056769  0.047608        1.000000     0.123174   \n",
       "cholesterol     0.213678 -0.197912 -0.076904        0.123174     1.000000   \n",
       "blood_sugar     0.121308  0.045032  0.094444        0.177531     0.013294   \n",
       "heart_rate     -0.398522 -0.044020  0.295762       -0.046698    -0.009940   \n",
       "exercise        0.096801  0.141664 -0.394280        0.067616     0.067023   \n",
       "outcome        -0.225439 -0.280937  0.433798       -0.144931    -0.085239   \n",
       "\n",
       "                blood_sugar  heart_rate  exercise   outcome  \n",
       "age                0.121308   -0.398522  0.096801 -0.225439  \n",
       "gender             0.045032   -0.044020  0.141664 -0.280937  \n",
       "pain               0.094444    0.295762 -0.394280  0.433798  \n",
       "blood_pressure     0.177531   -0.046698  0.067616 -0.144931  \n",
       "cholesterol        0.013294   -0.009940  0.067023 -0.085239  \n",
       "blood_sugar        1.000000   -0.008567  0.025665 -0.028046  \n",
       "heart_rate        -0.008567    1.000000 -0.378812  0.421741  \n",
       "exercise           0.025665   -0.378812  1.000000 -0.436757  \n",
       "outcome           -0.028046    0.421741 -0.436757  1.000000  "
      ]
     },
     "execution_count": 51,
     "metadata": {},
     "output_type": "execute_result"
    }
   ],
   "source": [
    "#  correlation of the columns, and a couple of scatter-plots\n",
    "\n",
    "patients.corr()"
   ]
  },
  {
   "cell_type": "code",
   "execution_count": 118,
   "metadata": {},
   "outputs": [
    {
     "data": {
      "text/plain": [
       "<matplotlib.axes._subplots.AxesSubplot at 0x7f99df6d0610>"
      ]
     },
     "execution_count": 118,
     "metadata": {},
     "output_type": "execute_result"
    },
    {
     "data": {
      "image/png": "[encoded data removed]",
      "text/plain": [
       "<Figure size 432x288 with 1 Axes>"
      ]
     },
     "metadata": {
      "needs_background": "light"
     },
     "output_type": "display_data"
    }
   ],
   "source": [
    "# age and heart_rate\n",
    "sns.scatterplot(x=\"age\", y=\"heart_rate\", data=patients, hue = \"outcome\")\n",
    "# seems the higher age, the lower heart rate."
   ]
  },
  {
   "cell_type": "code",
   "execution_count": 46,
   "metadata": {},
   "outputs": [
    {
     "data": {
      "text/plain": [
       "<matplotlib.axes._subplots.AxesSubplot at 0x7f99deafce50>"
      ]
     },
     "execution_count": 46,
     "metadata": {},
     "output_type": "execute_result"
    },
    {
     "data": {
      "image/png": "[encoded data removed]",
      "text/plain": [
       "<Figure size 432x288 with 1 Axes>"
      ]
     },
     "metadata": {
      "needs_background": "light"
     },
     "output_type": "display_data"
    }
   ],
   "source": [
    "# age and blood_pressure\n",
    "sns.scatterplot(x=\"age\", y=\"blood_pressure\", data=patients)\n",
    "# seems the higher age, the higher blood pressure."
   ]
  },
  {
   "cell_type": "code",
   "execution_count": 48,
   "metadata": {},
   "outputs": [
    {
     "data": {
      "text/plain": [
       "<seaborn.axisgrid.FacetGrid at 0x7f99da5df750>"
      ]
     },
     "execution_count": 48,
     "metadata": {},
     "output_type": "execute_result"
    },
    {
     "data": {
      "image/png": "[encoded data removed]",
      "text/plain": [
       "<Figure size 360x360 with 1 Axes>"
      ]
     },
     "metadata": {
      "needs_background": "light"
     },
     "output_type": "display_data"
    }
   ],
   "source": [
    "# age and cholesterol\n",
    "sns.lmplot(x=\"age\", y=\"cholesterol\", data=patients)\n",
    "# seems the higher age, the higher cholesterol."
   ]
  },
  {
   "cell_type": "code",
   "execution_count": 53,
   "metadata": {},
   "outputs": [
    {
     "name": "stdout",
     "output_type": "stream",
     "text": [
      "<class 'pandas.core.frame.DataFrame'>\n",
      "RangeIndex: 303 entries, 0 to 302\n",
      "Data columns (total 9 columns):\n",
      " #   Column          Non-Null Count  Dtype\n",
      "---  ------          --------------  -----\n",
      " 0   age             303 non-null    int64\n",
      " 1   gender          303 non-null    int64\n",
      " 2   pain            303 non-null    int64\n",
      " 3   blood_pressure  303 non-null    int64\n",
      " 4   cholesterol     303 non-null    int64\n",
      " 5   blood_sugar     303 non-null    int64\n",
      " 6   heart_rate      303 non-null    int64\n",
      " 7   exercise        303 non-null    int64\n",
      " 8   outcome         303 non-null    int64\n",
      "dtypes: int64(9)\n",
      "memory usage: 21.4 KB\n"
     ]
    }
   ],
   "source": [
    "patients.head()\n",
    "patients.info()"
   ]
  },
  {
   "cell_type": "code",
   "execution_count": 54,
   "metadata": {},
   "outputs": [],
   "source": [
    "# split data into train and test set. \n",
    "from sklearn.model_selection import train_test_split\n",
    "from sklearn.metrics import classification_report,confusion_matrix\n",
    "\n",
    "X = patients[patients.columns[0:8]]\n",
    "y = patients['outcome']\n",
    "\n",
    "# Then we crate training and test set, with 25% of the data in the test set\n",
    "\n",
    "X_train, X_test, y_train, y_test = train_test_split(X, y, test_size=0.25, random_state=42)\n"
   ]
  },
  {
   "cell_type": "code",
   "execution_count": 60,
   "metadata": {},
   "outputs": [
    {
     "name": "stdout",
     "output_type": "stream",
     "text": [
      "[[28  7]\n",
      " [ 7 34]]\n",
      "              precision    recall  f1-score   support\n",
      "\n",
      "           0       0.80      0.80      0.80        35\n",
      "           1       0.83      0.83      0.83        41\n",
      "\n",
      "    accuracy                           0.82        76\n",
      "   macro avg       0.81      0.81      0.81        76\n",
      "weighted avg       0.82      0.82      0.82        76\n",
      "\n"
     ]
    },
    {
     "name": "stderr",
     "output_type": "stream",
     "text": [
      "/opt/anaconda3/lib/python3.7/site-packages/sklearn/linear_model/_logistic.py:940: ConvergenceWarning: lbfgs failed to converge (status=1):\n",
      "STOP: TOTAL NO. of ITERATIONS REACHED LIMIT.\n",
      "\n",
      "Increase the number of iterations (max_iter) or scale the data as shown in:\n",
      "    https://scikit-learn.org/stable/modules/preprocessing.html\n",
      "Please also refer to the documentation for alternative solver options:\n",
      "    https://scikit-learn.org/stable/modules/linear_model.html#logistic-regression\n",
      "  extra_warning_msg=_LOGISTIC_SOLVER_CONVERGENCE_MSG)\n"
     ]
    }
   ],
   "source": [
    "# logistic regression by default parameters.\n",
    "from sklearn.linear_model import LogisticRegression\n",
    "\n",
    "# initialize and fit the logistic regression model\n",
    "patients_logistic = LogisticRegression(random_state=42)\n",
    "patients_logistic.fit(X_train,y_train)\n",
    "\n",
    "# create predictions for the test data\n",
    "pred_logistic = patients_logistic.predict(X_test)\n",
    "\n",
    "# create confution matrix and classification report\n",
    "print(confusion_matrix(y_test,pred_logistic))\n",
    "print(classification_report(y_test,pred_logistic))\n",
    "\n",
    "\n",
    "# A logistic regression without any parameter optimization. I can achieve the accuracy of 0.82."
   ]
  },
  {
   "cell_type": "code",
   "execution_count": 59,
   "metadata": {},
   "outputs": [],
   "source": [
    "# Create models by optimizing the parameters of (i) decision trees, (ii) bagging, and (iii)random forest classifiers. \n",
    "# What is the best accuracy you can achieve across all the models?\n",
    "\n",
    "from sklearn.model_selection import GridSearchCV\n"
   ]
  },
  {
   "cell_type": "code",
   "execution_count": 98,
   "metadata": {},
   "outputs": [
    {
     "name": "stdout",
     "output_type": "stream",
     "text": [
      "Best result is 0.7094685990338163 using {'class_weight': {0: 0.5, 1: 0.5}, 'criterion': 'entropy', 'max_depth': 4}\n"
     ]
    }
   ],
   "source": [
    "# (i) decision trees\n",
    "from sklearn.tree import DecisionTreeClassifier\n",
    "\n",
    "# initialize desicion tree model\n",
    "patients_tree = DecisionTreeClassifier(random_state = 42)\n",
    "\n",
    "# optimality criterion\n",
    "criterion = ['gini', 'entropy']\n",
    "\n",
    "# Maximum depth of the tree\n",
    "max_depth = [2,4,6,8,10,12]\n",
    "\n",
    "# Class weights\n",
    "weights = ['balanced', {0:0.1, 1:0.9},{0:0.5, 1:0.5}]\n",
    "\n",
    "# define the grid\n",
    "grid = dict(criterion = criterion, max_depth = max_depth, class_weight = weights)\n",
    "\n",
    "# specify the grid search\n",
    "grid_search_decisiontree = GridSearchCV(estimator=patients_tree, param_grid=grid, scoring='accuracy')\n",
    "\n",
    "grid_result_decitiontree = grid_search_decisiontree.fit(X_train, y_train)\n",
    "\n",
    "# Print out the best result\n",
    "print(\"Best result is\", grid_result_decitiontree.best_score_, 'using', grid_result_decitiontree.best_params_)\n",
    "\n"
   ]
  },
  {
   "cell_type": "code",
   "execution_count": 99,
   "metadata": {},
   "outputs": [
    {
     "name": "stdout",
     "output_type": "stream",
     "text": [
      "[[32  3]\n",
      " [12 29]]\n",
      "              precision    recall  f1-score   support\n",
      "\n",
      "           0       0.73      0.91      0.81        35\n",
      "           1       0.91      0.71      0.79        41\n",
      "\n",
      "    accuracy                           0.80        76\n",
      "   macro avg       0.82      0.81      0.80        76\n",
      "weighted avg       0.82      0.80      0.80        76\n",
      "\n"
     ]
    }
   ],
   "source": [
    "# try the best decision tree model.\n",
    "\n",
    "patients_tree_o = DecisionTreeClassifier(max_depth = 4, criterion = 'entropy', class_weight= {0: 0.5, 1: 0.5}, random_state = 42)\n",
    "patients_tree_o.fit(X_train, y_train)\n",
    "pred_tree = patients_tree_o.predict(X_test)\n",
    "print(confusion_matrix(y_test,pred_tree))\n",
    "print(classification_report(y_test,pred_tree))\n",
    "\n",
    "# the best accuracy for decision tree is 0.80."
   ]
  },
  {
   "cell_type": "code",
   "execution_count": 102,
   "metadata": {},
   "outputs": [
    {
     "name": "stdout",
     "output_type": "stream",
     "text": [
      "Best result is 0.7266666666666666 using {'n_estimators': 100}\n"
     ]
    }
   ],
   "source": [
    "# (ii) bagging\n",
    "\n",
    "from sklearn.ensemble import BaggingClassifier\n",
    "\n",
    "patients_bag = DecisionTreeClassifier(max_depth = 4, criterion = 'entropy', class_weight= {0: 0.5, 1: 0.5}, random_state = 42)\n",
    "\n",
    "\n",
    "n = [10,50,100,300,500]\n",
    "\n",
    "grid = dict(n_estimators = n)\n",
    "\n",
    "bag_patients = BaggingClassifier(base_estimator = patients_bag, random_state = 42)\n",
    "\n",
    "grid_search = GridSearchCV(estimator=bag_patients, param_grid=grid, scoring='accuracy')\n",
    "\n",
    "grid_result = grid_search.fit(X_train, y_train)\n",
    "\n",
    "# Print out the best result\n",
    "print(\"Best result is\", grid_result.best_score_, 'using', grid_result.best_params_)\n",
    "\n"
   ]
  },
  {
   "cell_type": "code",
   "execution_count": 103,
   "metadata": {},
   "outputs": [
    {
     "name": "stdout",
     "output_type": "stream",
     "text": [
      "[[29  6]\n",
      " [ 7 34]]\n",
      "              precision    recall  f1-score   support\n",
      "\n",
      "           0       0.81      0.83      0.82        35\n",
      "           1       0.85      0.83      0.84        41\n",
      "\n",
      "    accuracy                           0.83        76\n",
      "   macro avg       0.83      0.83      0.83        76\n",
      "weighted avg       0.83      0.83      0.83        76\n",
      "\n"
     ]
    }
   ],
   "source": [
    "# try the best bagging model\n",
    "\n",
    "bag_patients_o = BaggingClassifier(base_estimator = patients_bag, random_state = 42, n_estimators=100)\n",
    "\n",
    "bag_patients_o.fit(X_train, y_train)\n",
    "pred_bagging = bag_patients_o.predict(X_test)\n",
    "print(confusion_matrix(y_test,pred_bagging))\n",
    "print(classification_report(y_test,pred_bagging))\n",
    "\n",
    "# the best accuracy for decision tree is 0.83."
   ]
  },
  {
   "cell_type": "code",
   "execution_count": 109,
   "metadata": {},
   "outputs": [
    {
     "name": "stdout",
     "output_type": "stream",
     "text": [
      "Best result is 0.7664734299516909 using {'class_weight': {0: 0.5, 1: 0.5}, 'criterion': 'entropy', 'max_depth': 2, 'n_estimators': 500}\n"
     ]
    }
   ],
   "source": [
    "# (iii)random forest classifiers\n",
    "\n",
    "from sklearn.ensemble import RandomForestClassifier\n",
    "\n",
    "\n",
    "criterion = ['gini', 'entropy']\n",
    "\n",
    "# Maximum depth of the tree\n",
    "max_depth = [2,4,6,8,10,12]\n",
    "\n",
    "# Class weights\n",
    "weights = ['balanced', {0:0.1, 1:0.9},{0:0.5, 1:0.5}]\n",
    "\n",
    "\n",
    "n = [10,50,100,300,500]\n",
    "\n",
    "grid = dict(n_estimators = n, criterion = criterion, max_depth = max_depth, class_weight = weights)\n",
    "\n",
    "forest_patients = RandomForestClassifier(random_state = 42)\n",
    "\n",
    "grid_search = GridSearchCV(estimator=forest_patients, param_grid=grid, scoring='accuracy')\n",
    "\n",
    "grid_result = grid_search.fit(X_train, y_train)\n",
    "\n",
    "# Print out the best result\n",
    "print(\"Best result is\", grid_result.best_score_, 'using', grid_result.best_params_)\n"
   ]
  },
  {
   "cell_type": "code",
   "execution_count": 110,
   "metadata": {},
   "outputs": [
    {
     "name": "stdout",
     "output_type": "stream",
     "text": [
      "[[28  7]\n",
      " [ 5 36]]\n",
      "              precision    recall  f1-score   support\n",
      "\n",
      "           0       0.85      0.80      0.82        35\n",
      "           1       0.84      0.88      0.86        41\n",
      "\n",
      "    accuracy                           0.84        76\n",
      "   macro avg       0.84      0.84      0.84        76\n",
      "weighted avg       0.84      0.84      0.84        76\n",
      "\n"
     ]
    }
   ],
   "source": [
    "# try the best random forest model\n",
    "forest_patients_o = RandomForestClassifier(n_estimators= 500 , class_weight={0: 0.5, 1: 0.5}, criterion=\"entropy\", max_depth=2, random_state = 42)\n",
    "forest_patients_o.fit(X_train, y_train)\n",
    "pred_forest = forest_patients_o.predict(X_test)\n",
    "print(confusion_matrix(y_test,pred_forest))\n",
    "print(classification_report(y_test,pred_forest))\n",
    "\n",
    "# the best accuracy for random forest is 0.84.\n"
   ]
  },
  {
   "cell_type": "code",
   "execution_count": 92,
   "metadata": {},
   "outputs": [],
   "source": [
    "# What are the four most important predictors according to the best decision tree model?\n",
    "# Create a new decision tree model that uses only those four variables as predictors. \n",
    "# What is the best accuracy you can achieve using only the four variables?"
   ]
  },
  {
   "cell_type": "code",
   "execution_count": 101,
   "metadata": {},
   "outputs": [
    {
     "data": {
      "text/plain": [
       "pain              0.353297\n",
       "heart_rate        0.174645\n",
       "age               0.138647\n",
       "exercise          0.122299\n",
       "gender            0.120693\n",
       "cholesterol       0.090420\n",
       "blood_sugar       0.000000\n",
       "blood_pressure    0.000000\n",
       "dtype: float64"
      ]
     },
     "execution_count": 101,
     "metadata": {},
     "output_type": "execute_result"
    }
   ],
   "source": [
    "# the best decision tree model is patients_tree_o. \n",
    "\n",
    "pd.Series(data = patients_tree_o.feature_importances_, index= X_train.columns).sort_values(ascending=False)\n",
    "\n",
    "# the four most important predictors is pain, heart_rate, age, and exercise.\n"
   ]
  },
  {
   "cell_type": "code",
   "execution_count": 104,
   "metadata": {},
   "outputs": [
    {
     "name": "stdout",
     "output_type": "stream",
     "text": [
      "Best result is 0.7092753623188405 using {'class_weight': 'balanced', 'criterion': 'gini', 'max_depth': 2}\n"
     ]
    }
   ],
   "source": [
    "X_D = patients[[\"pain\", \"heart_rate\", \"age\", \"exercise\"]]\n",
    "y = patients['outcome']\n",
    "\n",
    "# Then we crate training and test set, with 25% of the data in the test set\n",
    "\n",
    "X_D_train, X_D_test, y_D_train, y_D_test = train_test_split(X_D, y, test_size=0.25, random_state=42)\n",
    "\n",
    "\n",
    "\n",
    "\n",
    "# initialize desicion tree model\n",
    "patients_tree_D = DecisionTreeClassifier(random_state = 42)\n",
    "\n",
    "# optimality criterion\n",
    "criterion = ['gini', 'entropy']\n",
    "\n",
    "# Maximum depth of the tree\n",
    "max_depth = [2,4,6,8,10,12]\n",
    "\n",
    "# Class weights\n",
    "weights = ['balanced', {0:0.1, 1:0.9},{0:0.5, 1:0.5}]\n",
    "\n",
    "# define the grid\n",
    "grid = dict(criterion = criterion, max_depth = max_depth, class_weight = weights)\n",
    "\n",
    "# specify the grid search\n",
    "grid_search_decisiontree_D = GridSearchCV(estimator=patients_tree_D, param_grid=grid, scoring='accuracy')\n",
    "\n",
    "grid_result_decitiontree_D = grid_search_decisiontree.fit(X_D_train, y_D_train)\n",
    "\n",
    "# Print out the best result\n",
    "print(\"Best result is\", grid_result_decitiontree_D.best_score_, 'using', grid_result_decitiontree_D.best_params_)\n",
    "\n",
    "\n"
   ]
  },
  {
   "cell_type": "code",
   "execution_count": 106,
   "metadata": {},
   "outputs": [
    {
     "name": "stdout",
     "output_type": "stream",
     "text": [
      "[[30  5]\n",
      " [10 31]]\n",
      "              precision    recall  f1-score   support\n",
      "\n",
      "           0       0.75      0.86      0.80        35\n",
      "           1       0.86      0.76      0.81        41\n",
      "\n",
      "    accuracy                           0.80        76\n",
      "   macro avg       0.81      0.81      0.80        76\n",
      "weighted avg       0.81      0.80      0.80        76\n",
      "\n"
     ]
    }
   ],
   "source": [
    "patients_tree_D4 = DecisionTreeClassifier(random_state = 42,class_weight=\"balanced\",max_depth=2, criterion=\"gini\")\n",
    "\n",
    "patients_tree_D4.fit(X_D_train, y_D_train)\n",
    "pred_tree = patients_tree_D4.predict(X_D_test)\n",
    "print(confusion_matrix(y_D_test,pred_tree))\n",
    "print(classification_report(y_D_test,pred_tree))\n",
    "\n",
    "# The results is the same, the accurace is also 0.80, but the new model predict correctly 2 more TP cases.\n",
    "\n",
    "# [[32  3]\n",
    "#  [12 29]]\n",
    "\n"
   ]
  },
  {
   "cell_type": "code",
   "execution_count": null,
   "metadata": {},
   "outputs": [],
   "source": []
  }
 ],
 "metadata": {
  "kernelspec": {
   "display_name": "Python 3",
   "language": "python",
   "name": "python3"
  },
  "language_info": {
   "codemirror_mode": {
    "name": "ipython",
    "version": 3
   },
   "file_extension": ".py",
   "mimetype": "text/x-python",
   "name": "python",
   "nbconvert_exporter": "python",
   "pygments_lexer": "ipython3",
   "version": "3.7.6"
  }
 },
 "nbformat": 4,
 "nbformat_minor": 4
}
