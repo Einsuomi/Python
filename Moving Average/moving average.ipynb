{
 "cells": [
  {
   "cell_type": "markdown",
   "metadata": {},
   "source": [
    "### Question Moving_Average. <code>moving_average()</code>\n",
    "\n",
    "Moving average is a widely used method in forecasting and time series analysis. To predict a future value, it takes the average of the previous $k$ observations. Please create a function <code>moving_average()</code> that takes a list of values, <code>L</code>, and an integer indicating the value of $k$. You function should perform the corresponding moving average forecasting, **print** all the forecasted values, and then **print** the total squared error of the forecast.\n",
    "\n",
    "You can use the following steps in your function, and let's use $k = 2$ as an example:\n",
    "* First, the function generates a list of forecasted values, <code>L_f</code>, as follows: \n",
    "  * The first two forecasted values (as $k = 2$ in this example) in <code>L_f</code> are the same as the first two values in the original list <code>L</code>, *i.e.*, <code>L_f[0] = L[0]</code> and <code>L_f[1] = L[1]</code>.\n",
    "  * The following forecasted values in <code>L_f</code> will be the average of the previous two values (as $k = 2$ in this example) from the original list <code>L</code>, *i.e.*, <code>L_f[t] = (L[t-1] + L[t-2])/2</code>.\n",
    "  * For example, if the original list is <code>L = [6,8,4,9,3,7]</code>, the first two values in <code>L_f</code> will be 6 and 8 as in the original list <code>L</code>, then <code>L_f[2] = (6 + 8)/2</code>, <code>L_f[3] = (8 + 4)/2</code> etc.\n",
    "* Calculate the forecast error <code>e_i</code> for each index <code>i</code> as <code>e_i = L[i] - L_f[i]</code>.\n",
    "* Calculate the total squared error as the sum of all the squared forecast errors.\n",
    "* For example, for <code>L = [6,8,4,9,3,7]</code> when $k = 2$:\n",
    "  * The list of forecasted values is <code>L_f = [6, 8, 7.0, 6.0, 6.5, 6.0]</code> \n",
    "  * The total squared error is $31.25$"
   ]
  },
  {
   "cell_type": "code",
   "execution_count": 8,
   "metadata": {},
   "outputs": [],
   "source": [
    "## Your function starts from here:\n",
    "def moving_average(L,k):\n",
    "    L_f=[]\n",
    "    n=len(L)\n",
    "    t=k\n",
    "    s_e=0\n",
    "    \n",
    "    for i in range(k):\n",
    "        L_f.append(L[i])     ### first k value is the same for L and L_f\n",
    " \n",
    "    while t<n:               ### L_f[t] is the last element\n",
    "        lf=0                 ### \n",
    "        for i in range(k):   ### previous k element \n",
    "            lf+=L[t-i-1]     ### sum of previous k element\n",
    "        lft=lf/k             ### average\n",
    "        L_f.append(lft)      ### append it in L_f\n",
    "        t+=1                 ### move to next element\n",
    "        \n",
    "    for i in range(n):\n",
    "        \n",
    "        e_i=L[i]-L_f[i]\n",
    "        s_e+=e_i**2\n",
    "        \n",
    "    \n",
    "    print (L_f)\n",
    "    print (s_e)\n",
    "        \n",
    "    \n",
    "    \n",
    "\n",
    "\n",
    "\n"
   ]
  },
  {
   "cell_type": "code",
   "execution_count": 9,
   "metadata": {
    "collapsed": true
   },
   "outputs": [
    {
     "name": "stdout",
     "output_type": "stream",
     "text": [
      "[6, 8, 7.0, 6.0, 6.5, 6.0]\n",
      "31.25\n"
     ]
    }
   ],
   "source": [
    "## Test your function with the following list L and assume k = 2:\n",
    "\n",
    "\n",
    "L = [6,8,4,9,3,7]\n",
    "\n",
    "moving_average(L, 2)\n",
    "\n",
    "\n",
    "## The forecasted values and the corresponding total squared error are as follows:\n",
    "##\n",
    "## [6, 8, 7.0, 6.0, 6.5, 6.0]\n",
    "## 31.25"
   ]
  },
  {
   "cell_type": "code",
   "execution_count": 10,
   "metadata": {
    "collapsed": true
   },
   "outputs": [
    {
     "name": "stdout",
     "output_type": "stream",
     "text": [
      "[88, 44, 66.0, 52.0, 58.0, 63.0, 80.5, 72.5, 57.0, 54.0, 41.5, 42.0, 46.5, 52.5, 64.5, 75.0, 76.5]\n",
      "3815.75\n",
      "\n",
      "\n",
      "[88, 44, 60, 64.0, 53.333333333333336, 62.0, 72.33333333333333, 71.66666666666667, 68.33333333333333, 54.0, 47.666666666666664, 44.0, 42.666666666666664, 51.333333333333336, 57.666666666666664, 70.33333333333333, 73.66666666666667]\n",
      "4197.777777777778\n",
      "\n",
      "\n",
      "[88, 44, 60, 56, 62.0, 57.5, 69.25, 67.75, 68.75, 63.25, 49.25, 48.0, 44.0, 47.25, 55.5, 63.75, 70.5]\n",
      "4618.1875\n",
      "\n",
      "\n"
     ]
    }
   ],
   "source": [
    "## Test your function again with the following list of numbers and different values of k (2,3 and 4):\n",
    "\n",
    "\n",
    "L = [88,44,60,56,70,91,54,60,48,35,49,44,61,68,82,71,50]\n",
    "\n",
    "for k in range(2,5):\n",
    "    moving_average(L, k)\n",
    "    print(\"\\n\")\n",
    "\n",
    "    \n",
    "## The forecasted values and the corresponding total squared error for each k are as follows:\n",
    "##\n",
    "## [88, 44, 66.0, 52.0, 58.0, 63.0, 80.5, 72.5, 57.0, 54.0, 41.5, 42.0, 46.5, 52.5, 64.5, 75.0, 76.5]\n",
    "## 3815.75 \n",
    "##\n",
    "##\n",
    "## [88, 44, 60, 64.0, 53.333333333333336, 62.0, 72.33333333333333, 71.66666666666667, 68.33333333333333, 54.0, 47.666666666666664, 44.0, 42.666666666666664, 51.333333333333336, 57.666666666666664, 70.33333333333333, 73.66666666666667]\n",
    "## 4197.777777777778 \n",
    "##\n",
    "##\n",
    "## [88, 44, 60, 56, 62.0, 57.5, 69.25, 67.75, 68.75, 63.25, 49.25, 48.0, 44.0, 47.25, 55.5, 63.75, 70.5]\n",
    "## 4618.1875 "
   ]
  },
  {
   "cell_type": "code",
   "execution_count": null,
   "metadata": {},
   "outputs": [],
   "source": []
  }
 ],
 "metadata": {
  "kernelspec": {
   "display_name": "Python 3",
   "language": "python",
   "name": "python3"
  },
  "language_info": {
   "codemirror_mode": {
    "name": "ipython",
    "version": 3
   },
   "file_extension": ".py",
   "mimetype": "text/x-python",
   "name": "python",
   "nbconvert_exporter": "python",
   "pygments_lexer": "ipython3",
   "version": "3.7.6"
  }
 },
 "nbformat": 4,
 "nbformat_minor": 4
}
