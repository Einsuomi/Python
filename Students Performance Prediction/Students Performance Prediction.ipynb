{
 "cells": [
  {
   "cell_type": "code",
   "execution_count": 1,
   "metadata": {
    "id": "v2SbC_gepMiB"
   },
   "outputs": [],
   "source": [
    "import pandas as pd\n",
    "import numpy as np\n",
    "import seaborn as sns\n",
    "import matplotlib as plt\n"
   ]
  },
  {
   "cell_type": "code",
   "execution_count": 5,
   "metadata": {},
   "outputs": [],
   "source": [
    "# Load the data from a csv file \"MP2_Data.csv\".\n",
    "\n",
    "data = pd.read_csv(\"MP2_Data.csv\")"
   ]
  },
  {
   "cell_type": "code",
   "execution_count": 6,
   "metadata": {
    "colab": {
     "base_uri": "https://localhost:8080/",
     "height": 473
    },
    "id": "bNthvuilqY4S",
    "outputId": "2e022a4d-0fb0-4498-dfbf-3f70ccccb8b1"
   },
   "outputs": [
    {
     "data": {
      "text/html": [
       "<div>\n",
       "<style scoped>\n",
       "    .dataframe tbody tr th:only-of-type {\n",
       "        vertical-align: middle;\n",
       "    }\n",
       "\n",
       "    .dataframe tbody tr th {\n",
       "        vertical-align: top;\n",
       "    }\n",
       "\n",
       "    .dataframe thead th {\n",
       "        text-align: right;\n",
       "    }\n",
       "</style>\n",
       "<table border=\"1\" class=\"dataframe\">\n",
       "  <thead>\n",
       "    <tr style=\"text-align: right;\">\n",
       "      <th></th>\n",
       "      <th>ID</th>\n",
       "      <th>Week2_Quiz1</th>\n",
       "      <th>Week3_MP1</th>\n",
       "      <th>Week3_PR1</th>\n",
       "      <th>Week5_MP2</th>\n",
       "      <th>Week5_PR2</th>\n",
       "      <th>Week7_MP3</th>\n",
       "      <th>Week7_PR3</th>\n",
       "      <th>Week4_Quiz2</th>\n",
       "      <th>Week6_Quiz3</th>\n",
       "      <th>...</th>\n",
       "      <th>Week7_Stat3</th>\n",
       "      <th>Week8_Stat0</th>\n",
       "      <th>Week8_Stat1</th>\n",
       "      <th>Week8_Stat2</th>\n",
       "      <th>Week8_Stat3</th>\n",
       "      <th>Week9_Stat0</th>\n",
       "      <th>Week9_Stat1</th>\n",
       "      <th>Week9_Stat2</th>\n",
       "      <th>Week9_Stat3</th>\n",
       "      <th>Grade</th>\n",
       "    </tr>\n",
       "  </thead>\n",
       "  <tbody>\n",
       "    <tr>\n",
       "      <th>0</th>\n",
       "      <td>ML-2020-1</td>\n",
       "      <td>5.00</td>\n",
       "      <td>15.0</td>\n",
       "      <td>5.0</td>\n",
       "      <td>16.09</td>\n",
       "      <td>5.00</td>\n",
       "      <td>21.88</td>\n",
       "      <td>5.0</td>\n",
       "      <td>5.00</td>\n",
       "      <td>5.0</td>\n",
       "      <td>...</td>\n",
       "      <td>0</td>\n",
       "      <td>5</td>\n",
       "      <td>4</td>\n",
       "      <td>0</td>\n",
       "      <td>4</td>\n",
       "      <td>8</td>\n",
       "      <td>6</td>\n",
       "      <td>1</td>\n",
       "      <td>0</td>\n",
       "      <td>4</td>\n",
       "    </tr>\n",
       "    <tr>\n",
       "      <th>1</th>\n",
       "      <td>ML-2020-2</td>\n",
       "      <td>3.33</td>\n",
       "      <td>15.0</td>\n",
       "      <td>5.0</td>\n",
       "      <td>17.83</td>\n",
       "      <td>5.00</td>\n",
       "      <td>22.27</td>\n",
       "      <td>5.0</td>\n",
       "      <td>4.00</td>\n",
       "      <td>5.0</td>\n",
       "      <td>...</td>\n",
       "      <td>8</td>\n",
       "      <td>5</td>\n",
       "      <td>2</td>\n",
       "      <td>0</td>\n",
       "      <td>0</td>\n",
       "      <td>25</td>\n",
       "      <td>3</td>\n",
       "      <td>2</td>\n",
       "      <td>5</td>\n",
       "      <td>4</td>\n",
       "    </tr>\n",
       "    <tr>\n",
       "      <th>2</th>\n",
       "      <td>ML-2020-3</td>\n",
       "      <td>1.67</td>\n",
       "      <td>13.0</td>\n",
       "      <td>5.0</td>\n",
       "      <td>15.22</td>\n",
       "      <td>5.00</td>\n",
       "      <td>27.05</td>\n",
       "      <td>2.5</td>\n",
       "      <td>5.00</td>\n",
       "      <td>5.0</td>\n",
       "      <td>...</td>\n",
       "      <td>0</td>\n",
       "      <td>8</td>\n",
       "      <td>2</td>\n",
       "      <td>0</td>\n",
       "      <td>0</td>\n",
       "      <td>9</td>\n",
       "      <td>0</td>\n",
       "      <td>1</td>\n",
       "      <td>0</td>\n",
       "      <td>3</td>\n",
       "    </tr>\n",
       "    <tr>\n",
       "      <th>3</th>\n",
       "      <td>ML-2020-4</td>\n",
       "      <td>2.50</td>\n",
       "      <td>14.0</td>\n",
       "      <td>5.0</td>\n",
       "      <td>10.00</td>\n",
       "      <td>5.00</td>\n",
       "      <td>31.02</td>\n",
       "      <td>5.0</td>\n",
       "      <td>3.13</td>\n",
       "      <td>5.0</td>\n",
       "      <td>...</td>\n",
       "      <td>4</td>\n",
       "      <td>10</td>\n",
       "      <td>0</td>\n",
       "      <td>0</td>\n",
       "      <td>0</td>\n",
       "      <td>7</td>\n",
       "      <td>6</td>\n",
       "      <td>0</td>\n",
       "      <td>0</td>\n",
       "      <td>3</td>\n",
       "    </tr>\n",
       "    <tr>\n",
       "      <th>4</th>\n",
       "      <td>ML-2020-6</td>\n",
       "      <td>0.00</td>\n",
       "      <td>15.0</td>\n",
       "      <td>5.0</td>\n",
       "      <td>12.17</td>\n",
       "      <td>4.93</td>\n",
       "      <td>15.91</td>\n",
       "      <td>5.0</td>\n",
       "      <td>4.67</td>\n",
       "      <td>5.0</td>\n",
       "      <td>...</td>\n",
       "      <td>6</td>\n",
       "      <td>8</td>\n",
       "      <td>5</td>\n",
       "      <td>1</td>\n",
       "      <td>1</td>\n",
       "      <td>5</td>\n",
       "      <td>3</td>\n",
       "      <td>1</td>\n",
       "      <td>0</td>\n",
       "      <td>2</td>\n",
       "    </tr>\n",
       "  </tbody>\n",
       "</table>\n",
       "<p>5 rows × 48 columns</p>\n",
       "</div>"
      ],
      "text/plain": [
       "          ID  Week2_Quiz1  Week3_MP1  Week3_PR1  Week5_MP2  Week5_PR2  \\\n",
       "0  ML-2020-1         5.00       15.0        5.0      16.09       5.00   \n",
       "1  ML-2020-2         3.33       15.0        5.0      17.83       5.00   \n",
       "2  ML-2020-3         1.67       13.0        5.0      15.22       5.00   \n",
       "3  ML-2020-4         2.50       14.0        5.0      10.00       5.00   \n",
       "4  ML-2020-6         0.00       15.0        5.0      12.17       4.93   \n",
       "\n",
       "   Week7_MP3  Week7_PR3  Week4_Quiz2  Week6_Quiz3  ...  Week7_Stat3  \\\n",
       "0      21.88        5.0         5.00          5.0  ...            0   \n",
       "1      22.27        5.0         4.00          5.0  ...            8   \n",
       "2      27.05        2.5         5.00          5.0  ...            0   \n",
       "3      31.02        5.0         3.13          5.0  ...            4   \n",
       "4      15.91        5.0         4.67          5.0  ...            6   \n",
       "\n",
       "   Week8_Stat0  Week8_Stat1  Week8_Stat2  Week8_Stat3  Week9_Stat0  \\\n",
       "0            5            4            0            4            8   \n",
       "1            5            2            0            0           25   \n",
       "2            8            2            0            0            9   \n",
       "3           10            0            0            0            7   \n",
       "4            8            5            1            1            5   \n",
       "\n",
       "   Week9_Stat1  Week9_Stat2  Week9_Stat3  Grade  \n",
       "0            6            1            0      4  \n",
       "1            3            2            5      4  \n",
       "2            0            1            0      3  \n",
       "3            6            0            0      3  \n",
       "4            3            1            0      2  \n",
       "\n",
       "[5 rows x 48 columns]"
      ]
     },
     "execution_count": 6,
     "metadata": {},
     "output_type": "execute_result"
    }
   ],
   "source": [
    "data.head()"
   ]
  },
  {
   "cell_type": "markdown",
   "metadata": {
    "id": "8vZB4cetrsOG"
   },
   "source": [
    "# Descriptive analysis\n",
    "Try to understand the data\n"
   ]
  },
  {
   "cell_type": "code",
   "execution_count": 7,
   "metadata": {
    "colab": {
     "base_uri": "https://localhost:8080/"
    },
    "id": "2ZNMqxhYqhdq",
    "outputId": "154f431f-442b-4619-e149-2e6d155f3d9d"
   },
   "outputs": [
    {
     "name": "stdout",
     "output_type": "stream",
     "text": [
      "<class 'pandas.core.frame.DataFrame'>\n",
      "RangeIndex: 107 entries, 0 to 106\n",
      "Data columns (total 48 columns):\n",
      " #   Column       Non-Null Count  Dtype  \n",
      "---  ------       --------------  -----  \n",
      " 0   ID           107 non-null    object \n",
      " 1   Week2_Quiz1  107 non-null    float64\n",
      " 2   Week3_MP1    107 non-null    float64\n",
      " 3   Week3_PR1    107 non-null    float64\n",
      " 4   Week5_MP2    107 non-null    float64\n",
      " 5   Week5_PR2    107 non-null    float64\n",
      " 6   Week7_MP3    107 non-null    float64\n",
      " 7   Week7_PR3    107 non-null    float64\n",
      " 8   Week4_Quiz2  107 non-null    float64\n",
      " 9   Week6_Quiz3  107 non-null    float64\n",
      " 10  Week8_Total  107 non-null    float64\n",
      " 11  Week1_Stat0  107 non-null    int64  \n",
      " 12  Week1_Stat1  107 non-null    int64  \n",
      " 13  Week1_Stat2  107 non-null    int64  \n",
      " 14  Week1_Stat3  107 non-null    int64  \n",
      " 15  Week2_Stat0  107 non-null    int64  \n",
      " 16  Week2_Stat1  107 non-null    int64  \n",
      " 17  Week2_Stat2  107 non-null    int64  \n",
      " 18  Week2_Stat3  107 non-null    int64  \n",
      " 19  Week3_Stat0  107 non-null    int64  \n",
      " 20  Week3_Stat1  107 non-null    int64  \n",
      " 21  Week3_Stat2  107 non-null    int64  \n",
      " 22  Week3_Stat3  107 non-null    int64  \n",
      " 23  Week4_Stat0  107 non-null    int64  \n",
      " 24  Week4_Stat1  107 non-null    int64  \n",
      " 25  Week4_Stat2  107 non-null    int64  \n",
      " 26  Week4_Stat3  107 non-null    int64  \n",
      " 27  Week5_Stat0  107 non-null    int64  \n",
      " 28  Week5_Stat1  107 non-null    int64  \n",
      " 29  Week5_Stat2  107 non-null    int64  \n",
      " 30  Week5_Stat3  107 non-null    int64  \n",
      " 31  Week6_Stat0  107 non-null    int64  \n",
      " 32  Week6_Stat1  107 non-null    int64  \n",
      " 33  Week6_Stat2  107 non-null    int64  \n",
      " 34  Week6_Stat3  107 non-null    int64  \n",
      " 35  Week7_Stat0  107 non-null    int64  \n",
      " 36  Week7_Stat1  107 non-null    int64  \n",
      " 37  Week7_Stat2  107 non-null    int64  \n",
      " 38  Week7_Stat3  107 non-null    int64  \n",
      " 39  Week8_Stat0  107 non-null    int64  \n",
      " 40  Week8_Stat1  107 non-null    int64  \n",
      " 41  Week8_Stat2  107 non-null    int64  \n",
      " 42  Week8_Stat3  107 non-null    int64  \n",
      " 43  Week9_Stat0  107 non-null    int64  \n",
      " 44  Week9_Stat1  107 non-null    int64  \n",
      " 45  Week9_Stat2  107 non-null    int64  \n",
      " 46  Week9_Stat3  107 non-null    int64  \n",
      " 47  Grade        107 non-null    int64  \n",
      "dtypes: float64(10), int64(37), object(1)\n",
      "memory usage: 40.2+ KB\n"
     ]
    }
   ],
   "source": [
    "data.info()\n",
    "\n",
    "# Only numeric variables except for ID\n",
    "# No missing values\n"
   ]
  },
  {
   "cell_type": "code",
   "execution_count": 8,
   "metadata": {
    "colab": {
     "base_uri": "https://localhost:8080/",
     "height": 394
    },
    "id": "EQWpHRHksUw7",
    "outputId": "240729f9-1777-4680-c03e-4eb8d3ff39d8"
   },
   "outputs": [
    {
     "data": {
      "text/html": [
       "<div>\n",
       "<style scoped>\n",
       "    .dataframe tbody tr th:only-of-type {\n",
       "        vertical-align: middle;\n",
       "    }\n",
       "\n",
       "    .dataframe tbody tr th {\n",
       "        vertical-align: top;\n",
       "    }\n",
       "\n",
       "    .dataframe thead th {\n",
       "        text-align: right;\n",
       "    }\n",
       "</style>\n",
       "<table border=\"1\" class=\"dataframe\">\n",
       "  <thead>\n",
       "    <tr style=\"text-align: right;\">\n",
       "      <th></th>\n",
       "      <th>Week2_Quiz1</th>\n",
       "      <th>Week3_MP1</th>\n",
       "      <th>Week3_PR1</th>\n",
       "      <th>Week5_MP2</th>\n",
       "      <th>Week5_PR2</th>\n",
       "      <th>Week7_MP3</th>\n",
       "      <th>Week7_PR3</th>\n",
       "      <th>Week4_Quiz2</th>\n",
       "      <th>Week6_Quiz3</th>\n",
       "      <th>Week8_Total</th>\n",
       "      <th>...</th>\n",
       "      <th>Week7_Stat3</th>\n",
       "      <th>Week8_Stat0</th>\n",
       "      <th>Week8_Stat1</th>\n",
       "      <th>Week8_Stat2</th>\n",
       "      <th>Week8_Stat3</th>\n",
       "      <th>Week9_Stat0</th>\n",
       "      <th>Week9_Stat1</th>\n",
       "      <th>Week9_Stat2</th>\n",
       "      <th>Week9_Stat3</th>\n",
       "      <th>Grade</th>\n",
       "    </tr>\n",
       "  </thead>\n",
       "  <tbody>\n",
       "    <tr>\n",
       "      <th>count</th>\n",
       "      <td>107.000000</td>\n",
       "      <td>107.000000</td>\n",
       "      <td>107.000000</td>\n",
       "      <td>107.000000</td>\n",
       "      <td>107.000000</td>\n",
       "      <td>107.000000</td>\n",
       "      <td>107.000000</td>\n",
       "      <td>107.000000</td>\n",
       "      <td>107.000000</td>\n",
       "      <td>107.000000</td>\n",
       "      <td>...</td>\n",
       "      <td>107.000000</td>\n",
       "      <td>107.000000</td>\n",
       "      <td>107.000000</td>\n",
       "      <td>107.000000</td>\n",
       "      <td>107.000000</td>\n",
       "      <td>107.000000</td>\n",
       "      <td>107.000000</td>\n",
       "      <td>107.000000</td>\n",
       "      <td>107.000000</td>\n",
       "      <td>107.000000</td>\n",
       "    </tr>\n",
       "    <tr>\n",
       "      <th>mean</th>\n",
       "      <td>2.406636</td>\n",
       "      <td>7.949626</td>\n",
       "      <td>2.803738</td>\n",
       "      <td>9.237757</td>\n",
       "      <td>2.844673</td>\n",
       "      <td>14.481869</td>\n",
       "      <td>2.383178</td>\n",
       "      <td>2.609439</td>\n",
       "      <td>2.663551</td>\n",
       "      <td>47.380467</td>\n",
       "      <td>...</td>\n",
       "      <td>1.252336</td>\n",
       "      <td>10.514019</td>\n",
       "      <td>3.130841</td>\n",
       "      <td>1.112150</td>\n",
       "      <td>0.355140</td>\n",
       "      <td>7.663551</td>\n",
       "      <td>1.607477</td>\n",
       "      <td>1.093458</td>\n",
       "      <td>0.046729</td>\n",
       "      <td>2.074766</td>\n",
       "    </tr>\n",
       "    <tr>\n",
       "      <th>std</th>\n",
       "      <td>2.000317</td>\n",
       "      <td>6.892312</td>\n",
       "      <td>2.493158</td>\n",
       "      <td>8.640610</td>\n",
       "      <td>2.482099</td>\n",
       "      <td>14.080211</td>\n",
       "      <td>2.437501</td>\n",
       "      <td>2.229419</td>\n",
       "      <td>2.414359</td>\n",
       "      <td>41.035589</td>\n",
       "      <td>...</td>\n",
       "      <td>2.399267</td>\n",
       "      <td>15.563846</td>\n",
       "      <td>4.841028</td>\n",
       "      <td>3.658351</td>\n",
       "      <td>1.191577</td>\n",
       "      <td>9.277630</td>\n",
       "      <td>2.687346</td>\n",
       "      <td>3.368928</td>\n",
       "      <td>0.483368</td>\n",
       "      <td>1.993863</td>\n",
       "    </tr>\n",
       "    <tr>\n",
       "      <th>min</th>\n",
       "      <td>0.000000</td>\n",
       "      <td>0.000000</td>\n",
       "      <td>0.000000</td>\n",
       "      <td>0.000000</td>\n",
       "      <td>0.000000</td>\n",
       "      <td>0.000000</td>\n",
       "      <td>0.000000</td>\n",
       "      <td>0.000000</td>\n",
       "      <td>0.000000</td>\n",
       "      <td>0.000000</td>\n",
       "      <td>...</td>\n",
       "      <td>0.000000</td>\n",
       "      <td>0.000000</td>\n",
       "      <td>0.000000</td>\n",
       "      <td>0.000000</td>\n",
       "      <td>0.000000</td>\n",
       "      <td>0.000000</td>\n",
       "      <td>0.000000</td>\n",
       "      <td>0.000000</td>\n",
       "      <td>0.000000</td>\n",
       "      <td>0.000000</td>\n",
       "    </tr>\n",
       "    <tr>\n",
       "      <th>25%</th>\n",
       "      <td>0.000000</td>\n",
       "      <td>0.000000</td>\n",
       "      <td>0.000000</td>\n",
       "      <td>0.000000</td>\n",
       "      <td>0.000000</td>\n",
       "      <td>0.000000</td>\n",
       "      <td>0.000000</td>\n",
       "      <td>0.000000</td>\n",
       "      <td>0.000000</td>\n",
       "      <td>0.000000</td>\n",
       "      <td>...</td>\n",
       "      <td>0.000000</td>\n",
       "      <td>0.000000</td>\n",
       "      <td>0.000000</td>\n",
       "      <td>0.000000</td>\n",
       "      <td>0.000000</td>\n",
       "      <td>1.000000</td>\n",
       "      <td>0.000000</td>\n",
       "      <td>0.000000</td>\n",
       "      <td>0.000000</td>\n",
       "      <td>0.000000</td>\n",
       "    </tr>\n",
       "    <tr>\n",
       "      <th>50%</th>\n",
       "      <td>3.330000</td>\n",
       "      <td>12.000000</td>\n",
       "      <td>5.000000</td>\n",
       "      <td>10.870000</td>\n",
       "      <td>5.000000</td>\n",
       "      <td>15.910000</td>\n",
       "      <td>2.500000</td>\n",
       "      <td>3.170000</td>\n",
       "      <td>4.000000</td>\n",
       "      <td>71.530000</td>\n",
       "      <td>...</td>\n",
       "      <td>0.000000</td>\n",
       "      <td>5.000000</td>\n",
       "      <td>0.000000</td>\n",
       "      <td>0.000000</td>\n",
       "      <td>0.000000</td>\n",
       "      <td>5.000000</td>\n",
       "      <td>0.000000</td>\n",
       "      <td>0.000000</td>\n",
       "      <td>0.000000</td>\n",
       "      <td>3.000000</td>\n",
       "    </tr>\n",
       "    <tr>\n",
       "      <th>75%</th>\n",
       "      <td>4.170000</td>\n",
       "      <td>14.305000</td>\n",
       "      <td>5.000000</td>\n",
       "      <td>18.045000</td>\n",
       "      <td>5.000000</td>\n",
       "      <td>27.440000</td>\n",
       "      <td>5.000000</td>\n",
       "      <td>4.710000</td>\n",
       "      <td>5.000000</td>\n",
       "      <td>83.550000</td>\n",
       "      <td>...</td>\n",
       "      <td>2.000000</td>\n",
       "      <td>14.000000</td>\n",
       "      <td>5.000000</td>\n",
       "      <td>0.000000</td>\n",
       "      <td>0.000000</td>\n",
       "      <td>11.000000</td>\n",
       "      <td>2.000000</td>\n",
       "      <td>0.500000</td>\n",
       "      <td>0.000000</td>\n",
       "      <td>4.000000</td>\n",
       "    </tr>\n",
       "    <tr>\n",
       "      <th>max</th>\n",
       "      <td>5.000000</td>\n",
       "      <td>15.000000</td>\n",
       "      <td>5.000000</td>\n",
       "      <td>20.000000</td>\n",
       "      <td>5.000000</td>\n",
       "      <td>35.000000</td>\n",
       "      <td>5.000000</td>\n",
       "      <td>5.000000</td>\n",
       "      <td>5.000000</td>\n",
       "      <td>99.710000</td>\n",
       "      <td>...</td>\n",
       "      <td>12.000000</td>\n",
       "      <td>90.000000</td>\n",
       "      <td>27.000000</td>\n",
       "      <td>22.000000</td>\n",
       "      <td>9.000000</td>\n",
       "      <td>62.000000</td>\n",
       "      <td>12.000000</td>\n",
       "      <td>25.000000</td>\n",
       "      <td>5.000000</td>\n",
       "      <td>5.000000</td>\n",
       "    </tr>\n",
       "  </tbody>\n",
       "</table>\n",
       "<p>8 rows × 47 columns</p>\n",
       "</div>"
      ],
      "text/plain": [
       "       Week2_Quiz1   Week3_MP1   Week3_PR1   Week5_MP2   Week5_PR2  \\\n",
       "count   107.000000  107.000000  107.000000  107.000000  107.000000   \n",
       "mean      2.406636    7.949626    2.803738    9.237757    2.844673   \n",
       "std       2.000317    6.892312    2.493158    8.640610    2.482099   \n",
       "min       0.000000    0.000000    0.000000    0.000000    0.000000   \n",
       "25%       0.000000    0.000000    0.000000    0.000000    0.000000   \n",
       "50%       3.330000   12.000000    5.000000   10.870000    5.000000   \n",
       "75%       4.170000   14.305000    5.000000   18.045000    5.000000   \n",
       "max       5.000000   15.000000    5.000000   20.000000    5.000000   \n",
       "\n",
       "        Week7_MP3   Week7_PR3  Week4_Quiz2  Week6_Quiz3  Week8_Total  ...  \\\n",
       "count  107.000000  107.000000   107.000000   107.000000   107.000000  ...   \n",
       "mean    14.481869    2.383178     2.609439     2.663551    47.380467  ...   \n",
       "std     14.080211    2.437501     2.229419     2.414359    41.035589  ...   \n",
       "min      0.000000    0.000000     0.000000     0.000000     0.000000  ...   \n",
       "25%      0.000000    0.000000     0.000000     0.000000     0.000000  ...   \n",
       "50%     15.910000    2.500000     3.170000     4.000000    71.530000  ...   \n",
       "75%     27.440000    5.000000     4.710000     5.000000    83.550000  ...   \n",
       "max     35.000000    5.000000     5.000000     5.000000    99.710000  ...   \n",
       "\n",
       "       Week7_Stat3  Week8_Stat0  Week8_Stat1  Week8_Stat2  Week8_Stat3  \\\n",
       "count   107.000000   107.000000   107.000000   107.000000   107.000000   \n",
       "mean      1.252336    10.514019     3.130841     1.112150     0.355140   \n",
       "std       2.399267    15.563846     4.841028     3.658351     1.191577   \n",
       "min       0.000000     0.000000     0.000000     0.000000     0.000000   \n",
       "25%       0.000000     0.000000     0.000000     0.000000     0.000000   \n",
       "50%       0.000000     5.000000     0.000000     0.000000     0.000000   \n",
       "75%       2.000000    14.000000     5.000000     0.000000     0.000000   \n",
       "max      12.000000    90.000000    27.000000    22.000000     9.000000   \n",
       "\n",
       "       Week9_Stat0  Week9_Stat1  Week9_Stat2  Week9_Stat3       Grade  \n",
       "count   107.000000   107.000000   107.000000   107.000000  107.000000  \n",
       "mean      7.663551     1.607477     1.093458     0.046729    2.074766  \n",
       "std       9.277630     2.687346     3.368928     0.483368    1.993863  \n",
       "min       0.000000     0.000000     0.000000     0.000000    0.000000  \n",
       "25%       1.000000     0.000000     0.000000     0.000000    0.000000  \n",
       "50%       5.000000     0.000000     0.000000     0.000000    3.000000  \n",
       "75%      11.000000     2.000000     0.500000     0.000000    4.000000  \n",
       "max      62.000000    12.000000    25.000000     5.000000    5.000000  \n",
       "\n",
       "[8 rows x 47 columns]"
      ]
     },
     "execution_count": 8,
     "metadata": {},
     "output_type": "execute_result"
    }
   ],
   "source": [
    "# check the statistical measures of the numeric columns\n",
    "\n",
    "data.describe()\n",
    "\n",
    "## compared to other columns, there are very high Max value of Week8_Total, Week8_Stat0,Week9_Stat0. So maybe Week1_Stat0 to Week9_Stat0 all have high max value."
   ]
  },
  {
   "cell_type": "code",
   "execution_count": 9,
   "metadata": {
    "colab": {
     "base_uri": "https://localhost:8080/"
    },
    "id": "MPWXoEkVg6Bz",
    "outputId": "d52d6b74-7647-415b-c0fe-9594d1030df9"
   },
   "outputs": [
    {
     "name": "stdout",
     "output_type": "stream",
     "text": [
      "Week1_Stat0 Max:  27\n",
      "Week1_Stat0 Mean:  6.785046728971962\n",
      "\n",
      "\n",
      "Week2_Stat0 Max:  104\n",
      "Week2_Stat0 Mean:  16.88785046728972\n",
      "\n",
      "\n",
      "Week3_Stat0 Max:  108\n",
      "Week3_Stat0 Mean:  31.72897196261682\n",
      "\n",
      "\n",
      "Week4_Stat0 Max:  240\n",
      "Week4_Stat0 Mean:  41.91588785046729\n",
      "\n",
      "\n",
      "Week5_Stat0 Max:  185\n",
      "Week5_Stat0 Mean:  26.074766355140188\n",
      "\n",
      "\n",
      "Week6_Stat0 Max:  208\n",
      "Week6_Stat0 Mean:  37.60747663551402\n",
      "\n",
      "\n",
      "Week7_Stat0 Max:  145\n",
      "Week7_Stat0 Mean:  16.35514018691589\n",
      "\n",
      "\n",
      "Week8_Stat0 Max:  90\n",
      "Week8_Stat0 Mean:  10.514018691588785\n",
      "\n",
      "\n",
      "Week9_Stat0 Max:  62\n",
      "Week9_Stat0 Mean:  7.663551401869159\n",
      "\n",
      "\n"
     ]
    }
   ],
   "source": [
    "# check Week1_Stat0 to Week9_Stat0 max value and mean value\n",
    "\n",
    "for i in range (1,10):\n",
    "  col = f'Week{i}_Stat0'\n",
    "  print (col,\"Max: \", data[col].max())\n",
    "  print (col,\"Mean: \", data[col].mean())\n",
    "  print (\"\\n\")\n",
    "\n",
    "# There is a big difference between the maximum value and the mean value of some weeks stat0."
   ]
  },
  {
   "cell_type": "code",
   "execution_count": 10,
   "metadata": {
    "colab": {
     "base_uri": "https://localhost:8080/"
    },
    "id": "qgv6NBcvvnJr",
    "outputId": "bc8184df-3ce5-4fae-e31a-e3e4320533f8"
   },
   "outputs": [
    {
     "name": "stdout",
     "output_type": "stream",
     "text": [
      "0    48\n",
      "4    24\n",
      "3    17\n",
      "5    13\n",
      "2     5\n",
      "Name: Grade, dtype: int64\n",
      "\n",
      "\n",
      "Mean: 2.074766355140187\n"
     ]
    }
   ],
   "source": [
    "# check the target/outcome (y)\n",
    "\n",
    "# there are 5 classes, nearly half students are in the class grade 0.\n",
    "print (data.Grade.value_counts())\n",
    "\n",
    "print (\"\\n\")\n",
    "# check the mean\n",
    "print (\"Mean:\",data.Grade.mean())"
   ]
  },
  {
   "cell_type": "code",
   "execution_count": 13,
   "metadata": {
    "colab": {
     "base_uri": "https://localhost:8080/",
     "height": 331
    },
    "id": "KrratFUZv7ZH",
    "outputId": "5a4078b7-7a21-423e-f295-5a0d85dfafa4"
   },
   "outputs": [
    {
     "data": {
      "text/html": [
       "<div>\n",
       "<style scoped>\n",
       "    .dataframe tbody tr th:only-of-type {\n",
       "        vertical-align: middle;\n",
       "    }\n",
       "\n",
       "    .dataframe tbody tr th {\n",
       "        vertical-align: top;\n",
       "    }\n",
       "\n",
       "    .dataframe thead th {\n",
       "        text-align: right;\n",
       "    }\n",
       "</style>\n",
       "<table border=\"1\" class=\"dataframe\">\n",
       "  <thead>\n",
       "    <tr style=\"text-align: right;\">\n",
       "      <th></th>\n",
       "      <th>Week2_Quiz1</th>\n",
       "      <th>Week3_MP1</th>\n",
       "      <th>Week3_PR1</th>\n",
       "      <th>Week5_MP2</th>\n",
       "      <th>Week5_PR2</th>\n",
       "      <th>Week7_MP3</th>\n",
       "      <th>Week7_PR3</th>\n",
       "      <th>Week4_Quiz2</th>\n",
       "      <th>Week6_Quiz3</th>\n",
       "      <th>Week8_Total</th>\n",
       "      <th>...</th>\n",
       "      <th>Week7_Stat2</th>\n",
       "      <th>Week7_Stat3</th>\n",
       "      <th>Week8_Stat0</th>\n",
       "      <th>Week8_Stat1</th>\n",
       "      <th>Week8_Stat2</th>\n",
       "      <th>Week8_Stat3</th>\n",
       "      <th>Week9_Stat0</th>\n",
       "      <th>Week9_Stat1</th>\n",
       "      <th>Week9_Stat2</th>\n",
       "      <th>Week9_Stat3</th>\n",
       "    </tr>\n",
       "    <tr>\n",
       "      <th>Grade</th>\n",
       "      <th></th>\n",
       "      <th></th>\n",
       "      <th></th>\n",
       "      <th></th>\n",
       "      <th></th>\n",
       "      <th></th>\n",
       "      <th></th>\n",
       "      <th></th>\n",
       "      <th></th>\n",
       "      <th></th>\n",
       "      <th></th>\n",
       "      <th></th>\n",
       "      <th></th>\n",
       "      <th></th>\n",
       "      <th></th>\n",
       "      <th></th>\n",
       "      <th></th>\n",
       "      <th></th>\n",
       "      <th></th>\n",
       "      <th></th>\n",
       "      <th></th>\n",
       "    </tr>\n",
       "  </thead>\n",
       "  <tbody>\n",
       "    <tr>\n",
       "      <th>0</th>\n",
       "      <td>0.885208</td>\n",
       "      <td>0.833333</td>\n",
       "      <td>0.208333</td>\n",
       "      <td>0.226458</td>\n",
       "      <td>0.208333</td>\n",
       "      <td>0.000000</td>\n",
       "      <td>0.000000</td>\n",
       "      <td>0.490625</td>\n",
       "      <td>0.302083</td>\n",
       "      <td>3.154375</td>\n",
       "      <td>...</td>\n",
       "      <td>1.250000</td>\n",
       "      <td>0.020833</td>\n",
       "      <td>2.895833</td>\n",
       "      <td>0.291667</td>\n",
       "      <td>1.062500</td>\n",
       "      <td>0.062500</td>\n",
       "      <td>1.791667</td>\n",
       "      <td>0.000000</td>\n",
       "      <td>0.458333</td>\n",
       "      <td>0.000000</td>\n",
       "    </tr>\n",
       "    <tr>\n",
       "      <th>2</th>\n",
       "      <td>2.502000</td>\n",
       "      <td>11.800000</td>\n",
       "      <td>5.000000</td>\n",
       "      <td>12.782000</td>\n",
       "      <td>4.986000</td>\n",
       "      <td>14.718000</td>\n",
       "      <td>4.000000</td>\n",
       "      <td>4.678000</td>\n",
       "      <td>4.300000</td>\n",
       "      <td>64.766000</td>\n",
       "      <td>...</td>\n",
       "      <td>1.000000</td>\n",
       "      <td>2.000000</td>\n",
       "      <td>12.400000</td>\n",
       "      <td>5.000000</td>\n",
       "      <td>0.200000</td>\n",
       "      <td>0.600000</td>\n",
       "      <td>8.400000</td>\n",
       "      <td>1.800000</td>\n",
       "      <td>0.600000</td>\n",
       "      <td>0.000000</td>\n",
       "    </tr>\n",
       "    <tr>\n",
       "      <th>3</th>\n",
       "      <td>3.872941</td>\n",
       "      <td>13.529412</td>\n",
       "      <td>5.000000</td>\n",
       "      <td>13.888235</td>\n",
       "      <td>4.994118</td>\n",
       "      <td>22.905294</td>\n",
       "      <td>3.970588</td>\n",
       "      <td>4.477059</td>\n",
       "      <td>4.529412</td>\n",
       "      <td>77.167059</td>\n",
       "      <td>...</td>\n",
       "      <td>3.058824</td>\n",
       "      <td>2.352941</td>\n",
       "      <td>15.470588</td>\n",
       "      <td>3.235294</td>\n",
       "      <td>1.352941</td>\n",
       "      <td>0.235294</td>\n",
       "      <td>12.470588</td>\n",
       "      <td>3.529412</td>\n",
       "      <td>2.352941</td>\n",
       "      <td>0.000000</td>\n",
       "    </tr>\n",
       "    <tr>\n",
       "      <th>4</th>\n",
       "      <td>3.333333</td>\n",
       "      <td>14.067083</td>\n",
       "      <td>4.791667</td>\n",
       "      <td>17.995417</td>\n",
       "      <td>4.981250</td>\n",
       "      <td>27.177917</td>\n",
       "      <td>4.375000</td>\n",
       "      <td>3.938333</td>\n",
       "      <td>4.541667</td>\n",
       "      <td>85.201667</td>\n",
       "      <td>...</td>\n",
       "      <td>2.416667</td>\n",
       "      <td>2.250000</td>\n",
       "      <td>16.708333</td>\n",
       "      <td>5.291667</td>\n",
       "      <td>1.541667</td>\n",
       "      <td>0.833333</td>\n",
       "      <td>14.541667</td>\n",
       "      <td>3.083333</td>\n",
       "      <td>1.583333</td>\n",
       "      <td>0.208333</td>\n",
       "    </tr>\n",
       "    <tr>\n",
       "      <th>5</th>\n",
       "      <td>4.359231</td>\n",
       "      <td>14.153846</td>\n",
       "      <td>5.000000</td>\n",
       "      <td>18.897692</td>\n",
       "      <td>5.000000</td>\n",
       "      <td>33.408462</td>\n",
       "      <td>4.807692</td>\n",
       "      <td>4.741538</td>\n",
       "      <td>4.846154</td>\n",
       "      <td>95.214615</td>\n",
       "      <td>...</td>\n",
       "      <td>1.461538</td>\n",
       "      <td>2.230769</td>\n",
       "      <td>20.000000</td>\n",
       "      <td>8.769231</td>\n",
       "      <td>0.538462</td>\n",
       "      <td>0.615385</td>\n",
       "      <td>10.076923</td>\n",
       "      <td>2.230769</td>\n",
       "      <td>1.076923</td>\n",
       "      <td>0.000000</td>\n",
       "    </tr>\n",
       "  </tbody>\n",
       "</table>\n",
       "<p>5 rows × 46 columns</p>\n",
       "</div>"
      ],
      "text/plain": [
       "       Week2_Quiz1  Week3_MP1  Week3_PR1  Week5_MP2  Week5_PR2  Week7_MP3  \\\n",
       "Grade                                                                       \n",
       "0         0.885208   0.833333   0.208333   0.226458   0.208333   0.000000   \n",
       "2         2.502000  11.800000   5.000000  12.782000   4.986000  14.718000   \n",
       "3         3.872941  13.529412   5.000000  13.888235   4.994118  22.905294   \n",
       "4         3.333333  14.067083   4.791667  17.995417   4.981250  27.177917   \n",
       "5         4.359231  14.153846   5.000000  18.897692   5.000000  33.408462   \n",
       "\n",
       "       Week7_PR3  Week4_Quiz2  Week6_Quiz3  Week8_Total  ...  Week7_Stat2  \\\n",
       "Grade                                                    ...                \n",
       "0       0.000000     0.490625     0.302083     3.154375  ...     1.250000   \n",
       "2       4.000000     4.678000     4.300000    64.766000  ...     1.000000   \n",
       "3       3.970588     4.477059     4.529412    77.167059  ...     3.058824   \n",
       "4       4.375000     3.938333     4.541667    85.201667  ...     2.416667   \n",
       "5       4.807692     4.741538     4.846154    95.214615  ...     1.461538   \n",
       "\n",
       "       Week7_Stat3  Week8_Stat0  Week8_Stat1  Week8_Stat2  Week8_Stat3  \\\n",
       "Grade                                                                    \n",
       "0         0.020833     2.895833     0.291667     1.062500     0.062500   \n",
       "2         2.000000    12.400000     5.000000     0.200000     0.600000   \n",
       "3         2.352941    15.470588     3.235294     1.352941     0.235294   \n",
       "4         2.250000    16.708333     5.291667     1.541667     0.833333   \n",
       "5         2.230769    20.000000     8.769231     0.538462     0.615385   \n",
       "\n",
       "       Week9_Stat0  Week9_Stat1  Week9_Stat2  Week9_Stat3  \n",
       "Grade                                                      \n",
       "0         1.791667     0.000000     0.458333     0.000000  \n",
       "2         8.400000     1.800000     0.600000     0.000000  \n",
       "3        12.470588     3.529412     2.352941     0.000000  \n",
       "4        14.541667     3.083333     1.583333     0.208333  \n",
       "5        10.076923     2.230769     1.076923     0.000000  \n",
       "\n",
       "[5 rows x 46 columns]"
      ]
     },
     "execution_count": 13,
     "metadata": {},
     "output_type": "execute_result"
    }
   ],
   "source": [
    "# check all the column mean of each class\n",
    "data[data.columns[1:48]].groupby(\"Grade\").mean()\n",
    "\n",
    "# although the max value of each week's Stat0 is high, but the mean seems not very high.\n",
    "# column Week8_Total has very high mean value for each class. check the visualization later in the Exploratory data analysis\n",
    " "
   ]
  },
  {
   "cell_type": "markdown",
   "metadata": {
    "id": "DGscWvTstcGm"
   },
   "source": [
    "# Exploratory data analysis\n"
   ]
  },
  {
   "cell_type": "code",
   "execution_count": 12,
   "metadata": {
    "colab": {
     "base_uri": "https://localhost:8080/",
     "height": 285
    },
    "id": "F3egqfiCs0bO",
    "outputId": "457435e6-bfa9-4f70-acb6-168355fc6dca"
   },
   "outputs": [
    {
     "data": {
      "text/plain": [
       "<matplotlib.axes._subplots.AxesSubplot at 0x7f9484f5a0d0>"
      ]
     },
     "execution_count": 12,
     "metadata": {},
     "output_type": "execute_result"
    },
    {
     "data": {
      "image/png": "[encoded data removed]",
      "text/plain": [
       "<Figure size 432x288 with 1 Axes>"
      ]
     },
     "metadata": {
      "needs_background": "light"
     },
     "output_type": "display_data"
    }
   ],
   "source": [
    "# check the distribution of each class\n",
    "data.Grade.hist()\n",
    "\n",
    "# we can also see that the grade 0 class has the most student"
   ]
  },
  {
   "cell_type": "code",
   "execution_count": 14,
   "metadata": {
    "colab": {
     "base_uri": "https://localhost:8080/",
     "height": 386
    },
    "id": "7iAb-rdMxk0V",
    "outputId": "453118bc-c879-4f84-88f4-b40150efda73"
   },
   "outputs": [
    {
     "data": {
      "text/plain": [
       "<seaborn.axisgrid.FacetGrid at 0x7f9484fdb9d0>"
      ]
     },
     "execution_count": 14,
     "metadata": {},
     "output_type": "execute_result"
    },
    {
     "data": {
      "image/png": "[encoded data removed]",
      "text/plain": [
       "<Figure size 360x360 with 1 Axes>"
      ]
     },
     "metadata": {
      "needs_background": "light"
     },
     "output_type": "display_data"
    }
   ],
   "source": [
    "\n",
    "sns.catplot(x=\"Grade\", y = \"Week7_MP3\",kind=\"box\",data=data)"
   ]
  },
  {
   "cell_type": "code",
   "execution_count": 15,
   "metadata": {
    "colab": {
     "base_uri": "https://localhost:8080/",
     "height": 386
    },
    "id": "rVuJ6_fDyrAv",
    "outputId": "d10ec30a-5ac7-4479-a1f2-997a4ff37351"
   },
   "outputs": [
    {
     "data": {
      "text/plain": [
       "<seaborn.axisgrid.FacetGrid at 0x7f9485969cd0>"
      ]
     },
     "execution_count": 15,
     "metadata": {},
     "output_type": "execute_result"
    },
    {
     "data": {
      "image/png": "[encoded data removed]",
      "text/plain": [
       "<Figure size 360x360 with 1 Axes>"
      ]
     },
     "metadata": {
      "needs_background": "light"
     },
     "output_type": "display_data"
    }
   ],
   "source": [
    "sns.catplot(x=\"Grade\", y = \"Week8_Total\",kind=\"box\",data=data)\n",
    "# It seems data is not crossed for \"Week8_Total\" in different classes of \"Grade\".\n",
    "# Maybe \"Week8_Total\" can independently decide the classes of \"Grade\". \n"
   ]
  },
  {
   "cell_type": "code",
   "execution_count": 16,
   "metadata": {
    "colab": {
     "base_uri": "https://localhost:8080/"
    },
    "id": "A087O2PDqJ_4",
    "outputId": "b072dd80-de29-4b57-a15b-fb45418356e4"
   },
   "outputs": [
    {
     "name": "stdout",
     "output_type": "stream",
     "text": [
      "True     93\n",
      "False    14\n",
      "dtype: int64\n",
      "\n",
      "\n",
      "1     82.43\n",
      "3     80.65\n",
      "5     71.79\n",
      "7     99.71\n",
      "12    96.24\n",
      "13    92.99\n",
      "21    80.04\n",
      "22    81.48\n",
      "30    71.96\n",
      "39    74.04\n",
      "43    92.04\n",
      "48    62.15\n",
      "55    94.27\n",
      "70    82.77\n",
      "Name: Week8_Total, dtype: float64\n",
      "1     82.43\n",
      "3     80.65\n",
      "5     71.79\n",
      "7     99.71\n",
      "12    96.24\n",
      "13    92.99\n",
      "21    80.04\n",
      "22    81.48\n",
      "30    71.96\n",
      "39    74.04\n",
      "43    92.04\n",
      "48    62.15\n",
      "55    94.27\n",
      "70    82.77\n",
      "Name: test, dtype: float64\n"
     ]
    }
   ],
   "source": [
    "# check the column Week8_Total\n",
    "\n",
    "# the max values and mean values of Week8_Total are very high, seems column Week8_Total is the sum of some other columns.\n",
    "\n",
    "# try the \"9 grades (Week2_Quiz1, Week3_MP1, ... Week7_MP3)\" first.\n",
    "# add a column of the sum of the 9 grades column\n",
    "data[\"test\"] = data.iloc[:,1:10].sum(axis=1)\n",
    "\n",
    "# check to see if data[\"test\"] is equal to data[\"Week8_Total\"]\n",
    "print ((data['test'] == data[\"Week8_Total\"]).value_counts())\n",
    "print (\"\\n\")\n",
    "# we can see most of 97 values are equal, and only 10 are not equal. \n",
    "# check in more details of the 10 which are not equal.\n",
    "filter = (data['test'] != data[\"Week8_Total\"])\n",
    "\n",
    "print (data[filter].Week8_Total)\n",
    "print (data[filter].test)\n",
    "\n",
    "# they seems also equal.\n",
    "# so the Week8_Total is the sum of \"9 grades (Week2_Quiz1, Week3_MP1, ... Week7_MP3)\".\n",
    "\n",
    "\n",
    "# drop the column \"test\"\n",
    "data.drop(\"test\", axis=1, inplace = True)"
   ]
  },
  {
   "cell_type": "markdown",
   "metadata": {
    "id": "YCa63uFVvaep"
   },
   "source": [
    "# Split data, Train two models, Performance Evaluation, Optimize Random Forest Model\n"
   ]
  },
  {
   "cell_type": "code",
   "execution_count": 21,
   "metadata": {
    "id": "TiJ6oK-ry0Rs"
   },
   "outputs": [],
   "source": [
    "# import split data and Classification performance evaluation\n",
    "from sklearn.model_selection import train_test_split\n",
    "from sklearn.metrics import classification_report,confusion_matrix\n",
    "\n"
   ]
  },
  {
   "cell_type": "code",
   "execution_count": 22,
   "metadata": {
    "id": "sl1FBnr0FXav"
   },
   "outputs": [],
   "source": [
    "# Column ID is not needed, \n",
    "# and because the column Week8_Total is the sum of \"9 grades (Week2_Quiz1, Week3_MP1, ... Week7_MP3)\". Maybe column Week8_Total is also not needed. Let's test later.\n",
    "# Crate training and test set, with 20% of the data in the test set.\n",
    "\n",
    "# target/outcome\n",
    "y = data[\"Grade\"]\n",
    "\n",
    "# drop only \"ID\" column for X (predictors). \n",
    "X = data [data.columns[1:47]]\n",
    "X_train, X_test, y_train, y_test = train_test_split(X, y, test_size=0.2, random_state=42)\n",
    "\n",
    "# drop \"ID\" and \"Week8_Total\" columns for X (predictors).\n",
    "X_d = data [data.columns[1:47]].drop(\"Week8_Total\", axis=1)\n",
    "X_d_train, X_d_test, y_d_train, y_d_test = train_test_split(X_d, y, test_size=0.2, random_state=42)\n"
   ]
  },
  {
   "cell_type": "markdown",
   "metadata": {
    "id": "2w1h8LZMhD9b"
   },
   "source": [
    "## Logistic Regression"
   ]
  },
  {
   "cell_type": "code",
   "execution_count": 23,
   "metadata": {
    "id": "VH7GvyJmhJVg"
   },
   "outputs": [],
   "source": [
    "from sklearn.linear_model import LogisticRegression"
   ]
  },
  {
   "cell_type": "code",
   "execution_count": 27,
   "metadata": {
    "colab": {
     "base_uri": "https://localhost:8080/"
    },
    "id": "7oTWuCt2kVN0",
    "outputId": "61f298fe-6d32-413a-ab2b-10a8ed867104"
   },
   "outputs": [
    {
     "name": "stdout",
     "output_type": "stream",
     "text": [
      "Logistic Regression With Week8_Total:  \n",
      " [[8 2 0 0 0]\n",
      " [0 1 0 0 0]\n",
      " [0 0 2 0 0]\n",
      " [0 0 2 3 1]\n",
      " [0 0 2 0 1]]\n",
      "              precision    recall  f1-score   support\n",
      "\n",
      "           0       1.00      0.80      0.89        10\n",
      "           2       0.33      1.00      0.50         1\n",
      "           3       0.33      1.00      0.50         2\n",
      "           4       1.00      0.50      0.67         6\n",
      "           5       0.50      0.33      0.40         3\n",
      "\n",
      "    accuracy                           0.68        22\n",
      "   macro avg       0.63      0.73      0.59        22\n",
      "weighted avg       0.84      0.68      0.71        22\n",
      "\n"
     ]
    }
   ],
   "source": [
    "# Inititalize model, random_state to make sure for getting the same result every time,  increase the number of iterations to 10000\n",
    "data_logistic = LogisticRegression( random_state=42, max_iter = 10000)\n",
    "\n",
    "# 1. Try with Week8_Total as predictor. \n",
    "\n",
    "# Fit the training data\n",
    "data_logistic.fit(X_train, y_train)\n",
    "\n",
    "# Look at the model performance \n",
    "pred_logistic = data_logistic.predict(X_test)\n",
    "\n",
    "print(\"Logistic Regression With Week8_Total: \", \"\\n\", confusion_matrix(y_test, pred_logistic))\n",
    "\n",
    "print(classification_report(y_test, pred_logistic))\n",
    "\n",
    "# Analyse the result of LogisticRegression with Week8_Total: \n",
    "## From the confusion matrix, we can tell in the test dataset: \n",
    "## 1. There are 10 students who actually get grade 0, the model predict 8 of them correctly to grade 0, and predict wrongly 2 of them to grade 2.\n",
    "## 2. There are 1 students who actually get grade 2, the model predict the 1 correctly to grade 2. \n",
    "## 3. There are 2 students who actually get grade 3, the model predict them all correctly to grade 3.\n",
    "## 4. There are 6 students who actually get grade 4, the model correctly predict 3 of them to grade 4, and the model wrongly predict 2 students to grade 3 and 1 student to grade 5.\n",
    "## 5. There are 3 students who actually get grade 5, the model correctly predict 1 of them to grade 5, and the model wrongly predict 2 students to grade 3.\n",
    "\n",
    "## From the report we can tell: the accuracy of the model is: 0.68.\n"
   ]
  },
  {
   "cell_type": "code",
   "execution_count": 28,
   "metadata": {
    "colab": {
     "base_uri": "https://localhost:8080/"
    },
    "id": "qHehwptqotnU",
    "outputId": "4c74096d-4940-42b0-d91c-44b892f5d56f"
   },
   "outputs": [
    {
     "name": "stdout",
     "output_type": "stream",
     "text": [
      "Logistic Regression Without Week8_Total:  \n",
      " [[8 2 0 0 0]\n",
      " [0 1 0 0 0]\n",
      " [0 0 2 0 0]\n",
      " [0 0 2 3 1]\n",
      " [0 0 3 0 0]]\n",
      "              precision    recall  f1-score   support\n",
      "\n",
      "           0       1.00      0.80      0.89        10\n",
      "           2       0.33      1.00      0.50         1\n",
      "           3       0.29      1.00      0.44         2\n",
      "           4       1.00      0.50      0.67         6\n",
      "           5       0.00      0.00      0.00         3\n",
      "\n",
      "    accuracy                           0.64        22\n",
      "   macro avg       0.52      0.66      0.50        22\n",
      "weighted avg       0.77      0.64      0.65        22\n",
      "\n"
     ]
    }
   ],
   "source": [
    "# 2. Try without Week8_Total as predictor. \n",
    "\n",
    "# Fit the training data\n",
    "data_logistic.fit(X_d_train, y_d_train)\n",
    "\n",
    "# Look at the model performance \n",
    "pred_logistic_d = data_logistic.predict(X_d_test)\n",
    "\n",
    "print(\"Logistic Regression Without Week8_Total: \", \"\\n\", confusion_matrix(y_d_test, pred_logistic_d))\n",
    "\n",
    "print(classification_report(y_d_test, pred_logistic_d))\n",
    "\n",
    "# Analyse the result of LogisticRegression without Week8_Total: \n",
    "## From the confusion matrix, we can tell in the test dataset: \n",
    "## 1. There are 10 students who actually get grade 0, the model predict 8 of them correctly to grade 0, and predict wrongly 2 of them to grade 2.\n",
    "## 2. There are 1 students who actually get grade 2, the model predict the 1 correctly to grade 2. \n",
    "## 3. There are 2 students who actually get grade 3, the model predict them all correctly to grade 3.\n",
    "## 4. There are 6 students who actually get grade 4, the model correctly predict 3 of them to grade 4, and the model wrongly predict 2 students to grade 3 and 1 student to grade 5.\n",
    "## 5. There are 3 students who actually get grade 5, the model predict all 3 students wrongly to grade 3.\n",
    "\n",
    "## From the report we can tell: the accuracy of the model is: 0.64.\n"
   ]
  },
  {
   "cell_type": "markdown",
   "metadata": {
    "id": "RAMmIk7w1m-K"
   },
   "source": [
    "According to the test result of LogisticRegression, the model with column Week8_Total as a predictor has better performance, so we should not drop the column Week8_Total in LogisticRegression in order to have a better performance.\n",
    "\n",
    "\n",
    "Next We will find out in the Random Forest."
   ]
  },
  {
   "cell_type": "markdown",
   "metadata": {
    "id": "Jbbr2HQqGvNN"
   },
   "source": [
    "## Random Forest"
   ]
  },
  {
   "cell_type": "code",
   "execution_count": 29,
   "metadata": {
    "id": "4C6Wm3sGGk-A"
   },
   "outputs": [],
   "source": [
    "from sklearn.ensemble import RandomForestClassifier"
   ]
  },
  {
   "cell_type": "code",
   "execution_count": 30,
   "metadata": {
    "colab": {
     "base_uri": "https://localhost:8080/"
    },
    "id": "H1Kv9V-8IY47",
    "outputId": "976e5889-8f62-4664-eb15-06c008cd5801"
   },
   "outputs": [
    {
     "name": "stdout",
     "output_type": "stream",
     "text": [
      "Random Forest with Week8_Total: \n",
      "[[10  0  0  0  0]\n",
      " [ 0  0  1  0  0]\n",
      " [ 0  0  2  0  0]\n",
      " [ 0  0  1  5  0]\n",
      " [ 0  0  1  2  0]]\n",
      "              precision    recall  f1-score   support\n",
      "\n",
      "           0       1.00      1.00      1.00        10\n",
      "           2       0.00      0.00      0.00         1\n",
      "           3       0.40      1.00      0.57         2\n",
      "           4       0.71      0.83      0.77         6\n",
      "           5       0.00      0.00      0.00         3\n",
      "\n",
      "    accuracy                           0.77        22\n",
      "   macro avg       0.42      0.57      0.47        22\n",
      "weighted avg       0.69      0.77      0.72        22\n",
      "\n"
     ]
    },
    {
     "name": "stderr",
     "output_type": "stream",
     "text": [
      "/opt/anaconda3/lib/python3.7/site-packages/sklearn/metrics/_classification.py:1272: UndefinedMetricWarning: Precision and F-score are ill-defined and being set to 0.0 in labels with no predicted samples. Use `zero_division` parameter to control this behavior.\n",
      "  _warn_prf(average, modifier, msg_start, len(result))\n"
     ]
    }
   ],
   "source": [
    "# Inititalize model, random_state to make sure for getting the same result every time\n",
    "data_rf = RandomForestClassifier(random_state = 42)\n",
    "\n",
    "# 1. Random Forest with Week8_Total.\n",
    "# Fit the training data\n",
    "data_rf.fit(X_train, y_train)\n",
    "\n",
    "# Look at the model performance with the default options\n",
    "pred_rf = data_rf.predict(X_test)\n",
    "\n",
    "print (\"Random Forest with Week8_Total: \")\n",
    "print(confusion_matrix(y_test, pred_rf))\n",
    "\n",
    "print(classification_report(y_test, pred_rf))\n",
    "# Analyse the result\n",
    "\n",
    "## From the confusion matrix, we can tell in the test dataset: \n",
    "## 1. There are 10 students who actually get grade 0, the model predict them all correctly.\n",
    "## 2. There are 1 students who actually get grade 2, the model predict the one wrongly to grade 3.  \n",
    "## 3. There are 2 students who actually get grade 3, the model predict them all correctly.\n",
    "## 4. There are 6 students who actually get grade 4, the model correctly predict 5 of them to get grade 4, and the model predict the other 1 student wrongly to grade 3.\n",
    "## 5. There are 3 students who actually get grade 5, the model predict 2 of them wrongly to get grade 4, and the model predict 1 student to get grade 3.\n",
    "\n",
    "## From the report we can tell: the accuracy of the model is: 0.77. Random Forest is much more better than LogisticRegression.\n"
   ]
  },
  {
   "cell_type": "code",
   "execution_count": 31,
   "metadata": {
    "colab": {
     "base_uri": "https://localhost:8080/"
    },
    "id": "V9QR96cA25bn",
    "outputId": "409f9f53-0506-450e-ec1b-23b60602d6fd"
   },
   "outputs": [
    {
     "name": "stdout",
     "output_type": "stream",
     "text": [
      "Random Forest without Week8_Total: \n",
      "[[10  0  0  0  0]\n",
      " [ 0  0  1  0  0]\n",
      " [ 0  0  1  1  0]\n",
      " [ 0  0  1  5  0]\n",
      " [ 1  0  2  0  0]]\n",
      "              precision    recall  f1-score   support\n",
      "\n",
      "           0       0.91      1.00      0.95        10\n",
      "           2       0.00      0.00      0.00         1\n",
      "           3       0.20      0.50      0.29         2\n",
      "           4       0.83      0.83      0.83         6\n",
      "           5       0.00      0.00      0.00         3\n",
      "\n",
      "    accuracy                           0.73        22\n",
      "   macro avg       0.39      0.47      0.41        22\n",
      "weighted avg       0.66      0.73      0.69        22\n",
      "\n"
     ]
    },
    {
     "name": "stderr",
     "output_type": "stream",
     "text": [
      "/opt/anaconda3/lib/python3.7/site-packages/sklearn/metrics/_classification.py:1272: UndefinedMetricWarning: Precision and F-score are ill-defined and being set to 0.0 in labels with no predicted samples. Use `zero_division` parameter to control this behavior.\n",
      "  _warn_prf(average, modifier, msg_start, len(result))\n"
     ]
    }
   ],
   "source": [
    "\n",
    "# 2. Random Forest without Week8_Total.\n",
    "# Fit the training data\n",
    "data_rf.fit(X_d_train, y_d_train)\n",
    "\n",
    "# Look at the model performance with the default options\n",
    "pred_rf_d = data_rf.predict(X_d_test)\n",
    "\n",
    "print (\"Random Forest without Week8_Total: \")\n",
    "print(confusion_matrix(y_d_test, pred_rf_d))\n",
    "\n",
    "print(classification_report(y_d_test, pred_rf_d))\n",
    "# Analyse the result\n",
    "\n",
    "## From the confusion matrix, we can tell in the test dataset: \n",
    "## 1. There are 10 students who actually get grade 0, the model predict them all correctly.\n",
    "## 2. There are 1 students who actually get grade 2, the model predict the one wrongly to get grade 3.  \n",
    "## 3. There are 2 students who actually get grade 3, the model predict 1 correctly, and the other one wrongly to grade 4.\n",
    "## 4. There are 6 students who actually get grade 4, the model correctly predict 5 of them to get grade 4, and the model predict the other 1 student wrongly to get grade 3.\n",
    "## 5. There are 3 students who actually get grade 5, the model predict 2 of them wrongly to get grade 3, and the model predict 1 student to get grade 0.\n",
    "\n",
    "## From the report we can tell: the accuracy of the model is: 0.73. Random Forest is  better than LogisticRegression.\n"
   ]
  },
  {
   "cell_type": "markdown",
   "metadata": {
    "id": "pHEU5eyS4QKv"
   },
   "source": [
    "From the test result of RF, we can also say that, the model with column Week8_Total as predictor has a better performance. We should keep the column Week8_Total. \n",
    "\n",
    "\n",
    "\n",
    "Although Random Forest is much more better than LogisticRegression. We can still try to optimize the Random Forest model to get better performance.\n"
   ]
  },
  {
   "cell_type": "markdown",
   "metadata": {
    "id": "DkPjs1CaslkH"
   },
   "source": [
    "## Optimizing Random Forest Model by using Grid search"
   ]
  },
  {
   "cell_type": "code",
   "execution_count": 32,
   "metadata": {
    "id": "hJ3F4_fns0Vf"
   },
   "outputs": [],
   "source": [
    "\n",
    "from sklearn.model_selection import GridSearchCV\n"
   ]
  },
  {
   "cell_type": "code",
   "execution_count": 36,
   "metadata": {
    "colab": {
     "base_uri": "https://localhost:8080/"
    },
    "id": "PM--VhXetQge",
    "outputId": "d35b74c7-0d69-49fa-99d1-b51d46d20168"
   },
   "outputs": [
    {
     "name": "stdout",
     "output_type": "stream",
     "text": [
      "Best result is 0.8792207792207792 using {'criterion': 'entropy', 'max_depth': 6, 'n_estimators': 100}\n"
     ]
    }
   ],
   "source": [
    "\n",
    "# optimality criterion\n",
    "criterion = ['gini', 'entropy']\n",
    "\n",
    "# Maximum depth of the tree\n",
    "max_depth = [2,4,6,8]\n",
    "\n",
    "# Tree numbers\n",
    "n_estimators = [80,100,200]\n",
    "\n",
    "# define the grid and model \n",
    "grid = dict(criterion = criterion,max_depth=max_depth, n_estimators = n_estimators)\n",
    "\n",
    "data_rf_m = RandomForestClassifier(random_state = 42)\n",
    "\n",
    "grid_search = GridSearchCV(estimator=data_rf_m, param_grid=grid, scoring='accuracy')\n",
    "\n",
    "grid_result = grid_search.fit(X, y)\n",
    "\n",
    "# Print out the best result\n",
    "print(\"Best result is\", grid_result.best_score_, 'using', grid_result.best_params_)"
   ]
  },
  {
   "cell_type": "code",
   "execution_count": 37,
   "metadata": {
    "colab": {
     "base_uri": "https://localhost:8080/"
    },
    "id": "BCH8zHXzwX4Z",
    "outputId": "45fc136f-63f0-4a96-a355-ff374aaefd4c"
   },
   "outputs": [
    {
     "name": "stdout",
     "output_type": "stream",
     "text": [
      "[[10  0  0  0  0]\n",
      " [ 0  0  1  0  0]\n",
      " [ 0  0  2  0  0]\n",
      " [ 0  0  1  5  0]\n",
      " [ 0  0  1  0  2]]\n",
      "              precision    recall  f1-score   support\n",
      "\n",
      "           0       1.00      1.00      1.00        10\n",
      "           2       0.00      0.00      0.00         1\n",
      "           3       0.40      1.00      0.57         2\n",
      "           4       1.00      0.83      0.91         6\n",
      "           5       1.00      0.67      0.80         3\n",
      "\n",
      "    accuracy                           0.86        22\n",
      "   macro avg       0.68      0.70      0.66        22\n",
      "weighted avg       0.90      0.86      0.86        22\n",
      "\n"
     ]
    },
    {
     "name": "stderr",
     "output_type": "stream",
     "text": [
      "/opt/anaconda3/lib/python3.7/site-packages/sklearn/metrics/_classification.py:1272: UndefinedMetricWarning: Precision and F-score are ill-defined and being set to 0.0 in labels with no predicted samples. Use `zero_division` parameter to control this behavior.\n",
      "  _warn_prf(average, modifier, msg_start, len(result))\n"
     ]
    }
   ],
   "source": [
    "# Check results with optimal parameters\n",
    "data_rf_f = RandomForestClassifier(n_estimators=100, criterion= 'entropy', max_depth=6,random_state = 42)\n",
    "\n",
    "data_rf_f.fit(X_train, y_train)\n",
    "\n",
    "pred_forest = data_rf_f.predict(X_test)\n",
    "print(confusion_matrix(y_test, pred_forest))\n",
    "\n",
    "print(classification_report(y_test, pred_forest))\n",
    "\n",
    "# The accuracy is increased to 0.86, and for grade 5, 2 cases are correctly predicted.\n"
   ]
  },
  {
   "cell_type": "markdown",
   "metadata": {
    "id": "sVXo9u0jBvnA"
   },
   "source": [
    "# Visualize the confution matrix. \n"
   ]
  },
  {
   "cell_type": "code",
   "execution_count": 38,
   "metadata": {
    "colab": {
     "base_uri": "https://localhost:8080/",
     "height": 286
    },
    "id": "-RT9kQts59r7",
    "outputId": "13b054f3-cdda-421f-f633-533eb726f848"
   },
   "outputs": [
    {
     "data": {
      "text/plain": [
       "<matplotlib.axes._subplots.AxesSubplot at 0x7f9486319090>"
      ]
     },
     "execution_count": 38,
     "metadata": {},
     "output_type": "execute_result"
    },
    {
     "data": {
      "image/png": "[encoded data removed]",
      "text/plain": [
       "<Figure size 432x288 with 2 Axes>"
      ]
     },
     "metadata": {
      "needs_background": "light"
     },
     "output_type": "display_data"
    }
   ],
   "source": [
    "## visualize the confution matrix. \n",
    "sns.heatmap(data = confusion_matrix(y_test, pred_forest), cmap = \"Blues\", xticklabels=[0,2,3,4,5],yticklabels=[0,2,3,4,5],annot = True, vmin=0, vmax=7)\n"
   ]
  },
  {
   "cell_type": "markdown",
   "metadata": {
    "id": "CvERTgaQCPvZ"
   },
   "source": [
    "# Feature Importance\n"
   ]
  },
  {
   "cell_type": "code",
   "execution_count": 39,
   "metadata": {
    "colab": {
     "base_uri": "https://localhost:8080/"
    },
    "id": "-Nt9eyfa77Cx",
    "outputId": "b863b4b7-1370-4c22-f3e4-d2d77f4a69dc"
   },
   "outputs": [
    {
     "data": {
      "text/plain": [
       "Week8_Total    0.149734\n",
       "Week7_MP3      0.103042\n",
       "Week5_MP2      0.100283\n",
       "Week3_MP1      0.057930\n",
       "Week5_PR2      0.057121\n",
       "Week3_PR1      0.043617\n",
       "Week5_Stat1    0.042074\n",
       "Week7_PR3      0.035852\n",
       "Week6_Stat1    0.030026\n",
       "Week6_Quiz3    0.029250\n",
       "Week9_Stat0    0.029192\n",
       "Week6_Stat0    0.029111\n",
       "Week7_Stat0    0.026394\n",
       "Week4_Quiz2    0.023989\n",
       "Week8_Stat1    0.019527\n",
       "Week3_Stat0    0.018850\n",
       "Week5_Stat0    0.015687\n",
       "Week2_Quiz1    0.014101\n",
       "Week4_Stat0    0.013417\n",
       "Week1_Stat0    0.012791\n",
       "Week3_Stat3    0.012597\n",
       "Week4_Stat3    0.011534\n",
       "Week4_Stat1    0.011331\n",
       "Week2_Stat1    0.011172\n",
       "Week2_Stat0    0.010905\n",
       "Week3_Stat1    0.010505\n",
       "Week7_Stat1    0.009875\n",
       "Week8_Stat0    0.008529\n",
       "Week2_Stat3    0.007733\n",
       "Week7_Stat3    0.006718\n",
       "Week9_Stat1    0.006438\n",
       "Week6_Stat2    0.004819\n",
       "Week5_Stat2    0.004343\n",
       "Week7_Stat2    0.003907\n",
       "Week9_Stat2    0.003469\n",
       "Week5_Stat3    0.003440\n",
       "Week4_Stat2    0.003286\n",
       "Week1_Stat3    0.003005\n",
       "Week8_Stat3    0.002872\n",
       "Week3_Stat2    0.002820\n",
       "Week1_Stat2    0.002690\n",
       "Week2_Stat2    0.002440\n",
       "Week6_Stat3    0.002099\n",
       "Week8_Stat2    0.001484\n",
       "Week1_Stat1    0.000000\n",
       "Week9_Stat3    0.000000\n",
       "dtype: float64"
      ]
     },
     "execution_count": 39,
     "metadata": {},
     "output_type": "execute_result"
    }
   ],
   "source": [
    "# Importance\n",
    "pd.Series(data = data_rf_f.feature_importances_, index= X_train.columns).sort_values(ascending=False)\n",
    "\n",
    "## Week8_Total is the most important feature. "
   ]
  },
  {
   "cell_type": "code",
   "execution_count": null,
   "metadata": {
    "id": "jmoXRmJpzn58"
   },
   "outputs": [],
   "source": []
  }
 ],
 "metadata": {
  "colab": {
   "collapsed_sections": [],
   "provenance": []
  },
  "kernelspec": {
   "display_name": "Python 3",
   "language": "python",
   "name": "python3"
  },
  "language_info": {
   "codemirror_mode": {
    "name": "ipython",
    "version": 3
   },
   "file_extension": ".py",
   "mimetype": "text/x-python",
   "name": "python",
   "nbconvert_exporter": "python",
   "pygments_lexer": "ipython3",
   "version": "3.7.6"
  }
 },
 "nbformat": 4,
 "nbformat_minor": 1
}
