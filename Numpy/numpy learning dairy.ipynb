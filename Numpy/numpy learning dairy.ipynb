{
 "cells": [
  {
   "cell_type": "code",
   "execution_count": 101,
   "metadata": {},
   "outputs": [],
   "source": [
    "import numpy as np\n"
   ]
  },
  {
   "cell_type": "code",
   "execution_count": 172,
   "metadata": {},
   "outputs": [],
   "source": [
    "## 怎么生成一个numpy array\n",
    "\n",
    "## 1. one dimensional array\n",
    "data1 = [1,2,3,4,5]\n",
    "arr1= np.array(data1, dtype=np.float64)\n",
    "\n",
    "##2. two dimensional array\n",
    "data2 = [[1, 2, 3, 4], [5, 6, 7, 8]]\n",
    "arr2 = np.array(data2)\n",
    "\n",
    "##3. 特殊array 产生一个都是0的一维array .注意是zeros，不是zero\n",
    "arr3 = np.zeros(5)\n",
    "\n",
    "##4. 特殊array，产生一个都是0的二维array, 注意，里面也是括号\n",
    "arr4= np.zeros((3,6))\n",
    "\n",
    "##5. arange 产生一个一维array   (start,stop,step) 注意可以是float。np.arange(5.4)\n",
    "\n",
    "arr5 = np.arange (0.5,10,2)\n",
    "\n",
    "##6. arange 产生一维array，但是可以用reshape 变成二维的\n",
    "\n",
    "arr6 = np.arange(32).reshape([8,4])\n",
    "\n",
    "##7. random\n",
    "\n",
    "##7.1 np.random.rand(shape) 产生shape的0-1的随机数array\n",
    "arr7 = np.random.rand(5)\n",
    "arr7_1 = np.random.rand(3,3)\n",
    "\n",
    "##7.2 np.random.randint(low, high=None, (size=None), dtype=int)\n",
    "arr7_2=np.random.randint (0,10,(3,3))\n",
    "arr7_2_2 = np.random.randint(0,10,(5,))\n",
    "\n",
    "##7.3 np.random.randn(shape)  产生这个shape的，符合标准正态分布的array\n",
    "\n",
    "arr7_3= np.random.randn(3,2)\n",
    "\n",
    "\n",
    "##8 \n",
    "arr1d=np.array([1,2,3,4])\n",
    "arr2d = arr1d[:, np.newaxis]  ## \"np.newaxis\" is a NumPy constant, which adds a new dimension to \"arr1d\"\n",
    "\n",
    "## Hence, \"arr2d\" has the same elements as \"arr1d\", but is a two-dimensional array (a column):\n",
    "\n"
   ]
  },
  {
   "cell_type": "code",
   "execution_count": 173,
   "metadata": {},
   "outputs": [
    {
     "data": {
      "text/plain": [
       "array([[1],\n",
       "       [2],\n",
       "       [3],\n",
       "       [4]])"
      ]
     },
     "execution_count": 173,
     "metadata": {},
     "output_type": "execute_result"
    }
   ],
   "source": [
    "arr2d"
   ]
  },
  {
   "cell_type": "code",
   "execution_count": 50,
   "metadata": {
    "collapsed": true
   },
   "outputs": [
    {
     "name": "stdout",
     "output_type": "stream",
     "text": [
      "(5,)\n",
      "(2, 4)\n"
     ]
    },
    {
     "data": {
      "text/plain": [
       "dtype('float64')"
      ]
     },
     "execution_count": 50,
     "metadata": {},
     "output_type": "execute_result"
    }
   ],
   "source": [
    "## numpy attributes\n",
    "\n",
    "##1. .ndim     返回是几维的array\n",
    "arr1.ndim\n",
    "arr2.ndim\n",
    "\n",
    "##2. .shape    返回array的shape， 就是the size of array along each dimension. \n",
    "print(arr1.shape)       ## 注意（5，）\n",
    "print(arr2.shape)\n",
    "\n",
    "##3。 .dtype   返回array里面的data type. 注意跟type（）的区别。\n",
    "\n",
    "arr1.dtype "
   ]
  },
  {
   "cell_type": "code",
   "execution_count": null,
   "metadata": {},
   "outputs": [],
   "source": []
  },
  {
   "cell_type": "code",
   "execution_count": 51,
   "metadata": {
    "collapsed": true
   },
   "outputs": [
    {
     "data": {
      "text/plain": [
       "array([0.4, 1.6])"
      ]
     },
     "execution_count": 51,
     "metadata": {},
     "output_type": "execute_result"
    }
   ],
   "source": [
    "## methods \n",
    "\n",
    "##1. np.astype() 改变data type. 注意 不改变原有的arr里的type，也就是说arr1 里的data type 还是float。\n",
    "## 注意，如果float 变 int，直接砍小数点后的，不是四舍五入。四舍五入是np.around\n",
    "\n",
    "arr1_1 = arr1.astype(np.int32)\n",
    "\n",
    "##2. np.around([], decimal= )   list和array都可以，\n",
    "l=[0.37,1.64]\n",
    "a=np.array(l)\n",
    "np.around(a, decimals=1)\n",
    "\n",
    "##3. \n"
   ]
  },
  {
   "cell_type": "code",
   "execution_count": null,
   "metadata": {},
   "outputs": [],
   "source": []
  },
  {
   "cell_type": "code",
   "execution_count": 100,
   "metadata": {
    "collapsed": true
   },
   "outputs": [
    {
     "name": "stdout",
     "output_type": "stream",
     "text": [
      "##1. \n",
      " [1. 2. 3. 4. 5.]\n",
      "3.0\n",
      "[3. 4.] \n",
      "\n",
      "##2.1 \n",
      " [[1 2 3 4]\n",
      " [5 6 7 8]]\n",
      "8\n",
      "8 \n",
      "\n",
      "##2.2 \n",
      " [[1 2 3]\n",
      " [4 5 6]\n",
      " [7 8 9]]\n",
      "[[1 2 3]\n",
      " [4 5 6]]\n",
      "[7 8 9] \n",
      "\n",
      "##2.3 \n",
      " [[1 2 3]\n",
      " [4 5 6]\n",
      " [7 8 9]]\n",
      "[3 6 9]\n",
      "[[1 2]\n",
      " [4 5]\n",
      " [7 8]] \n",
      "\n",
      "##2.4 \n",
      " [[1 2 3]\n",
      " [4 5 6]\n",
      " [7 8 9]]\n",
      "[[2 3]\n",
      " [5 6]]\n",
      "[[4 5 6]]\n",
      "## 2.5\n",
      "[[1 2 3]\n",
      " [4 5 6]\n",
      " [7 8 9]] \n",
      "\n",
      "[3 6] \n",
      "\n",
      "1\n",
      "(2,)\n",
      "[[1 2 3]\n",
      " [4 5 6]\n",
      " [7 8 9]] \n",
      "\n",
      "[[3]\n",
      " [6]] \n",
      "\n",
      "2\n",
      "(2, 1)\n",
      "##2.6 \n",
      " -----\n",
      "[[ 0  1  2  3]\n",
      " [ 4  5  6  7]\n",
      " [ 8  9 10 11]\n",
      " [12 13 14 15]\n",
      " [16 17 18 19]\n",
      " [20 21 22 23]\n",
      " [24 25 26 27]\n",
      " [28 29 30 31]] \n",
      "\n",
      "[ 0  5 10 15] \n",
      "\n",
      "[[ 4  5  6  7]\n",
      " [12 13 14 15]\n",
      " [20 21 22 23]] \n",
      "\n",
      "[[ 0  2]\n",
      " [ 4  6]\n",
      " [ 8 10]\n",
      " [12 14]\n",
      " [16 18]\n",
      " [20 22]\n",
      " [24 26]\n",
      " [28 30]]\n"
     ]
    },
    {
     "data": {
      "text/plain": [
       "array([[ 0,  1],\n",
       "       [ 4,  5],\n",
       "       [ 8,  9],\n",
       "       [12, 13],\n",
       "       [16, 17],\n",
       "       [20, 21],\n",
       "       [24, 25],\n",
       "       [28, 29]])"
      ]
     },
     "execution_count": 100,
     "metadata": {},
     "output_type": "execute_result"
    }
   ],
   "source": [
    "## indexing and slicing\n",
    "\n",
    "##1. 一维跟list一样\n",
    "print(\"##1.\",\"\\n\",arr1)\n",
    "print(arr1[2])\n",
    "print(arr1[2:4],\"\\n\")\n",
    "\n",
    "\n",
    "##2. 二维: 先 row 再column\n",
    "##2.1 取单个元素\n",
    "print(\"##2.1\",\"\\n\",arr2)\n",
    "print(arr2[1,3])\n",
    "print(arr2[1][3],\"\\n\")   ## 这俩返回的一样\n",
    "\n",
    "## 2.2 取一行和多行\n",
    "\n",
    "arr2d = np.array([[1, 2, 3], [4, 5, 6], [7, 8, 9]])\n",
    "print(\"##2.2\", \"\\n\",arr2d)\n",
    "print(arr2d[:2])\n",
    "print(arr2d[2],\"\\n\")\n",
    "\n",
    "\n",
    "##2.3 取一列或多列\n",
    "print (\"##2.3\",\"\\n\",arr2d)\n",
    "print(arr2d[:,2])\n",
    "print(arr2d[:,:2],\"\\n\")\n",
    "\n",
    "## 2.4 Fetching a subset of rows and columns\n",
    "\n",
    "print (\"##2.4\",\"\\n\",arr2d)\n",
    "print (arr2d[:2, 1:])\n",
    "print (arr2d[:2][1:])  ##这俩是不一样的。因为先【：2】返回一个两行的array，【1:】是第一行往后。\n",
    "\n",
    "## 2.5 Fetching the first two elements of the third column: \n",
    "## :的运用。row和column的都得用，才能返回跟array一样的维度的结果。\n",
    "## 举例如下：\n",
    "\n",
    "print (\"## 2.5\")\n",
    "print(arr2d, \"\\n\")\n",
    "\n",
    "print(arr2d[:2, 2], \"\\n\")\n",
    "\n",
    "print(arr2d[:2, 2].ndim)\n",
    "print(arr2d[:2, 2].shape)\n",
    "\n",
    "print(arr2d, \"\\n\")\n",
    "\n",
    "print(arr2d[:2, 2:], \"\\n\")\n",
    "\n",
    "print(arr2d[:2, 2:].ndim)\n",
    "print(arr2d[:2, 2:].shape)\n",
    "\n",
    "## 2.6 fancy indexing\n",
    "\n",
    "print (\"##2.6\", \"\\n\",\"-----\")\n",
    "\n",
    "print (arr6,\"\\n\")\n",
    "\n",
    "##2.6.1 同时选多个不同行 不同列的elements\n",
    "\n",
    "print (arr6[[0,1,2,3],[0,1,2,3]],\"\\n\")\n",
    "\n",
    "# 2.6.2 同时选不连续的多行\n",
    "print (arr6[[1,3,5]],\"\\n\")\n",
    "\n",
    "## 2.6.3 同时选不连续的多列\n",
    "print (arr6[:,[0,2]])\n",
    "\n",
    "####### 注意不能写 arr6[:,[:2]]  会报错\n",
    "## 要写成\n",
    "arr6[:,:2]   ## 连续的多列多行，就不用再加一次中括号了。\n"
   ]
  },
  {
   "cell_type": "code",
   "execution_count": 62,
   "metadata": {},
   "outputs": [
    {
     "name": "stdout",
     "output_type": "stream",
     "text": [
      "[[1 2 3 4]\n",
      " [5 6 7 8]]\n"
     ]
    }
   ],
   "source": [
    "print(arr2)\n"
   ]
  },
  {
   "cell_type": "code",
   "execution_count": 82,
   "metadata": {
    "collapsed": true
   },
   "outputs": [
    {
     "name": "stdout",
     "output_type": "stream",
     "text": [
      "##2\n",
      "[[1 2 3 4]\n",
      " [5 6 7 8]] \n",
      "\n",
      "[[  1   2   3   4]\n",
      " [  5   6 100   8]]\n"
     ]
    }
   ],
   "source": [
    "## 赋值\n",
    "\n",
    "##1.  array是mutable的。注意copy的问题。改变都变  举例如下：\n",
    "\n",
    "arr1_s=arr1 [:] \n",
    "\n",
    "arr1_s[1]=88   # 给arr1_s的元素reassign value的时候，arr1 也变了\n",
    "\n",
    "arr1\n",
    "\n",
    "arr1_ss=np.copy(arr1[1:3])   ## 用copy来避免\n",
    "\n",
    "##2. 二维array的reassign\n",
    "print (\"##2\")\n",
    "print (arr2,\"\\n\")\n",
    "\n",
    "arr2[1:,2:3]=100   ## 给第二行第三列的元素从新赋值\n",
    "print (arr2)"
   ]
  },
  {
   "cell_type": "code",
   "execution_count": 59,
   "metadata": {},
   "outputs": [
    {
     "data": {
      "text/plain": [
       "array([88., 88.])"
      ]
     },
     "execution_count": 59,
     "metadata": {},
     "output_type": "execute_result"
    }
   ],
   "source": []
  },
  {
   "cell_type": "code",
   "execution_count": 171,
   "metadata": {},
   "outputs": [
    {
     "name": "stdout",
     "output_type": "stream",
     "text": [
      "[[1 2]\n",
      " [3 4]\n",
      " [5 6]]\n",
      "2\n",
      "(3, 2) \n",
      "\n",
      "[[False False]\n",
      " [ True  True]\n",
      " [ True  True]] /n\n",
      "[3 4 5 6]\n",
      "##2 \n",
      "\n",
      "[False False False False False]\n",
      "[[ 0.19932446 -1.24120445]\n",
      " [-0.46316933  0.71177215]\n",
      " [ 0.05704241  0.8213982 ]\n",
      " [ 0.64518909  0.53022558]\n",
      " [ 0.54760604  0.05737485]] \n",
      "\n",
      "[4 4]\n",
      "[1 1 2 2 2]\n"
     ]
    }
   ],
   "source": [
    "## boolean \n",
    "\n",
    "##1. \n",
    "arrb= np.array([[1,2],[3,4],[5,6]])\n",
    "print (arrb)\n",
    "print (arrb.ndim)\n",
    "print (arrb.shape,\"\\n\")\n",
    "\n",
    "print (arrb>2,\"/n\")     ## 返回bool 跟原array同shape\n",
    "\n",
    "print(arrb[arrb>2])   ## 返回一个一维的array, 包含原array中所有大于2的elements\n",
    "\n",
    "\n",
    "##2. \n",
    "print (\"##2\",\"\\n\")\n",
    "arr1_1=np.array([6,7,8,9,10])     ## 同维度的，必须同shape的才能比\n",
    "print (arr1>arr1_1)       ## 返回一个同shape bool array\n",
    "\n",
    "\n",
    "##3. np.sum()计算true value的个数\n",
    "arr__3 = np.random.randn(5, 2)\n",
    "\n",
    "print(arr__3, \"\\n\")\n",
    "\n",
    "print(np.sum(arr__3 > 0, axis = 0))  ## The sum of all True values for each column\n",
    "print(np.sum(arr__3 > 0, axis = 1))  ## The sum of all True values for each row\n",
    "\n",
    "\n",
    "\n",
    "##4. np.any()  & np.all()  看是否有true value 或者全部都是true "
   ]
  },
  {
   "cell_type": "code",
   "execution_count": null,
   "metadata": {},
   "outputs": [],
   "source": []
  },
  {
   "cell_type": "code",
   "execution_count": 117,
   "metadata": {
    "collapsed": true
   },
   "outputs": [
    {
     "name": "stdout",
     "output_type": "stream",
     "text": [
      "##1 \n",
      "\n",
      "[1. 2. 3. 4. 5.] \n",
      "\n",
      "[[1 2 3 4]\n",
      " [5 6 7 8]] \n",
      "\n",
      "[ 2.  4.  6.  8. 10.] \n",
      "\n",
      "[[ 1  4  9 16]\n",
      " [25 36 49 64]] \n",
      "\n",
      "##2 \n",
      "\n",
      "[[1 2 3]\n",
      " [4 5 6]] \n",
      "\n",
      "##3 \n",
      "\n",
      "[[ 0]\n",
      " [10]\n",
      " [20]\n",
      " [30]] \n",
      "\n",
      "[0 1 2] \n",
      "\n",
      "[[ 0  1  2]\n",
      " [10 11 12]\n",
      " [20 21 22]\n",
      " [30 31 32]]\n",
      "##3.1 \n",
      "\n",
      "[[ 0]\n",
      " [10]\n",
      " [20]\n",
      " [30]]\n",
      "[[10]\n",
      " [20]\n",
      " [30]\n",
      " [40]]\n"
     ]
    }
   ],
   "source": [
    "## Arithmetics \n",
    "\n",
    "##1. 同维度的,same shape的 array 直接 + - * /\n",
    "print (\"##1\",\"\\n\")\n",
    "print (arr1,\"\\n\")\n",
    "print (arr2,\"\\n\")\n",
    "print (arr1+arr1,\"\\n\")\n",
    "print (arr2*arr2,\"\\n\")\n",
    "\n",
    "##2. 同纬度，不同shape的  不可以，会报错。\n",
    "print (\"##2\",\"\\n\")\n",
    "arr2_1=np.array([[1,2,3],[4,5,6]])\n",
    "print (arr2_1,\"\\n\")\n",
    "## print (arr2+arr2_1)\n",
    "\n",
    "##3. broadcasting\n",
    "\n",
    "print (\"##3\",\"\\n\")\n",
    "arr2d = np.array([[0],\n",
    "                   [10],\n",
    "                   [20],\n",
    "                   [30]])\n",
    "\n",
    "arr1d = np.array([0, 1, 2])\n",
    "\n",
    "print(arr2d, \"\\n\")\n",
    "\n",
    "print(arr1d, \"\\n\")\n",
    "\n",
    "print(arr2d + arr1d)       ### 跟\n",
    "\n",
    "##3.1 Arithmetic operations on a scalar and an array\n",
    "\n",
    "print (\"##3.1\",\"\\n\")\n",
    "print (arr2d)\n",
    "print (arr2d+10)   ## 10会broadcast成跟原array一样的shape的array。\n",
    "## 注意 list就不能与scalar 作+-/，唯独*可以\n",
    "\n"
   ]
  },
  {
   "cell_type": "code",
   "execution_count": null,
   "metadata": {},
   "outputs": [],
   "source": []
  },
  {
   "cell_type": "code",
   "execution_count": 169,
   "metadata": {
    "collapsed": true
   },
   "outputs": [
    {
     "name": "stdout",
     "output_type": "stream",
     "text": [
      "[0 1 2 3 4 5 6 7 8 9] \n",
      "\n",
      "[0.         1.         1.41421356 1.73205081 2.         2.23606798\n",
      " 2.44948974 2.64575131 2.82842712 3.        ] \n",
      "\n",
      "[1.00000000e+00 2.71828183e+00 7.38905610e+00 2.00855369e+01\n",
      " 5.45981500e+01 1.48413159e+02 4.03428793e+02 1.09663316e+03\n",
      " 2.98095799e+03 8.10308393e+03] \n",
      "\n",
      "##2 \n",
      "\n",
      "[1.1 1.2 1.3 1.4 1.5] \n",
      "\n",
      "[2.1 2.2 2.3 2.4 2.5] \n",
      "\n",
      "[2.1 2.2 2.3 2.4 2.5]\n",
      "[2.1 1.2 2.3 2.4 1.5]\n",
      "\n",
      "\n",
      "[[ 1.57029416  1.23464621  0.0532535 ]\n",
      " [ 0.48675128 -0.44927045 -1.23742642]\n",
      " [ 1.72952308 -0.03918784  0.48387516]]\n",
      "[['+' '+' '+']\n",
      " ['+' '-' '-']\n",
      " ['+' '-' '+']]\n",
      "##4 \n",
      "\n",
      "[[0 1]\n",
      " [2 3]\n",
      " [4 5]\n",
      " [6 7]\n",
      " [8 9]]\n",
      "##4.1 \n",
      "\n",
      "9\n",
      "0\n",
      "##4.2 \n",
      "\n",
      "[8 9]\n",
      "[0 1] \n",
      "\n",
      "[1 3 5 7 9]\n",
      "[0 2 4 6 8]\n",
      "##5 \n",
      "\n",
      "[[0 1 2]\n",
      " [3 4 5]\n",
      " [6 7 8]]\n",
      "4.0\n",
      "[3. 4. 5.]\n",
      "[1. 4. 7.]\n",
      "##6 \n",
      "\n",
      "[[0 1 2]\n",
      " [3 4 5]\n",
      " [6 7 8]]\n",
      "36\n",
      "[ 9 12 15]\n",
      "[ 3 12 21]\n"
     ]
    }
   ],
   "source": [
    "## Universal Functions:\n",
    "\n",
    "## 注意，都是element wise\n",
    "\n",
    "##1. np.sqrt(),&  np.exp()  &&  np.abs()\n",
    "\n",
    "arr = np.arange(10)\n",
    "\n",
    "print(arr, \"\\n\")\n",
    "\n",
    "print(np.sqrt(arr),\"\\n\")\n",
    "\n",
    "print (np.exp(arr),\"\\n\")\n",
    "\n",
    "\n",
    "##2. np.where (condintion,x,y) 跟excel里的if函数很像\n",
    "print(\"##2\",\"\\n\")\n",
    "\n",
    "xarr = np.array([1.1, 1.2, 1.3, 1.4, 1.5])\n",
    "yarr = np.array([2.1, 2.2, 2.3, 2.4, 2.5])\n",
    "cond=np.array([True, False, True, True, False])\n",
    "\n",
    "print (xarr,\"\\n\")\n",
    "print (yarr,\"\\n\")\n",
    "\n",
    "print (np.where(1>2,xarr,yarr))  # condition true 从x选，condition false 从y选\n",
    "print (np.where(cond,yarr,xarr))\n",
    "\n",
    "print (\"\\n\")\n",
    "\n",
    "arr_randn=np.random.randn(3,3)\n",
    "\n",
    "print (arr_randn)\n",
    "print (np.where(arr_randn>0,\"+\",\"-\"))\n",
    "\n",
    "\n",
    "##3. np.maximum() & np.minimum()\n",
    "## Compare two arrays and return a new array containing the element-wise maxima and minima, respectively.\n",
    "\n",
    "x=np.random.rand(8)\n",
    "y=np.random.rand(8)\n",
    "np.maximum(x,y)\n",
    "\n",
    "##4. np.amax() & np.amin()\n",
    "## np.amax() returns the maximum of an array or maximum along an axis.\n",
    "## np.amin() returns the minimum of an array or minimum along an axis.\n",
    "print (\"##4\",\"\\n\")\n",
    "arr_4 = np.arange(10).reshape((5,2))\n",
    "print (arr_4)\n",
    "##4.1 \n",
    "print (\"##4.1\",\"\\n\")\n",
    "print (np.amax(arr_4))\n",
    "print (np.amin(arr_4))\n",
    "##4.2 \n",
    "print (\"##4.2\",\"\\n\")\n",
    "print (np.amax(arr_4,axis=0))   ## axis=0 就是按row方向 collapse\n",
    "print (np.amin(arr_4,axis=0),\"\\n\")\n",
    "\n",
    "print (np.amax(arr_4,axis=1))    ## 按column方向 collapse ，但是返回的是一个一维的array，不是按列返回的。\n",
    "print (np.amin(arr_4,axis=1))\n",
    "\n",
    "\n",
    "##5. np.mean()\n",
    "\n",
    "print (\"##5\", \"\\n\")\n",
    "arr_5=np.arange(9).reshape(3,3)\n",
    "print (arr_5)\n",
    "\n",
    "print (np.mean(arr_5))\n",
    "print (np.mean(arr_5,axis=0))  \n",
    "print (np.mean(arr_5,axis=1))\n",
    "\n",
    "## 6. np.sum()\n",
    "\n",
    "print (\"##6\", \"\\n\")\n",
    "arr_5=np.arange(9).reshape(3,3)\n",
    "print (arr_5)\n",
    "\n",
    "print (np.sum(arr_5))\n",
    "print (np.sum(arr_5,axis=0))  \n",
    "print (np.sum(arr_5,axis=1))\n",
    "\n",
    "##7.  np.sort() 也可以分axis=0 和 axis=1, 但不改变原来的arr\n",
    "\n",
    "##8. np.unique()  Find the unique elements of an array.\n"
   ]
  },
  {
   "cell_type": "code",
   "execution_count": null,
   "metadata": {},
   "outputs": [],
   "source": []
  },
  {
   "cell_type": "code",
   "execution_count": 174,
   "metadata": {},
   "outputs": [],
   "source": [
    "a=np.array([3,4,6,10,24,89,45,43,46,99,100])"
   ]
  },
  {
   "cell_type": "code",
   "execution_count": 175,
   "metadata": {},
   "outputs": [
    {
     "name": "stdout",
     "output_type": "stream",
     "text": [
      "[  3   4   6  10  24  89  45  43  46  99 100]\n"
     ]
    }
   ],
   "source": [
    "print (a)"
   ]
  },
  {
   "cell_type": "code",
   "execution_count": 177,
   "metadata": {},
   "outputs": [
    {
     "data": {
      "text/plain": [
       "array([  4,  10,  89,  43,  46, 100])"
      ]
     },
     "execution_count": 177,
     "metadata": {},
     "output_type": "execute_result"
    }
   ],
   "source": [
    "a[a%3 !=0]"
   ]
  },
  {
   "cell_type": "code",
   "execution_count": null,
   "metadata": {},
   "outputs": [],
   "source": []
  }
 ],
 "metadata": {
  "kernelspec": {
   "display_name": "Python 3",
   "language": "python",
   "name": "python3"
  },
  "language_info": {
   "codemirror_mode": {
    "name": "ipython",
    "version": 3
   },
   "file_extension": ".py",
   "mimetype": "text/x-python",
   "name": "python",
   "nbconvert_exporter": "python",
   "pygments_lexer": "ipython3",
   "version": "3.7.6"
  }
 },
 "nbformat": 4,
 "nbformat_minor": 4
}
