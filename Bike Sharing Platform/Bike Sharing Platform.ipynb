{
 "cells": [
  {
   "cell_type": "code",
   "execution_count": 1,
   "metadata": {},
   "outputs": [],
   "source": [
    "import pandas as pd\n",
    "import numpy as np\n",
    "import matplotlib.pyplot as plt\n",
    "import seaborn as sns\n",
    "\n",
    "\n",
    "from sklearn import linear_model\n",
    "from sklearn.metrics import mean_squared_error, r2_score\n",
    "import statsmodels.api as sm\n",
    "\n",
    "\n",
    "from sklearn.model_selection import train_test_split\n",
    "from sklearn.linear_model import LogisticRegression\n",
    "from sklearn import metrics\n",
    "from sklearn.preprocessing import MinMaxScaler\n",
    "from sklearn.metrics import confusion_matrix\n",
    "from sklearn.metrics import classification_report\n",
    "from sklearn.model_selection import cross_val_score\n",
    "\n",
    "from sklearn import preprocessing\n",
    "from sklearn.cluster import KMeans"
   ]
  },
  {
   "cell_type": "markdown",
   "metadata": {},
   "source": [
    "# Bike Sharing Platform"
   ]
  },
  {
   "cell_type": "code",
   "execution_count": 2,
   "metadata": {},
   "outputs": [
    {
     "data": {
      "text/html": [
       "<div>\n",
       "<style scoped>\n",
       "    .dataframe tbody tr th:only-of-type {\n",
       "        vertical-align: middle;\n",
       "    }\n",
       "\n",
       "    .dataframe tbody tr th {\n",
       "        vertical-align: top;\n",
       "    }\n",
       "\n",
       "    .dataframe thead th {\n",
       "        text-align: right;\n",
       "    }\n",
       "</style>\n",
       "<table border=\"1\" class=\"dataframe\">\n",
       "  <thead>\n",
       "    <tr style=\"text-align: right;\">\n",
       "      <th></th>\n",
       "      <th>season</th>\n",
       "      <th>month</th>\n",
       "      <th>holiday</th>\n",
       "      <th>weekday</th>\n",
       "      <th>workingday</th>\n",
       "      <th>weather</th>\n",
       "      <th>temp</th>\n",
       "      <th>hum</th>\n",
       "      <th>wind</th>\n",
       "      <th>registered</th>\n",
       "      <th>cnt</th>\n",
       "      <th>day</th>\n",
       "    </tr>\n",
       "  </thead>\n",
       "  <tbody>\n",
       "    <tr>\n",
       "      <th>0</th>\n",
       "      <td>1</td>\n",
       "      <td>1</td>\n",
       "      <td>0</td>\n",
       "      <td>7</td>\n",
       "      <td>0</td>\n",
       "      <td>2</td>\n",
       "      <td>14.110847</td>\n",
       "      <td>80.5833</td>\n",
       "      <td>10.749882</td>\n",
       "      <td>31771</td>\n",
       "      <td>985</td>\n",
       "      <td>1</td>\n",
       "    </tr>\n",
       "    <tr>\n",
       "      <th>1</th>\n",
       "      <td>1</td>\n",
       "      <td>1</td>\n",
       "      <td>0</td>\n",
       "      <td>1</td>\n",
       "      <td>0</td>\n",
       "      <td>2</td>\n",
       "      <td>14.902598</td>\n",
       "      <td>69.6087</td>\n",
       "      <td>16.652113</td>\n",
       "      <td>32548</td>\n",
       "      <td>801</td>\n",
       "      <td>1</td>\n",
       "    </tr>\n",
       "    <tr>\n",
       "      <th>2</th>\n",
       "      <td>1</td>\n",
       "      <td>1</td>\n",
       "      <td>0</td>\n",
       "      <td>2</td>\n",
       "      <td>1</td>\n",
       "      <td>1</td>\n",
       "      <td>8.050924</td>\n",
       "      <td>43.7273</td>\n",
       "      <td>16.636703</td>\n",
       "      <td>59704</td>\n",
       "      <td>1349</td>\n",
       "      <td>1</td>\n",
       "    </tr>\n",
       "    <tr>\n",
       "      <th>3</th>\n",
       "      <td>1</td>\n",
       "      <td>1</td>\n",
       "      <td>0</td>\n",
       "      <td>3</td>\n",
       "      <td>1</td>\n",
       "      <td>1</td>\n",
       "      <td>8.200000</td>\n",
       "      <td>59.0435</td>\n",
       "      <td>10.739832</td>\n",
       "      <td>70635</td>\n",
       "      <td>1562</td>\n",
       "      <td>1</td>\n",
       "    </tr>\n",
       "    <tr>\n",
       "      <th>4</th>\n",
       "      <td>1</td>\n",
       "      <td>1</td>\n",
       "      <td>0</td>\n",
       "      <td>4</td>\n",
       "      <td>1</td>\n",
       "      <td>1</td>\n",
       "      <td>9.305237</td>\n",
       "      <td>43.6957</td>\n",
       "      <td>12.522300</td>\n",
       "      <td>73744</td>\n",
       "      <td>1600</td>\n",
       "      <td>1</td>\n",
       "    </tr>\n",
       "    <tr>\n",
       "      <th>...</th>\n",
       "      <td>...</td>\n",
       "      <td>...</td>\n",
       "      <td>...</td>\n",
       "      <td>...</td>\n",
       "      <td>...</td>\n",
       "      <td>...</td>\n",
       "      <td>...</td>\n",
       "      <td>...</td>\n",
       "      <td>...</td>\n",
       "      <td>...</td>\n",
       "      <td>...</td>\n",
       "      <td>...</td>\n",
       "    </tr>\n",
       "    <tr>\n",
       "      <th>725</th>\n",
       "      <td>1</td>\n",
       "      <td>12</td>\n",
       "      <td>0</td>\n",
       "      <td>5</td>\n",
       "      <td>1</td>\n",
       "      <td>2</td>\n",
       "      <td>10.420847</td>\n",
       "      <td>65.2917</td>\n",
       "      <td>23.458911</td>\n",
       "      <td>90698</td>\n",
       "      <td>2114</td>\n",
       "      <td>27</td>\n",
       "    </tr>\n",
       "    <tr>\n",
       "      <th>726</th>\n",
       "      <td>1</td>\n",
       "      <td>12</td>\n",
       "      <td>0</td>\n",
       "      <td>6</td>\n",
       "      <td>1</td>\n",
       "      <td>2</td>\n",
       "      <td>10.386653</td>\n",
       "      <td>59.0000</td>\n",
       "      <td>10.416557</td>\n",
       "      <td>119069</td>\n",
       "      <td>3095</td>\n",
       "      <td>28</td>\n",
       "    </tr>\n",
       "    <tr>\n",
       "      <th>727</th>\n",
       "      <td>1</td>\n",
       "      <td>12</td>\n",
       "      <td>0</td>\n",
       "      <td>7</td>\n",
       "      <td>0</td>\n",
       "      <td>2</td>\n",
       "      <td>10.386653</td>\n",
       "      <td>75.2917</td>\n",
       "      <td>8.333661</td>\n",
       "      <td>57421</td>\n",
       "      <td>1341</td>\n",
       "      <td>29</td>\n",
       "    </tr>\n",
       "    <tr>\n",
       "      <th>728</th>\n",
       "      <td>1</td>\n",
       "      <td>12</td>\n",
       "      <td>0</td>\n",
       "      <td>1</td>\n",
       "      <td>0</td>\n",
       "      <td>1</td>\n",
       "      <td>10.489153</td>\n",
       "      <td>48.3333</td>\n",
       "      <td>23.500518</td>\n",
       "      <td>69566</td>\n",
       "      <td>1796</td>\n",
       "      <td>30</td>\n",
       "    </tr>\n",
       "    <tr>\n",
       "      <th>729</th>\n",
       "      <td>1</td>\n",
       "      <td>12</td>\n",
       "      <td>0</td>\n",
       "      <td>2</td>\n",
       "      <td>1</td>\n",
       "      <td>2</td>\n",
       "      <td>8.849153</td>\n",
       "      <td>57.7500</td>\n",
       "      <td>10.374682</td>\n",
       "      <td>111248</td>\n",
       "      <td>2729</td>\n",
       "      <td>31</td>\n",
       "    </tr>\n",
       "  </tbody>\n",
       "</table>\n",
       "<p>730 rows × 12 columns</p>\n",
       "</div>"
      ],
      "text/plain": [
       "     season  month  holiday  weekday  workingday  weather       temp      hum  \\\n",
       "0         1      1        0        7           0        2  14.110847  80.5833   \n",
       "1         1      1        0        1           0        2  14.902598  69.6087   \n",
       "2         1      1        0        2           1        1   8.050924  43.7273   \n",
       "3         1      1        0        3           1        1   8.200000  59.0435   \n",
       "4         1      1        0        4           1        1   9.305237  43.6957   \n",
       "..      ...    ...      ...      ...         ...      ...        ...      ...   \n",
       "725       1     12        0        5           1        2  10.420847  65.2917   \n",
       "726       1     12        0        6           1        2  10.386653  59.0000   \n",
       "727       1     12        0        7           0        2  10.386653  75.2917   \n",
       "728       1     12        0        1           0        1  10.489153  48.3333   \n",
       "729       1     12        0        2           1        2   8.849153  57.7500   \n",
       "\n",
       "          wind  registered   cnt  day  \n",
       "0    10.749882       31771   985    1  \n",
       "1    16.652113       32548   801    1  \n",
       "2    16.636703       59704  1349    1  \n",
       "3    10.739832       70635  1562    1  \n",
       "4    12.522300       73744  1600    1  \n",
       "..         ...         ...   ...  ...  \n",
       "725  23.458911       90698  2114   27  \n",
       "726  10.416557      119069  3095   28  \n",
       "727   8.333661       57421  1341   29  \n",
       "728  23.500518       69566  1796   30  \n",
       "729  10.374682      111248  2729   31  \n",
       "\n",
       "[730 rows x 12 columns]"
      ]
     },
     "execution_count": 2,
     "metadata": {},
     "output_type": "execute_result"
    }
   ],
   "source": [
    "bike = pd.read_csv(\"bike_data.csv\")\n",
    "bike"
   ]
  },
  {
   "cell_type": "code",
   "execution_count": 3,
   "metadata": {},
   "outputs": [
    {
     "name": "stdout",
     "output_type": "stream",
     "text": [
      "<class 'pandas.core.frame.DataFrame'>\n",
      "RangeIndex: 730 entries, 0 to 729\n",
      "Data columns (total 12 columns):\n",
      " #   Column      Non-Null Count  Dtype  \n",
      "---  ------      --------------  -----  \n",
      " 0   season      730 non-null    int64  \n",
      " 1   month       730 non-null    int64  \n",
      " 2   holiday     730 non-null    int64  \n",
      " 3   weekday     730 non-null    int64  \n",
      " 4   workingday  730 non-null    int64  \n",
      " 5   weather     730 non-null    int64  \n",
      " 6   temp        730 non-null    float64\n",
      " 7   hum         730 non-null    float64\n",
      " 8   wind        730 non-null    float64\n",
      " 9   registered  730 non-null    int64  \n",
      " 10  cnt         730 non-null    int64  \n",
      " 11  day         730 non-null    int64  \n",
      "dtypes: float64(3), int64(9)\n",
      "memory usage: 68.6 KB\n"
     ]
    }
   ],
   "source": [
    "bike.info()\n",
    "# no missing values\n",
    "# all columns are int or float"
   ]
  },
  {
   "cell_type": "code",
   "execution_count": 26,
   "metadata": {},
   "outputs": [
    {
     "data": {
      "text/html": [
       "<div>\n",
       "<style scoped>\n",
       "    .dataframe tbody tr th:only-of-type {\n",
       "        vertical-align: middle;\n",
       "    }\n",
       "\n",
       "    .dataframe tbody tr th {\n",
       "        vertical-align: top;\n",
       "    }\n",
       "\n",
       "    .dataframe thead th {\n",
       "        text-align: right;\n",
       "    }\n",
       "</style>\n",
       "<table border=\"1\" class=\"dataframe\">\n",
       "  <thead>\n",
       "    <tr style=\"text-align: right;\">\n",
       "      <th></th>\n",
       "      <th>season</th>\n",
       "      <th>month</th>\n",
       "      <th>holiday</th>\n",
       "      <th>weekday</th>\n",
       "      <th>workingday</th>\n",
       "      <th>weather</th>\n",
       "      <th>temp</th>\n",
       "      <th>hum</th>\n",
       "      <th>wind</th>\n",
       "      <th>registered</th>\n",
       "      <th>cnt</th>\n",
       "      <th>day</th>\n",
       "    </tr>\n",
       "  </thead>\n",
       "  <tbody>\n",
       "    <tr>\n",
       "      <th>count</th>\n",
       "      <td>730.000000</td>\n",
       "      <td>730.000000</td>\n",
       "      <td>730.000000</td>\n",
       "      <td>730.000000</td>\n",
       "      <td>730.000000</td>\n",
       "      <td>730.000000</td>\n",
       "      <td>730.000000</td>\n",
       "      <td>730.000000</td>\n",
       "      <td>730.000000</td>\n",
       "      <td>730.000000</td>\n",
       "      <td>730.000000</td>\n",
       "      <td>730.000000</td>\n",
       "    </tr>\n",
       "    <tr>\n",
       "      <th>mean</th>\n",
       "      <td>2.498630</td>\n",
       "      <td>6.526027</td>\n",
       "      <td>0.028767</td>\n",
       "      <td>3.997260</td>\n",
       "      <td>0.683562</td>\n",
       "      <td>1.394521</td>\n",
       "      <td>20.319259</td>\n",
       "      <td>62.765175</td>\n",
       "      <td>12.763620</td>\n",
       "      <td>177741.953425</td>\n",
       "      <td>4508.006849</td>\n",
       "      <td>15.720548</td>\n",
       "    </tr>\n",
       "    <tr>\n",
       "      <th>std</th>\n",
       "      <td>1.110184</td>\n",
       "      <td>3.450215</td>\n",
       "      <td>0.167266</td>\n",
       "      <td>2.006161</td>\n",
       "      <td>0.465405</td>\n",
       "      <td>0.544807</td>\n",
       "      <td>7.506729</td>\n",
       "      <td>14.237589</td>\n",
       "      <td>5.195841</td>\n",
       "      <td>75773.087149</td>\n",
       "      <td>1936.011647</td>\n",
       "      <td>8.802278</td>\n",
       "    </tr>\n",
       "    <tr>\n",
       "      <th>min</th>\n",
       "      <td>1.000000</td>\n",
       "      <td>1.000000</td>\n",
       "      <td>0.000000</td>\n",
       "      <td>1.000000</td>\n",
       "      <td>0.000000</td>\n",
       "      <td>1.000000</td>\n",
       "      <td>2.424346</td>\n",
       "      <td>0.000000</td>\n",
       "      <td>1.500244</td>\n",
       "      <td>971.000000</td>\n",
       "      <td>22.000000</td>\n",
       "      <td>1.000000</td>\n",
       "    </tr>\n",
       "    <tr>\n",
       "      <th>25%</th>\n",
       "      <td>2.000000</td>\n",
       "      <td>4.000000</td>\n",
       "      <td>0.000000</td>\n",
       "      <td>2.000000</td>\n",
       "      <td>0.000000</td>\n",
       "      <td>1.000000</td>\n",
       "      <td>13.811885</td>\n",
       "      <td>52.000000</td>\n",
       "      <td>9.041650</td>\n",
       "      <td>121558.750000</td>\n",
       "      <td>3169.750000</td>\n",
       "      <td>8.000000</td>\n",
       "    </tr>\n",
       "    <tr>\n",
       "      <th>50%</th>\n",
       "      <td>3.000000</td>\n",
       "      <td>7.000000</td>\n",
       "      <td>0.000000</td>\n",
       "      <td>4.000000</td>\n",
       "      <td>1.000000</td>\n",
       "      <td>1.000000</td>\n",
       "      <td>20.465826</td>\n",
       "      <td>62.625000</td>\n",
       "      <td>12.125325</td>\n",
       "      <td>178020.500000</td>\n",
       "      <td>4548.500000</td>\n",
       "      <td>16.000000</td>\n",
       "    </tr>\n",
       "    <tr>\n",
       "      <th>75%</th>\n",
       "      <td>3.000000</td>\n",
       "      <td>10.000000</td>\n",
       "      <td>0.000000</td>\n",
       "      <td>6.000000</td>\n",
       "      <td>1.000000</td>\n",
       "      <td>2.000000</td>\n",
       "      <td>26.880615</td>\n",
       "      <td>72.989575</td>\n",
       "      <td>15.625589</td>\n",
       "      <td>232370.000000</td>\n",
       "      <td>5966.000000</td>\n",
       "      <td>23.000000</td>\n",
       "    </tr>\n",
       "    <tr>\n",
       "      <th>max</th>\n",
       "      <td>4.000000</td>\n",
       "      <td>12.000000</td>\n",
       "      <td>1.000000</td>\n",
       "      <td>7.000000</td>\n",
       "      <td>1.000000</td>\n",
       "      <td>3.000000</td>\n",
       "      <td>35.328347</td>\n",
       "      <td>97.250000</td>\n",
       "      <td>34.000021</td>\n",
       "      <td>337436.000000</td>\n",
       "      <td>8714.000000</td>\n",
       "      <td>31.000000</td>\n",
       "    </tr>\n",
       "  </tbody>\n",
       "</table>\n",
       "</div>"
      ],
      "text/plain": [
       "           season       month     holiday     weekday  workingday     weather  \\\n",
       "count  730.000000  730.000000  730.000000  730.000000  730.000000  730.000000   \n",
       "mean     2.498630    6.526027    0.028767    3.997260    0.683562    1.394521   \n",
       "std      1.110184    3.450215    0.167266    2.006161    0.465405    0.544807   \n",
       "min      1.000000    1.000000    0.000000    1.000000    0.000000    1.000000   \n",
       "25%      2.000000    4.000000    0.000000    2.000000    0.000000    1.000000   \n",
       "50%      3.000000    7.000000    0.000000    4.000000    1.000000    1.000000   \n",
       "75%      3.000000   10.000000    0.000000    6.000000    1.000000    2.000000   \n",
       "max      4.000000   12.000000    1.000000    7.000000    1.000000    3.000000   \n",
       "\n",
       "             temp         hum        wind     registered          cnt  \\\n",
       "count  730.000000  730.000000  730.000000     730.000000   730.000000   \n",
       "mean    20.319259   62.765175   12.763620  177741.953425  4508.006849   \n",
       "std      7.506729   14.237589    5.195841   75773.087149  1936.011647   \n",
       "min      2.424346    0.000000    1.500244     971.000000    22.000000   \n",
       "25%     13.811885   52.000000    9.041650  121558.750000  3169.750000   \n",
       "50%     20.465826   62.625000   12.125325  178020.500000  4548.500000   \n",
       "75%     26.880615   72.989575   15.625589  232370.000000  5966.000000   \n",
       "max     35.328347   97.250000   34.000021  337436.000000  8714.000000   \n",
       "\n",
       "              day  \n",
       "count  730.000000  \n",
       "mean    15.720548  \n",
       "std      8.802278  \n",
       "min      1.000000  \n",
       "25%      8.000000  \n",
       "50%     16.000000  \n",
       "75%     23.000000  \n",
       "max     31.000000  "
      ]
     },
     "execution_count": 26,
     "metadata": {},
     "output_type": "execute_result"
    }
   ],
   "source": [
    "bike.describe()\n",
    "# Checking descriptive statistics\n",
    "# Very large range for cnt and registered"
   ]
  },
  {
   "cell_type": "code",
   "execution_count": null,
   "metadata": {},
   "outputs": [],
   "source": []
  },
  {
   "cell_type": "markdown",
   "metadata": {},
   "source": [
    "### 1.1 Exploratory data analysis"
   ]
  },
  {
   "cell_type": "markdown",
   "metadata": {},
   "source": [
    "#### 1.1.1 create visualizations that show the relationship between ’cnt’ and the other variables"
   ]
  },
  {
   "cell_type": "code",
   "execution_count": 4,
   "metadata": {},
   "outputs": [
    {
     "data": {
      "text/plain": [
       "<seaborn.axisgrid.FacetGrid at 0x7f7b36b0ea10>"
      ]
     },
     "execution_count": 4,
     "metadata": {},
     "output_type": "execute_result"
    },
    {
     "data": {
      "image/png": "[encoded data removed]",
      "text/plain": [
       "<Figure size 426x360 with 1 Axes>"
      ]
     },
     "metadata": {
      "needs_background": "light"
     },
     "output_type": "display_data"
    }
   ],
   "source": [
    "# cnt and month,workingday\n",
    "sns.catplot(x=\"month\",y=\"cnt\",data=bike,kind=\"box\",hue=\"workingday\")"
   ]
  },
  {
   "cell_type": "code",
   "execution_count": 5,
   "metadata": {},
   "outputs": [
    {
     "data": {
      "text/plain": [
       "<seaborn.axisgrid.FacetGrid at 0x7f7b36f07390>"
      ]
     },
     "execution_count": 5,
     "metadata": {},
     "output_type": "execute_result"
    },
    {
     "data": {
      "image/png": "[encoded data removed]",
      "text/plain": [
       "<Figure size 360x360 with 1 Axes>"
      ]
     },
     "metadata": {
      "needs_background": "light"
     },
     "output_type": "display_data"
    }
   ],
   "source": [
    "# cnt and weekday\n",
    "sns.catplot(x=\"weekday\",y=\"cnt\",data=bike,kind=\"box\")"
   ]
  },
  {
   "cell_type": "code",
   "execution_count": 7,
   "metadata": {},
   "outputs": [
    {
     "data": {
      "text/plain": [
       "<seaborn.axisgrid.FacetGrid at 0x7f7b37182310>"
      ]
     },
     "execution_count": 7,
     "metadata": {},
     "output_type": "execute_result"
    },
    {
     "data": {
      "image/png": "[encoded data removed]",
      "text/plain": [
       "<Figure size 360x360 with 1 Axes>"
      ]
     },
     "metadata": {
      "needs_background": "light"
     },
     "output_type": "display_data"
    }
   ],
   "source": [
    "# cnt and weather\n",
    "sns.catplot(x=\"weather\",y=\"cnt\",data=bike,kind=\"box\")\n",
    "# Weather will impact cnt."
   ]
  },
  {
   "cell_type": "code",
   "execution_count": 8,
   "metadata": {},
   "outputs": [
    {
     "data": {
      "text/plain": [
       "<seaborn.axisgrid.FacetGrid at 0x7f7b36bc5250>"
      ]
     },
     "execution_count": 8,
     "metadata": {},
     "output_type": "execute_result"
    },
    {
     "data": {
      "image/png": "[encoded data removed]",
      "text/plain": [
       "<Figure size 360x360 with 1 Axes>"
      ]
     },
     "metadata": {
      "needs_background": "light"
     },
     "output_type": "display_data"
    }
   ],
   "source": [
    "# cnt and registered\n",
    "sns.relplot(x=\"registered\",y=\"cnt\",data=bike)\n",
    "# registered is highly "
   ]
  },
  {
   "cell_type": "code",
   "execution_count": 10,
   "metadata": {},
   "outputs": [
    {
     "data": {
      "text/plain": [
       "<seaborn.axisgrid.FacetGrid at 0x7f7b380be8d0>"
      ]
     },
     "execution_count": 10,
     "metadata": {},
     "output_type": "execute_result"
    },
    {
     "data": {
      "image/png": "[encoded data removed]",
      "text/plain": [
       "<Figure size 360x360 with 1 Axes>"
      ]
     },
     "metadata": {
      "needs_background": "light"
     },
     "output_type": "display_data"
    }
   ],
   "source": [
    "# cnt and temp\n",
    "sns.lmplot(x=\"temp\",y=\"cnt\",data=bike)"
   ]
  },
  {
   "cell_type": "code",
   "execution_count": 11,
   "metadata": {},
   "outputs": [
    {
     "data": {
      "text/plain": [
       "<seaborn.axisgrid.FacetGrid at 0x7f7b382d3910>"
      ]
     },
     "execution_count": 11,
     "metadata": {},
     "output_type": "execute_result"
    },
    {
     "data": {
      "image/png": "[encoded data removed]",
      "text/plain": [
       "<Figure size 720x720 with 4 Axes>"
      ]
     },
     "metadata": {
      "needs_background": "light"
     },
     "output_type": "display_data"
    }
   ],
   "source": [
    "# cnt and hum and season\n",
    "sns.lmplot(x=\"hum\",y=\"cnt\",data=bike,col=\"season\",col_wrap=2)"
   ]
  },
  {
   "cell_type": "code",
   "execution_count": 12,
   "metadata": {},
   "outputs": [
    {
     "data": {
      "text/plain": [
       "<seaborn.axisgrid.FacetGrid at 0x7f7b386be5d0>"
      ]
     },
     "execution_count": 12,
     "metadata": {},
     "output_type": "execute_result"
    },
    {
     "data": {
      "image/png": "[encoded data removed]",
      "text/plain": [
       "<Figure size 403.125x360 with 1 Axes>"
      ]
     },
     "metadata": {
      "needs_background": "light"
     },
     "output_type": "display_data"
    }
   ],
   "source": [
    "# cnt and wind\n",
    "sns.lmplot(x=\"wind\",y=\"cnt\",data=bike,hue=\"season\")"
   ]
  },
  {
   "cell_type": "code",
   "execution_count": 13,
   "metadata": {},
   "outputs": [
    {
     "data": {
      "text/plain": [
       "<seaborn.axisgrid.FacetGrid at 0x7f7b38ad8610>"
      ]
     },
     "execution_count": 13,
     "metadata": {},
     "output_type": "execute_result"
    },
    {
     "data": {
      "image/png": "[encoded data removed]",
      "text/plain": [
       "<Figure size 360x360 with 1 Axes>"
      ]
     },
     "metadata": {
      "needs_background": "light"
     },
     "output_type": "display_data"
    }
   ],
   "source": [
    "# cnt and day\n",
    "sns.relplot(x=\"day\",y=\"cnt\",data=bike,kind=\"line\")"
   ]
  },
  {
   "cell_type": "code",
   "execution_count": 14,
   "metadata": {},
   "outputs": [
    {
     "data": {
      "text/plain": [
       "<seaborn.axisgrid.FacetGrid at 0x7f7b386fc310>"
      ]
     },
     "execution_count": 14,
     "metadata": {},
     "output_type": "execute_result"
    },
    {
     "data": {
      "image/png": "[encoded data removed]",
      "text/plain": [
       "<Figure size 360x360 with 1 Axes>"
      ]
     },
     "metadata": {
      "needs_background": "light"
     },
     "output_type": "display_data"
    }
   ],
   "source": [
    "# cnt and month\n",
    "sns.relplot(x=\"month\",y=\"cnt\",data=bike,kind=\"line\")"
   ]
  },
  {
   "cell_type": "markdown",
   "metadata": {},
   "source": [
    "#### 1.1.2  perform aggregation (check how average ’cnt’ varies across months, days, working days, and holidays)"
   ]
  },
  {
   "cell_type": "code",
   "execution_count": 15,
   "metadata": {},
   "outputs": [
    {
     "data": {
      "text/plain": [
       "month\n",
       "1     2176.338710\n",
       "2     2669.964286\n",
       "12    3403.806452\n",
       "3     3692.258065\n",
       "11    4247.183333\n",
       "4     4484.900000\n",
       "10    5199.225806\n",
       "5     5349.774194\n",
       "7     5563.677419\n",
       "8     5664.419355\n",
       "9     5766.516667\n",
       "6     5772.366667\n",
       "Name: cnt, dtype: float64"
      ]
     },
     "execution_count": 15,
     "metadata": {},
     "output_type": "execute_result"
    }
   ],
   "source": [
    "# average cnt and month\n",
    "bike[\"cnt\"].groupby(bike.month).mean().sort_values()"
   ]
  },
  {
   "cell_type": "code",
   "execution_count": 16,
   "metadata": {},
   "outputs": [
    {
     "data": {
      "text/plain": [
       "day\n",
       "1     2139.708333\n",
       "2     2456.875000\n",
       "3     3045.000000\n",
       "22    4119.291667\n",
       "12    4235.541667\n",
       "29    4265.227273\n",
       "4     4278.833333\n",
       "27    4281.083333\n",
       "24    4316.916667\n",
       "21    4363.125000\n",
       "25    4366.708333\n",
       "28    4409.666667\n",
       "26    4431.666667\n",
       "23    4435.166667\n",
       "18    4518.208333\n",
       "30    4538.409091\n",
       "31    4544.642857\n",
       "16    4576.541667\n",
       "19    4599.458333\n",
       "13    4643.666667\n",
       "14    4683.583333\n",
       "20    4779.041667\n",
       "11    4816.166667\n",
       "15    4819.875000\n",
       "17    4927.291667\n",
       "5     5281.333333\n",
       "9     5451.875000\n",
       "10    5471.916667\n",
       "7     5542.083333\n",
       "8     5652.083333\n",
       "6     5754.791667\n",
       "Name: cnt, dtype: float64"
      ]
     },
     "execution_count": 16,
     "metadata": {},
     "output_type": "execute_result"
    }
   ],
   "source": [
    "# average cnt and days\n",
    "bike.cnt.groupby(bike.day).mean().sort_values()"
   ]
  },
  {
   "cell_type": "code",
   "execution_count": 17,
   "metadata": {},
   "outputs": [
    {
     "data": {
      "text/plain": [
       "workingday\n",
       "0    4330.168831\n",
       "1    4590.332665\n",
       "Name: cnt, dtype: float64"
      ]
     },
     "execution_count": 17,
     "metadata": {},
     "output_type": "execute_result"
    }
   ],
   "source": [
    "# average cnt and working days\n",
    "bike.cnt.groupby(bike.workingday).mean()"
   ]
  },
  {
   "cell_type": "code",
   "execution_count": 18,
   "metadata": {},
   "outputs": [
    {
     "data": {
      "text/plain": [
       "Ttest_indResult(statistic=-1.6907786191590892, pvalue=0.09130713322894805)"
      ]
     },
     "execution_count": 18,
     "metadata": {},
     "output_type": "execute_result"
    }
   ],
   "source": [
    "# t-test\n",
    "from scipy import stats\n",
    "\n",
    "\n",
    "non_work = bike[bike.workingday==0].cnt\n",
    "work = bike[bike.workingday==1].cnt\n",
    "stats.ttest_ind(non_work,work)\n",
    "\n",
    "# p>0.05 \n",
    "# we can not reject that they are the same. \n",
    "# maybe the same, and maybe the average cnt working day is significantly larger than non workingday. it is not sure."
   ]
  },
  {
   "cell_type": "code",
   "execution_count": 19,
   "metadata": {},
   "outputs": [
    {
     "data": {
      "text/plain": [
       "holiday\n",
       "0    4530.90268\n",
       "1    3735.00000\n",
       "Name: cnt, dtype: float64"
      ]
     },
     "execution_count": 19,
     "metadata": {},
     "output_type": "execute_result"
    }
   ],
   "source": [
    "# average cnt and holidays\n",
    "bike.cnt.groupby(bike.holiday).mean()"
   ]
  },
  {
   "cell_type": "code",
   "execution_count": 20,
   "metadata": {},
   "outputs": [
    {
     "data": {
      "text/plain": [
       "Ttest_indResult(statistic=1.8597495722808104, pvalue=0.06332412651800291)"
      ]
     },
     "execution_count": 20,
     "metadata": {},
     "output_type": "execute_result"
    }
   ],
   "source": [
    "# t-test\n",
    "non_ho = bike[bike.holiday==0].cnt\n",
    "ho = bike[bike.holiday==1].cnt\n",
    "\n",
    "stats.ttest_ind(non_ho,ho)\n",
    "\n",
    "# p >0.05 \n",
    "# can not reject they are the same.\n",
    "# it is not sure that they are significantly different.\n"
   ]
  },
  {
   "cell_type": "code",
   "execution_count": 21,
   "metadata": {},
   "outputs": [
    {
     "data": {
      "text/html": [
       "<div>\n",
       "<style scoped>\n",
       "    .dataframe tbody tr th:only-of-type {\n",
       "        vertical-align: middle;\n",
       "    }\n",
       "\n",
       "    .dataframe tbody tr th {\n",
       "        vertical-align: top;\n",
       "    }\n",
       "\n",
       "    .dataframe thead th {\n",
       "        text-align: right;\n",
       "    }\n",
       "</style>\n",
       "<table border=\"1\" class=\"dataframe\">\n",
       "  <thead>\n",
       "    <tr style=\"text-align: right;\">\n",
       "      <th></th>\n",
       "      <th></th>\n",
       "      <th></th>\n",
       "      <th></th>\n",
       "      <th>cnt</th>\n",
       "    </tr>\n",
       "    <tr>\n",
       "      <th>month</th>\n",
       "      <th>day</th>\n",
       "      <th>workingday</th>\n",
       "      <th>holiday</th>\n",
       "      <th></th>\n",
       "    </tr>\n",
       "  </thead>\n",
       "  <tbody>\n",
       "    <tr>\n",
       "      <th>10</th>\n",
       "      <th>29</th>\n",
       "      <th>1</th>\n",
       "      <th>0</th>\n",
       "      <td>22.0</td>\n",
       "    </tr>\n",
       "    <tr>\n",
       "      <th>12</th>\n",
       "      <th>26</th>\n",
       "      <th>1</th>\n",
       "      <th>0</th>\n",
       "      <td>441.0</td>\n",
       "    </tr>\n",
       "    <tr>\n",
       "      <th>10</th>\n",
       "      <th>29</th>\n",
       "      <th>0</th>\n",
       "      <th>0</th>\n",
       "      <td>627.0</td>\n",
       "    </tr>\n",
       "    <tr>\n",
       "      <th>12</th>\n",
       "      <th>25</th>\n",
       "      <th>0</th>\n",
       "      <th>0</th>\n",
       "      <td>754.0</td>\n",
       "    </tr>\n",
       "    <tr>\n",
       "      <th>4</th>\n",
       "      <th>16</th>\n",
       "      <th>0</th>\n",
       "      <th>0</th>\n",
       "      <td>795.0</td>\n",
       "    </tr>\n",
       "    <tr>\n",
       "      <th>...</th>\n",
       "      <th>...</th>\n",
       "      <th>...</th>\n",
       "      <th>...</th>\n",
       "      <td>...</td>\n",
       "    </tr>\n",
       "    <tr>\n",
       "      <th>10</th>\n",
       "      <th>20</th>\n",
       "      <th>0</th>\n",
       "      <th>0</th>\n",
       "      <td>8090.0</td>\n",
       "    </tr>\n",
       "    <tr>\n",
       "      <th>5</th>\n",
       "      <th>19</th>\n",
       "      <th>0</th>\n",
       "      <th>0</th>\n",
       "      <td>8294.0</td>\n",
       "    </tr>\n",
       "    <tr>\n",
       "      <th rowspan=\"3\" valign=\"top\">9</th>\n",
       "      <th>22</th>\n",
       "      <th>0</th>\n",
       "      <th>0</th>\n",
       "      <td>8395.0</td>\n",
       "    </tr>\n",
       "    <tr>\n",
       "      <th>29</th>\n",
       "      <th>0</th>\n",
       "      <th>0</th>\n",
       "      <td>8555.0</td>\n",
       "    </tr>\n",
       "    <tr>\n",
       "      <th>15</th>\n",
       "      <th>0</th>\n",
       "      <th>0</th>\n",
       "      <td>8714.0</td>\n",
       "    </tr>\n",
       "  </tbody>\n",
       "</table>\n",
       "<p>371 rows × 1 columns</p>\n",
       "</div>"
      ],
      "text/plain": [
       "                                 cnt\n",
       "month day workingday holiday        \n",
       "10    29  1          0          22.0\n",
       "12    26  1          0         441.0\n",
       "10    29  0          0         627.0\n",
       "12    25  0          0         754.0\n",
       "4     16  0          0         795.0\n",
       "...                              ...\n",
       "10    20  0          0        8090.0\n",
       "5     19  0          0        8294.0\n",
       "9     22  0          0        8395.0\n",
       "      29  0          0        8555.0\n",
       "      15  0          0        8714.0\n",
       "\n",
       "[371 rows x 1 columns]"
      ]
     },
     "execution_count": 21,
     "metadata": {},
     "output_type": "execute_result"
    }
   ],
   "source": [
    "bike.pivot_table([\"cnt\"],index=[\"month\",\"day\",\"workingday\",\"holiday\"]).sort_values(by=\"cnt\")"
   ]
  },
  {
   "cell_type": "code",
   "execution_count": 22,
   "metadata": {},
   "outputs": [
    {
     "data": {
      "text/html": [
       "<div>\n",
       "<style scoped>\n",
       "    .dataframe tbody tr th:only-of-type {\n",
       "        vertical-align: middle;\n",
       "    }\n",
       "\n",
       "    .dataframe tbody tr th {\n",
       "        vertical-align: top;\n",
       "    }\n",
       "\n",
       "    .dataframe thead th {\n",
       "        text-align: right;\n",
       "    }\n",
       "</style>\n",
       "<table border=\"1\" class=\"dataframe\">\n",
       "  <thead>\n",
       "    <tr style=\"text-align: right;\">\n",
       "      <th></th>\n",
       "      <th></th>\n",
       "      <th>cnt</th>\n",
       "    </tr>\n",
       "    <tr>\n",
       "      <th>workingday</th>\n",
       "      <th>holiday</th>\n",
       "      <th></th>\n",
       "    </tr>\n",
       "  </thead>\n",
       "  <tbody>\n",
       "    <tr>\n",
       "      <th rowspan=\"2\" valign=\"top\">0</th>\n",
       "      <th>1</th>\n",
       "      <td>3735.000000</td>\n",
       "    </tr>\n",
       "    <tr>\n",
       "      <th>0</th>\n",
       "      <td>4389.685714</td>\n",
       "    </tr>\n",
       "    <tr>\n",
       "      <th>1</th>\n",
       "      <th>0</th>\n",
       "      <td>4590.332665</td>\n",
       "    </tr>\n",
       "  </tbody>\n",
       "</table>\n",
       "</div>"
      ],
      "text/plain": [
       "                            cnt\n",
       "workingday holiday             \n",
       "0          1        3735.000000\n",
       "           0        4389.685714\n",
       "1          0        4590.332665"
      ]
     },
     "execution_count": 22,
     "metadata": {},
     "output_type": "execute_result"
    }
   ],
   "source": [
    "bike.pivot_table([\"cnt\"],index=[\"workingday\",\"holiday\"]).sort_values(by=\"cnt\")\n",
    "\n",
    "# working day has the highest cnt, followed by weekends and then holiday "
   ]
  },
  {
   "cell_type": "markdown",
   "metadata": {},
   "source": [
    "#### 1.1.3  calculate correlation of the variables."
   ]
  },
  {
   "cell_type": "code",
   "execution_count": 23,
   "metadata": {},
   "outputs": [
    {
     "data": {
      "text/plain": [
       "season        0.404584\n",
       "month         0.278191\n",
       "holiday      -0.068764\n",
       "weekday       0.067534\n",
       "workingday    0.062542\n",
       "weather      -0.295929\n",
       "temp          0.627044\n",
       "hum          -0.098543\n",
       "wind         -0.235132\n",
       "registered    0.945411\n",
       "cnt           1.000000\n",
       "day           0.041484\n",
       "Name: cnt, dtype: float64"
      ]
     },
     "execution_count": 23,
     "metadata": {},
     "output_type": "execute_result"
    }
   ],
   "source": [
    "bike.corr()[\"cnt\"]"
   ]
  },
  {
   "cell_type": "markdown",
   "metadata": {},
   "source": [
    "### 1.2 Develop a regression model that the company can use to predict the count of total rental bikes. Start with all the variables included in the data file, then follow the process suggested in the lectures to remove variables as long as you still find the model performance acceptable."
   ]
  },
  {
   "cell_type": "code",
   "execution_count": 22,
   "metadata": {},
   "outputs": [
    {
     "data": {
      "text/html": [
       "<div>\n",
       "<style scoped>\n",
       "    .dataframe tbody tr th:only-of-type {\n",
       "        vertical-align: middle;\n",
       "    }\n",
       "\n",
       "    .dataframe tbody tr th {\n",
       "        vertical-align: top;\n",
       "    }\n",
       "\n",
       "    .dataframe thead th {\n",
       "        text-align: right;\n",
       "    }\n",
       "</style>\n",
       "<table border=\"1\" class=\"dataframe\">\n",
       "  <thead>\n",
       "    <tr style=\"text-align: right;\">\n",
       "      <th></th>\n",
       "      <th>season</th>\n",
       "      <th>month</th>\n",
       "      <th>holiday</th>\n",
       "      <th>weekday</th>\n",
       "      <th>workingday</th>\n",
       "      <th>weather</th>\n",
       "      <th>temp</th>\n",
       "      <th>hum</th>\n",
       "      <th>wind</th>\n",
       "      <th>registered</th>\n",
       "      <th>day</th>\n",
       "      <th>cnt</th>\n",
       "    </tr>\n",
       "  </thead>\n",
       "  <tbody>\n",
       "    <tr>\n",
       "      <th>0</th>\n",
       "      <td>1</td>\n",
       "      <td>1</td>\n",
       "      <td>0</td>\n",
       "      <td>7</td>\n",
       "      <td>0</td>\n",
       "      <td>2</td>\n",
       "      <td>14.110847</td>\n",
       "      <td>80.5833</td>\n",
       "      <td>10.749882</td>\n",
       "      <td>31771</td>\n",
       "      <td>1</td>\n",
       "      <td>985</td>\n",
       "    </tr>\n",
       "    <tr>\n",
       "      <th>1</th>\n",
       "      <td>1</td>\n",
       "      <td>1</td>\n",
       "      <td>0</td>\n",
       "      <td>1</td>\n",
       "      <td>0</td>\n",
       "      <td>2</td>\n",
       "      <td>14.902598</td>\n",
       "      <td>69.6087</td>\n",
       "      <td>16.652113</td>\n",
       "      <td>32548</td>\n",
       "      <td>1</td>\n",
       "      <td>801</td>\n",
       "    </tr>\n",
       "    <tr>\n",
       "      <th>2</th>\n",
       "      <td>1</td>\n",
       "      <td>1</td>\n",
       "      <td>0</td>\n",
       "      <td>2</td>\n",
       "      <td>1</td>\n",
       "      <td>1</td>\n",
       "      <td>8.050924</td>\n",
       "      <td>43.7273</td>\n",
       "      <td>16.636703</td>\n",
       "      <td>59704</td>\n",
       "      <td>1</td>\n",
       "      <td>1349</td>\n",
       "    </tr>\n",
       "    <tr>\n",
       "      <th>3</th>\n",
       "      <td>1</td>\n",
       "      <td>1</td>\n",
       "      <td>0</td>\n",
       "      <td>3</td>\n",
       "      <td>1</td>\n",
       "      <td>1</td>\n",
       "      <td>8.200000</td>\n",
       "      <td>59.0435</td>\n",
       "      <td>10.739832</td>\n",
       "      <td>70635</td>\n",
       "      <td>1</td>\n",
       "      <td>1562</td>\n",
       "    </tr>\n",
       "    <tr>\n",
       "      <th>4</th>\n",
       "      <td>1</td>\n",
       "      <td>1</td>\n",
       "      <td>0</td>\n",
       "      <td>4</td>\n",
       "      <td>1</td>\n",
       "      <td>1</td>\n",
       "      <td>9.305237</td>\n",
       "      <td>43.6957</td>\n",
       "      <td>12.522300</td>\n",
       "      <td>73744</td>\n",
       "      <td>1</td>\n",
       "      <td>1600</td>\n",
       "    </tr>\n",
       "    <tr>\n",
       "      <th>...</th>\n",
       "      <td>...</td>\n",
       "      <td>...</td>\n",
       "      <td>...</td>\n",
       "      <td>...</td>\n",
       "      <td>...</td>\n",
       "      <td>...</td>\n",
       "      <td>...</td>\n",
       "      <td>...</td>\n",
       "      <td>...</td>\n",
       "      <td>...</td>\n",
       "      <td>...</td>\n",
       "      <td>...</td>\n",
       "    </tr>\n",
       "    <tr>\n",
       "      <th>725</th>\n",
       "      <td>1</td>\n",
       "      <td>12</td>\n",
       "      <td>0</td>\n",
       "      <td>5</td>\n",
       "      <td>1</td>\n",
       "      <td>2</td>\n",
       "      <td>10.420847</td>\n",
       "      <td>65.2917</td>\n",
       "      <td>23.458911</td>\n",
       "      <td>90698</td>\n",
       "      <td>27</td>\n",
       "      <td>2114</td>\n",
       "    </tr>\n",
       "    <tr>\n",
       "      <th>726</th>\n",
       "      <td>1</td>\n",
       "      <td>12</td>\n",
       "      <td>0</td>\n",
       "      <td>6</td>\n",
       "      <td>1</td>\n",
       "      <td>2</td>\n",
       "      <td>10.386653</td>\n",
       "      <td>59.0000</td>\n",
       "      <td>10.416557</td>\n",
       "      <td>119069</td>\n",
       "      <td>28</td>\n",
       "      <td>3095</td>\n",
       "    </tr>\n",
       "    <tr>\n",
       "      <th>727</th>\n",
       "      <td>1</td>\n",
       "      <td>12</td>\n",
       "      <td>0</td>\n",
       "      <td>7</td>\n",
       "      <td>0</td>\n",
       "      <td>2</td>\n",
       "      <td>10.386653</td>\n",
       "      <td>75.2917</td>\n",
       "      <td>8.333661</td>\n",
       "      <td>57421</td>\n",
       "      <td>29</td>\n",
       "      <td>1341</td>\n",
       "    </tr>\n",
       "    <tr>\n",
       "      <th>728</th>\n",
       "      <td>1</td>\n",
       "      <td>12</td>\n",
       "      <td>0</td>\n",
       "      <td>1</td>\n",
       "      <td>0</td>\n",
       "      <td>1</td>\n",
       "      <td>10.489153</td>\n",
       "      <td>48.3333</td>\n",
       "      <td>23.500518</td>\n",
       "      <td>69566</td>\n",
       "      <td>30</td>\n",
       "      <td>1796</td>\n",
       "    </tr>\n",
       "    <tr>\n",
       "      <th>729</th>\n",
       "      <td>1</td>\n",
       "      <td>12</td>\n",
       "      <td>0</td>\n",
       "      <td>2</td>\n",
       "      <td>1</td>\n",
       "      <td>2</td>\n",
       "      <td>8.849153</td>\n",
       "      <td>57.7500</td>\n",
       "      <td>10.374682</td>\n",
       "      <td>111248</td>\n",
       "      <td>31</td>\n",
       "      <td>2729</td>\n",
       "    </tr>\n",
       "  </tbody>\n",
       "</table>\n",
       "<p>730 rows × 12 columns</p>\n",
       "</div>"
      ],
      "text/plain": [
       "     season  month  holiday  weekday  workingday  weather       temp      hum  \\\n",
       "0         1      1        0        7           0        2  14.110847  80.5833   \n",
       "1         1      1        0        1           0        2  14.902598  69.6087   \n",
       "2         1      1        0        2           1        1   8.050924  43.7273   \n",
       "3         1      1        0        3           1        1   8.200000  59.0435   \n",
       "4         1      1        0        4           1        1   9.305237  43.6957   \n",
       "..      ...    ...      ...      ...         ...      ...        ...      ...   \n",
       "725       1     12        0        5           1        2  10.420847  65.2917   \n",
       "726       1     12        0        6           1        2  10.386653  59.0000   \n",
       "727       1     12        0        7           0        2  10.386653  75.2917   \n",
       "728       1     12        0        1           0        1  10.489153  48.3333   \n",
       "729       1     12        0        2           1        2   8.849153  57.7500   \n",
       "\n",
       "          wind  registered  day   cnt  \n",
       "0    10.749882       31771    1   985  \n",
       "1    16.652113       32548    1   801  \n",
       "2    16.636703       59704    1  1349  \n",
       "3    10.739832       70635    1  1562  \n",
       "4    12.522300       73744    1  1600  \n",
       "..         ...         ...  ...   ...  \n",
       "725  23.458911       90698   27  2114  \n",
       "726  10.416557      119069   28  3095  \n",
       "727   8.333661       57421   29  1341  \n",
       "728  23.500518       69566   30  1796  \n",
       "729  10.374682      111248   31  2729  \n",
       "\n",
       "[730 rows x 12 columns]"
      ]
     },
     "execution_count": 22,
     "metadata": {},
     "output_type": "execute_result"
    }
   ],
   "source": [
    "# move \"cnt\" column to the most right position\n",
    "bike=bike[[\"season\",\"month\",\"holiday\",\"weekday\",\"workingday\",\"weather\",\"temp\",\"hum\",\"wind\",\"registered\",\"day\",\"cnt\"]]\n",
    "bike"
   ]
  },
  {
   "cell_type": "code",
   "execution_count": 23,
   "metadata": {},
   "outputs": [
    {
     "name": "stdout",
     "output_type": "stream",
     "text": [
      "                            OLS Regression Results                            \n",
      "==============================================================================\n",
      "Dep. Variable:                    cnt   R-squared:                       0.964\n",
      "Model:                            OLS   Adj. R-squared:                  0.964\n",
      "Method:                 Least Squares   F-statistic:                     1764.\n",
      "Date:                Fri, 19 Aug 2022   Prob (F-statistic):               0.00\n",
      "Time:                        11:38:31   Log-Likelihood:                -5343.6\n",
      "No. Observations:                 730   AIC:                         1.071e+04\n",
      "Df Residuals:                     718   BIC:                         1.077e+04\n",
      "Df Model:                          11                                         \n",
      "Covariance Type:            nonrobust                                         \n",
      "==============================================================================\n",
      "                 coef    std err          t      P>|t|      [0.025      0.975]\n",
      "------------------------------------------------------------------------------\n",
      "const        571.1972    101.554      5.625      0.000     371.818     770.576\n",
      "season       -12.3186     23.715     -0.519      0.604     -58.877      34.240\n",
      "month        -11.8267      7.231     -1.636      0.102     -26.023       2.370\n",
      "holiday     -235.4799     84.892     -2.774      0.006    -402.146     -68.814\n",
      "weekday       19.0182      6.888      2.761      0.006       5.494      32.542\n",
      "workingday  -987.4058     32.600    -30.289      0.000   -1051.408    -923.404\n",
      "weather      -32.1054     33.466     -0.959      0.338     -97.809      33.598\n",
      "temp          35.2307      2.268     15.532      0.000      30.777      39.684\n",
      "hum           -2.7387      1.333     -2.055      0.040      -5.355      -0.122\n",
      "wind          -8.8796      2.867     -3.097      0.002     -14.509      -3.250\n",
      "registered     0.0240      0.000     93.911      0.000       0.024       0.025\n",
      "day           -0.4647      1.582     -0.294      0.769      -3.571       2.642\n",
      "==============================================================================\n",
      "Omnibus:                      123.133   Durbin-Watson:                   1.123\n",
      "Prob(Omnibus):                  0.000   Jarque-Bera (JB):              272.218\n",
      "Skew:                           0.925   Prob(JB):                     7.74e-60\n",
      "Kurtosis:                       5.351   Cond. No.                     1.46e+06\n",
      "==============================================================================\n",
      "\n",
      "Warnings:\n",
      "[1] Standard Errors assume that the covariance matrix of the errors is correctly specified.\n",
      "[2] The condition number is large, 1.46e+06. This might indicate that there are\n",
      "strong multicollinearity or other numerical problems.\n"
     ]
    }
   ],
   "source": [
    "# Develop a regression model with all variables\n",
    "bike_x,bike_y= bike[bike.columns[:11]],bike.cnt\n",
    "x2 = sm.add_constant(bike_x)\n",
    "est_b= sm.OLS(bike_y,x2)\n",
    "est2_b=est_b.fit()\n",
    "\n",
    "print (est2_b.summary())"
   ]
  },
  {
   "cell_type": "code",
   "execution_count": 24,
   "metadata": {},
   "outputs": [
    {
     "name": "stdout",
     "output_type": "stream",
     "text": [
      "                            OLS Regression Results                            \n",
      "==============================================================================\n",
      "Dep. Variable:                    cnt   R-squared:                       0.964\n",
      "Model:                            OLS   Adj. R-squared:                  0.964\n",
      "Method:                 Least Squares   F-statistic:                     1943.\n",
      "Date:                Fri, 19 Aug 2022   Prob (F-statistic):               0.00\n",
      "Time:                        11:38:31   Log-Likelihood:                -5343.7\n",
      "No. Observations:                 730   AIC:                         1.071e+04\n",
      "Df Residuals:                     719   BIC:                         1.076e+04\n",
      "Df Model:                          10                                         \n",
      "Covariance Type:            nonrobust                                         \n",
      "==============================================================================\n",
      "                 coef    std err          t      P>|t|      [0.025      0.975]\n",
      "------------------------------------------------------------------------------\n",
      "const        566.9052    100.434      5.645      0.000     369.727     764.083\n",
      "season       -12.4865     23.693     -0.527      0.598     -59.002      34.029\n",
      "month        -11.9684      7.210     -1.660      0.097     -26.124       2.187\n",
      "holiday     -235.5369     84.838     -2.776      0.006    -402.096     -68.978\n",
      "weekday       18.9976      6.884      2.760      0.006       5.483      32.512\n",
      "workingday  -987.5560     32.575    -30.316      0.000   -1051.509    -923.603\n",
      "weather      -31.3888     33.356     -0.941      0.347     -96.876      34.098\n",
      "temp          35.2056      2.265     15.542      0.000      30.758      39.653\n",
      "hum           -2.7718      1.327     -2.089      0.037      -5.377      -0.167\n",
      "wind          -8.9087      2.864     -3.111      0.002     -14.531      -3.286\n",
      "registered     0.0240      0.000     94.041      0.000       0.024       0.025\n",
      "==============================================================================\n",
      "Omnibus:                      122.820   Durbin-Watson:                   1.122\n",
      "Prob(Omnibus):                  0.000   Jarque-Bera (JB):              271.459\n",
      "Skew:                           0.923   Prob(JB):                     1.13e-59\n",
      "Kurtosis:                       5.349   Cond. No.                     1.45e+06\n",
      "==============================================================================\n",
      "\n",
      "Warnings:\n",
      "[1] Standard Errors assume that the covariance matrix of the errors is correctly specified.\n",
      "[2] The condition number is large, 1.45e+06. This might indicate that there are\n",
      "strong multicollinearity or other numerical problems.\n"
     ]
    }
   ],
   "source": [
    "# remove highest p-value for each coefficient\n",
    "# first \"day\" p-value= 0.769\n",
    "\n",
    "x2 = sm.add_constant(bike_x.drop([\"day\"],axis=1))\n",
    "est_b= sm.OLS(bike_y,x2)\n",
    "est2_b=est_b.fit()\n",
    "\n",
    "print (est2_b.summary())"
   ]
  },
  {
   "cell_type": "code",
   "execution_count": 25,
   "metadata": {},
   "outputs": [
    {
     "name": "stdout",
     "output_type": "stream",
     "text": [
      "                            OLS Regression Results                            \n",
      "==============================================================================\n",
      "Dep. Variable:                    cnt   R-squared:                       0.964\n",
      "Model:                            OLS   Adj. R-squared:                  0.964\n",
      "Method:                 Least Squares   F-statistic:                     2161.\n",
      "Date:                Fri, 19 Aug 2022   Prob (F-statistic):               0.00\n",
      "Time:                        11:38:31   Log-Likelihood:                -5343.8\n",
      "No. Observations:                 730   AIC:                         1.071e+04\n",
      "Df Residuals:                     720   BIC:                         1.075e+04\n",
      "Df Model:                           9                                         \n",
      "Covariance Type:            nonrobust                                         \n",
      "==============================================================================\n",
      "                 coef    std err          t      P>|t|      [0.025      0.975]\n",
      "------------------------------------------------------------------------------\n",
      "const        563.9273    100.224      5.627      0.000     367.161     760.694\n",
      "month        -15.0054      4.332     -3.464      0.001     -23.509      -6.501\n",
      "holiday     -234.1806     84.756     -2.763      0.006    -400.579     -67.782\n",
      "weekday       19.1327      6.876      2.783      0.006       5.634      32.631\n",
      "workingday  -986.2609     32.466    -30.378      0.000   -1050.000    -922.522\n",
      "weather      -32.1869     33.305     -0.966      0.334     -97.573      33.200\n",
      "temp          35.0605      2.247     15.601      0.000      30.649      39.472\n",
      "hum           -2.7901      1.326     -2.104      0.036      -5.393      -0.187\n",
      "wind          -8.8528      2.861     -3.095      0.002     -14.469      -3.237\n",
      "registered     0.0240      0.000     96.425      0.000       0.024       0.024\n",
      "==============================================================================\n",
      "Omnibus:                      123.278   Durbin-Watson:                   1.122\n",
      "Prob(Omnibus):                  0.000   Jarque-Bera (JB):              272.394\n",
      "Skew:                           0.926   Prob(JB):                     7.09e-60\n",
      "Kurtosis:                       5.350   Cond. No.                     1.45e+06\n",
      "==============================================================================\n",
      "\n",
      "Warnings:\n",
      "[1] Standard Errors assume that the covariance matrix of the errors is correctly specified.\n",
      "[2] The condition number is large, 1.45e+06. This might indicate that there are\n",
      "strong multicollinearity or other numerical problems.\n"
     ]
    }
   ],
   "source": [
    "# remove highest p-value for each coefficient\n",
    "# remove \"season\",p-value=0.598\n",
    "\n",
    "x2 = sm.add_constant(bike_x.drop([\"day\",\"season\"],axis=1))\n",
    "est_b= sm.OLS(bike_y,x2)\n",
    "est2_b=est_b.fit()\n",
    "\n",
    "print (est2_b.summary())"
   ]
  },
  {
   "cell_type": "code",
   "execution_count": 26,
   "metadata": {},
   "outputs": [
    {
     "name": "stdout",
     "output_type": "stream",
     "text": [
      "                            OLS Regression Results                            \n",
      "==============================================================================\n",
      "Dep. Variable:                    cnt   R-squared:                       0.964\n",
      "Model:                            OLS   Adj. R-squared:                  0.964\n",
      "Method:                 Least Squares   F-statistic:                     2431.\n",
      "Date:                Fri, 19 Aug 2022   Prob (F-statistic):               0.00\n",
      "Time:                        11:38:31   Log-Likelihood:                -5344.3\n",
      "No. Observations:                 730   AIC:                         1.071e+04\n",
      "Df Residuals:                     721   BIC:                         1.075e+04\n",
      "Df Model:                           8                                         \n",
      "Covariance Type:            nonrobust                                         \n",
      "==============================================================================\n",
      "                 coef    std err          t      P>|t|      [0.025      0.975]\n",
      "------------------------------------------------------------------------------\n",
      "const        567.6287    100.146      5.668      0.000     371.015     764.242\n",
      "month        -15.0133      4.331     -3.466      0.001     -23.517      -6.510\n",
      "holiday     -232.6659     84.738     -2.746      0.006    -399.028     -66.304\n",
      "weekday       18.5594      6.850      2.710      0.007       5.112      32.007\n",
      "workingday  -989.7982     32.257    -30.684      0.000   -1053.128    -926.469\n",
      "temp          35.2969      2.234     15.801      0.000      30.911      39.682\n",
      "hum           -3.5628      1.058     -3.368      0.001      -5.639      -1.486\n",
      "wind          -9.3524      2.813     -3.324      0.001     -14.876      -3.829\n",
      "registered     0.0240      0.000     97.600      0.000       0.024       0.025\n",
      "==============================================================================\n",
      "Omnibus:                      121.165   Durbin-Watson:                   1.126\n",
      "Prob(Omnibus):                  0.000   Jarque-Bera (JB):              264.716\n",
      "Skew:                           0.916   Prob(JB):                     3.29e-58\n",
      "Kurtosis:                       5.312   Cond. No.                     1.45e+06\n",
      "==============================================================================\n",
      "\n",
      "Warnings:\n",
      "[1] Standard Errors assume that the covariance matrix of the errors is correctly specified.\n",
      "[2] The condition number is large, 1.45e+06. This might indicate that there are\n",
      "strong multicollinearity or other numerical problems.\n"
     ]
    }
   ],
   "source": [
    "# remove highest p-value for each coefficient\n",
    "# remove \"weather\",p-value=0.334\n",
    "\n",
    "x2 = sm.add_constant(bike_x.drop([\"day\",\"season\",\"weather\"],axis=1))\n",
    "est_b= sm.OLS(bike_y,x2)\n",
    "est2_b=est_b.fit()\n",
    "\n",
    "print (est2_b.summary())"
   ]
  },
  {
   "cell_type": "code",
   "execution_count": 27,
   "metadata": {},
   "outputs": [
    {
     "data": {
      "text/html": [
       "<div>\n",
       "<style scoped>\n",
       "    .dataframe tbody tr th:only-of-type {\n",
       "        vertical-align: middle;\n",
       "    }\n",
       "\n",
       "    .dataframe tbody tr th {\n",
       "        vertical-align: top;\n",
       "    }\n",
       "\n",
       "    .dataframe thead th {\n",
       "        text-align: right;\n",
       "    }\n",
       "</style>\n",
       "<table border=\"1\" class=\"dataframe\">\n",
       "  <thead>\n",
       "    <tr style=\"text-align: right;\">\n",
       "      <th></th>\n",
       "      <th>month</th>\n",
       "      <th>holiday</th>\n",
       "      <th>weekday</th>\n",
       "      <th>workingday</th>\n",
       "      <th>temp</th>\n",
       "      <th>hum</th>\n",
       "      <th>wind</th>\n",
       "      <th>registered</th>\n",
       "    </tr>\n",
       "  </thead>\n",
       "  <tbody>\n",
       "    <tr>\n",
       "      <th>month</th>\n",
       "      <td>1.000000</td>\n",
       "      <td>0.018905</td>\n",
       "      <td>0.009523</td>\n",
       "      <td>-0.004688</td>\n",
       "      <td>0.219083</td>\n",
       "      <td>0.224937</td>\n",
       "      <td>-0.208013</td>\n",
       "      <td>0.291952</td>\n",
       "    </tr>\n",
       "    <tr>\n",
       "      <th>holiday</th>\n",
       "      <td>0.018905</td>\n",
       "      <td>1.000000</td>\n",
       "      <td>-0.101962</td>\n",
       "      <td>-0.252948</td>\n",
       "      <td>-0.028764</td>\n",
       "      <td>-0.015662</td>\n",
       "      <td>0.006257</td>\n",
       "      <td>-0.109142</td>\n",
       "    </tr>\n",
       "    <tr>\n",
       "      <th>weekday</th>\n",
       "      <td>0.009523</td>\n",
       "      <td>-0.101962</td>\n",
       "      <td>1.000000</td>\n",
       "      <td>0.035800</td>\n",
       "      <td>-0.000168</td>\n",
       "      <td>-0.052290</td>\n",
       "      <td>0.014283</td>\n",
       "      <td>0.057427</td>\n",
       "    </tr>\n",
       "    <tr>\n",
       "      <th>workingday</th>\n",
       "      <td>-0.004688</td>\n",
       "      <td>-0.252948</td>\n",
       "      <td>0.035800</td>\n",
       "      <td>1.000000</td>\n",
       "      <td>0.053470</td>\n",
       "      <td>0.023202</td>\n",
       "      <td>-0.018666</td>\n",
       "      <td>0.305437</td>\n",
       "    </tr>\n",
       "    <tr>\n",
       "      <th>temp</th>\n",
       "      <td>0.219083</td>\n",
       "      <td>-0.028764</td>\n",
       "      <td>-0.000168</td>\n",
       "      <td>0.053470</td>\n",
       "      <td>1.000000</td>\n",
       "      <td>0.128565</td>\n",
       "      <td>-0.158186</td>\n",
       "      <td>0.539436</td>\n",
       "    </tr>\n",
       "    <tr>\n",
       "      <th>hum</th>\n",
       "      <td>0.224937</td>\n",
       "      <td>-0.015662</td>\n",
       "      <td>-0.052290</td>\n",
       "      <td>0.023202</td>\n",
       "      <td>0.128565</td>\n",
       "      <td>1.000000</td>\n",
       "      <td>-0.248506</td>\n",
       "      <td>-0.089212</td>\n",
       "    </tr>\n",
       "    <tr>\n",
       "      <th>wind</th>\n",
       "      <td>-0.208013</td>\n",
       "      <td>0.006257</td>\n",
       "      <td>0.014283</td>\n",
       "      <td>-0.018666</td>\n",
       "      <td>-0.158186</td>\n",
       "      <td>-0.248506</td>\n",
       "      <td>1.000000</td>\n",
       "      <td>-0.217915</td>\n",
       "    </tr>\n",
       "    <tr>\n",
       "      <th>registered</th>\n",
       "      <td>0.291952</td>\n",
       "      <td>-0.109142</td>\n",
       "      <td>0.057427</td>\n",
       "      <td>0.305437</td>\n",
       "      <td>0.539436</td>\n",
       "      <td>-0.089212</td>\n",
       "      <td>-0.217915</td>\n",
       "      <td>1.000000</td>\n",
       "    </tr>\n",
       "  </tbody>\n",
       "</table>\n",
       "</div>"
      ],
      "text/plain": [
       "               month   holiday   weekday  workingday      temp       hum  \\\n",
       "month       1.000000  0.018905  0.009523   -0.004688  0.219083  0.224937   \n",
       "holiday     0.018905  1.000000 -0.101962   -0.252948 -0.028764 -0.015662   \n",
       "weekday     0.009523 -0.101962  1.000000    0.035800 -0.000168 -0.052290   \n",
       "workingday -0.004688 -0.252948  0.035800    1.000000  0.053470  0.023202   \n",
       "temp        0.219083 -0.028764 -0.000168    0.053470  1.000000  0.128565   \n",
       "hum         0.224937 -0.015662 -0.052290    0.023202  0.128565  1.000000   \n",
       "wind       -0.208013  0.006257  0.014283   -0.018666 -0.158186 -0.248506   \n",
       "registered  0.291952 -0.109142  0.057427    0.305437  0.539436 -0.089212   \n",
       "\n",
       "                wind  registered  \n",
       "month      -0.208013    0.291952  \n",
       "holiday     0.006257   -0.109142  \n",
       "weekday     0.014283    0.057427  \n",
       "workingday -0.018666    0.305437  \n",
       "temp       -0.158186    0.539436  \n",
       "hum        -0.248506   -0.089212  \n",
       "wind        1.000000   -0.217915  \n",
       "registered -0.217915    1.000000  "
      ]
     },
     "execution_count": 27,
     "metadata": {},
     "output_type": "execute_result"
    }
   ],
   "source": [
    "# removed \"day\",\"season\",and \"weather\", the R-squared value stays the same 0.964, \n",
    "# and all other variables'p-value is below 0.05\n",
    "\n",
    "# try to find multicollinearity \n",
    "bike_x.drop([\"day\",\"season\",\"weather\"],axis=1).corr()\n"
   ]
  },
  {
   "cell_type": "code",
   "execution_count": 28,
   "metadata": {},
   "outputs": [
    {
     "name": "stdout",
     "output_type": "stream",
     "text": [
      "                            OLS Regression Results                            \n",
      "==============================================================================\n",
      "Dep. Variable:                    cnt   R-squared:                       0.964\n",
      "Model:                            OLS   Adj. R-squared:                  0.964\n",
      "Method:                 Least Squares   F-statistic:                     2431.\n",
      "Date:                Fri, 19 Aug 2022   Prob (F-statistic):               0.00\n",
      "Time:                        11:38:32   Log-Likelihood:                -5344.3\n",
      "No. Observations:                 730   AIC:                         1.071e+04\n",
      "Df Residuals:                     721   BIC:                         1.075e+04\n",
      "Df Model:                           8                                         \n",
      "Covariance Type:            nonrobust                                         \n",
      "==============================================================================\n",
      "                 coef    std err          t      P>|t|      [0.025      0.975]\n",
      "------------------------------------------------------------------------------\n",
      "const        567.6287    100.146      5.668      0.000     371.015     764.242\n",
      "month        -15.0133      4.331     -3.466      0.001     -23.517      -6.510\n",
      "holiday     -232.6659     84.738     -2.746      0.006    -399.028     -66.304\n",
      "weekday       18.5594      6.850      2.710      0.007       5.112      32.007\n",
      "workingday  -989.7982     32.257    -30.684      0.000   -1053.128    -926.469\n",
      "temp          35.2969      2.234     15.801      0.000      30.911      39.682\n",
      "hum           -3.5628      1.058     -3.368      0.001      -5.639      -1.486\n",
      "wind          -9.3524      2.813     -3.324      0.001     -14.876      -3.829\n",
      "registered     0.0240      0.000     97.600      0.000       0.024       0.025\n",
      "==============================================================================\n",
      "Omnibus:                      121.165   Durbin-Watson:                   1.126\n",
      "Prob(Omnibus):                  0.000   Jarque-Bera (JB):              264.716\n",
      "Skew:                           0.916   Prob(JB):                     3.29e-58\n",
      "Kurtosis:                       5.312   Cond. No.                     1.45e+06\n",
      "==============================================================================\n",
      "\n",
      "Warnings:\n",
      "[1] Standard Errors assume that the covariance matrix of the errors is correctly specified.\n",
      "[2] The condition number is large, 1.45e+06. This might indicate that there are\n",
      "strong multicollinearity or other numerical problems.\n"
     ]
    }
   ],
   "source": [
    "# no correlations are higher than 0.7, or lower than -0.7\n",
    "# so this is the final model\n",
    "\n",
    "x2 = sm.add_constant(bike_x.drop([\"day\",\"season\",\"weather\"],axis=1))\n",
    "est_b= sm.OLS(bike_y,x2)\n",
    "est2_b=est_b.fit()\n",
    "\n",
    "print (est2_b.summary())"
   ]
  },
  {
   "cell_type": "markdown",
   "metadata": {},
   "source": [
    "### 1.3 Conclusions and Decisions."
   ]
  },
  {
   "cell_type": "markdown",
   "metadata": {},
   "source": [
    "### For example, higher temperature results in higher count, the company will need more bikes on higher temperature day, because the coefficient of temp is positive."
   ]
  },
  {
   "cell_type": "code",
   "execution_count": null,
   "metadata": {},
   "outputs": [],
   "source": []
  }
 ],
 "metadata": {
  "kernelspec": {
   "display_name": "Python 3",
   "language": "python",
   "name": "python3"
  },
  "language_info": {
   "codemirror_mode": {
    "name": "ipython",
    "version": 3
   },
   "file_extension": ".py",
   "mimetype": "text/x-python",
   "name": "python",
   "nbconvert_exporter": "python",
   "pygments_lexer": "ipython3",
   "version": "3.7.6"
  }
 },
 "nbformat": 4,
 "nbformat_minor": 4
}
